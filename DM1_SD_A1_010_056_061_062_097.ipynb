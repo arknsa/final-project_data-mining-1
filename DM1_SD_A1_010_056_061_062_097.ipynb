{
  "cells": [
    {
      "cell_type": "markdown",
      "metadata": {
        "id": "DhlqinXCdqzX"
      },
      "source": [
        "# Analisis Clustering Hotel di Pulau Bali Berdasarkan Harga, Rating, Review, dan Fasilitas"
      ]
    },
    {
      "cell_type": "markdown",
      "metadata": {
        "id": "fMbwg-KkcOHu"
      },
      "source": [
        "## Introduction\n",
        "\n",
        "Halo! <br>\n",
        "Kami dari kelompok F Data Mining SD-A1:\n",
        "\n",
        "* Aqila Hana Winanggoro\t (164221010)\n",
        "* Herman Effendi\t\t\t(164221056)\n",
        "* Tika Dian Pangastuti\t\t(164221061)\n",
        "* Arkan Syafiq At’taqy\t\t(164221062)\n",
        "* Nisrina Khairunisa \t\t(164221097)\n",
        "\n",
        "\n",
        "\n",
        "\n"
      ]
    },
    {
      "cell_type": "markdown",
      "metadata": {
        "id": "xf7wfYx4d2hY"
      },
      "source": [
        "Dataset can be accessed:\n",
        "https://drive.google.com/file/d/1Q-XpDbwXjlFFPXsjgrFfThb_am3HiH8_/view?usp=drive_link\n",
        "\n",
        "Further explanation below:\n",
        "\n",
        "`all.csv` - dataset\n",
        "\n",
        "\n",
        "\n",
        "\n"
      ]
    },
    {
      "cell_type": "markdown",
      "metadata": {
        "id": "K57ikH9NeH8y"
      },
      "source": [
        "# Data Understanding 🔎"
      ]
    },
    {
      "cell_type": "markdown",
      "metadata": {
        "id": "ADrH_9LMeE05"
      },
      "source": [
        "## Library"
      ]
    },
    {
      "cell_type": "code",
      "execution_count": null,
      "metadata": {
        "id": "NG0tyCHeqDNp"
      },
      "outputs": [],
      "source": [
        "import numpy as np\n",
        "import pandas as pd\n",
        "import seaborn as sns\n",
        "import matplotlib.pyplot as plt\n",
        "from sklearn.preprocessing import MinMaxScaler, RobustScaler, StandardScaler\n",
        "from sklearn.preprocessing import LabelEncoder\n",
        "from sklearn.impute import SimpleImputer\n",
        "from mpl_toolkits.mplot3d import Axes3D\n",
        "from sklearn.decomposition import PCA\n",
        "from sklearn.cluster import KMeans\n",
        "from sklearn.metrics import silhouette_samples, silhouette_score"
      ]
    },
    {
      "cell_type": "markdown",
      "metadata": {
        "id": "IsIqa41aeKiT"
      },
      "source": [
        "## Read Data"
      ]
    },
    {
      "cell_type": "code",
      "execution_count": null,
      "metadata": {
        "colab": {
          "base_uri": "https://localhost:8080/",
          "height": 423
        },
        "id": "DaSqP_kIqVYK",
        "outputId": "1145d54e-4f64-4d72-f13c-c66098b2db89"
      },
      "outputs": [
        {
          "output_type": "execute_result",
          "data": {
            "text/plain": [
              "                                           nama         harga  \\\n",
              "0                  ASTON Kuta Hotel & Residence    Rp 734.194   \n",
              "1                            Brits Hotel Legian    Rp 422.004   \n",
              "2                          Harper Kuta by ASTON    Rp 650.826   \n",
              "3                             Atanaya Kuta Bali    Rp 670.000   \n",
              "4                Wyndham Garden Kuta Beach Bali  Rp 1.167.769   \n",
              "..                                          ...           ...   \n",
              "259                                Hotel Karthi    Rp 289.256   \n",
              "260                                Bali Bungalo    Rp 590.909   \n",
              "261  Cattleya Pool Suite - Seminyak by Marbella    Rp 910.301   \n",
              "262                    The Akasha Luxury Villas  Rp 3.910.050   \n",
              "263                 Interconnection Hostel Kuta    Rp 460.542   \n",
              "\n",
              "             reviews                rating  \\\n",
              "0    (2.4K reviews)    8.6 (2.4K reviews)    \n",
              "1    (2.1K reviews)    8.6 (2.1K reviews)    \n",
              "2    (2.9K reviews)    8.6 (2.9K reviews)    \n",
              "3     (10K reviews)     8.6 (10K reviews)    \n",
              "4    (1.4K reviews)    8.1 (1.4K reviews)    \n",
              "..               ...                   ...   \n",
              "259   (693 reviews)     8.4 (693 reviews)    \n",
              "260    (58 reviews)      8.1 (58 reviews)    \n",
              "261   (219 reviews)     8.2 (219 reviews)    \n",
              "262    (37 reviews)      8.7 (37 reviews)    \n",
              "263    (70 reviews)      8.8 (70 reviews)    \n",
              "\n",
              "                                            facilities  \n",
              "0    Hot tub\\nKids club\\nMassage\\nFitness center\\nP...  \n",
              "1    Top picked by Family with children\\nPay at Hot...  \n",
              "2    Pay at Hotel\\nMassage\\nAirport transfer\\nSauna...  \n",
              "3    Babysitting\\nPoolside bar\\nWheelchair accessib...  \n",
              "4    Pay at Hotel\\nBabysitting\\nBicycle rental\\nCar...  \n",
              "..                                                 ...  \n",
              "259                                            Massage  \n",
              "260  Bicycle storage\\nClothes dryer\\nBicycle rental...  \n",
              "261  Pay at Hotel\\nBanana boat\\nBeach volleyball\\nB...  \n",
              "262  Surfing\\nHorse riding\\nMassage\\nKitchenette\\nE...  \n",
              "263                                         Car rental  \n",
              "\n",
              "[264 rows x 5 columns]"
            ],
            "text/html": [
              "\n",
              "  <div id=\"df-d2650cce-6c42-4f1e-ad0d-2a29f82a384e\" class=\"colab-df-container\">\n",
              "    <div>\n",
              "<style scoped>\n",
              "    .dataframe tbody tr th:only-of-type {\n",
              "        vertical-align: middle;\n",
              "    }\n",
              "\n",
              "    .dataframe tbody tr th {\n",
              "        vertical-align: top;\n",
              "    }\n",
              "\n",
              "    .dataframe thead th {\n",
              "        text-align: right;\n",
              "    }\n",
              "</style>\n",
              "<table border=\"1\" class=\"dataframe\">\n",
              "  <thead>\n",
              "    <tr style=\"text-align: right;\">\n",
              "      <th></th>\n",
              "      <th>nama</th>\n",
              "      <th>harga</th>\n",
              "      <th>reviews</th>\n",
              "      <th>rating</th>\n",
              "      <th>facilities</th>\n",
              "    </tr>\n",
              "  </thead>\n",
              "  <tbody>\n",
              "    <tr>\n",
              "      <th>0</th>\n",
              "      <td>ASTON Kuta Hotel &amp; Residence</td>\n",
              "      <td>Rp 734.194</td>\n",
              "      <td>(2.4K reviews)</td>\n",
              "      <td>8.6 (2.4K reviews)</td>\n",
              "      <td>Hot tub\\nKids club\\nMassage\\nFitness center\\nP...</td>\n",
              "    </tr>\n",
              "    <tr>\n",
              "      <th>1</th>\n",
              "      <td>Brits Hotel Legian</td>\n",
              "      <td>Rp 422.004</td>\n",
              "      <td>(2.1K reviews)</td>\n",
              "      <td>8.6 (2.1K reviews)</td>\n",
              "      <td>Top picked by Family with children\\nPay at Hot...</td>\n",
              "    </tr>\n",
              "    <tr>\n",
              "      <th>2</th>\n",
              "      <td>Harper Kuta by ASTON</td>\n",
              "      <td>Rp 650.826</td>\n",
              "      <td>(2.9K reviews)</td>\n",
              "      <td>8.6 (2.9K reviews)</td>\n",
              "      <td>Pay at Hotel\\nMassage\\nAirport transfer\\nSauna...</td>\n",
              "    </tr>\n",
              "    <tr>\n",
              "      <th>3</th>\n",
              "      <td>Atanaya Kuta Bali</td>\n",
              "      <td>Rp 670.000</td>\n",
              "      <td>(10K reviews)</td>\n",
              "      <td>8.6 (10K reviews)</td>\n",
              "      <td>Babysitting\\nPoolside bar\\nWheelchair accessib...</td>\n",
              "    </tr>\n",
              "    <tr>\n",
              "      <th>4</th>\n",
              "      <td>Wyndham Garden Kuta Beach Bali</td>\n",
              "      <td>Rp 1.167.769</td>\n",
              "      <td>(1.4K reviews)</td>\n",
              "      <td>8.1 (1.4K reviews)</td>\n",
              "      <td>Pay at Hotel\\nBabysitting\\nBicycle rental\\nCar...</td>\n",
              "    </tr>\n",
              "    <tr>\n",
              "      <th>...</th>\n",
              "      <td>...</td>\n",
              "      <td>...</td>\n",
              "      <td>...</td>\n",
              "      <td>...</td>\n",
              "      <td>...</td>\n",
              "    </tr>\n",
              "    <tr>\n",
              "      <th>259</th>\n",
              "      <td>Hotel Karthi</td>\n",
              "      <td>Rp 289.256</td>\n",
              "      <td>(693 reviews)</td>\n",
              "      <td>8.4 (693 reviews)</td>\n",
              "      <td>Massage</td>\n",
              "    </tr>\n",
              "    <tr>\n",
              "      <th>260</th>\n",
              "      <td>Bali Bungalo</td>\n",
              "      <td>Rp 590.909</td>\n",
              "      <td>(58 reviews)</td>\n",
              "      <td>8.1 (58 reviews)</td>\n",
              "      <td>Bicycle storage\\nClothes dryer\\nBicycle rental...</td>\n",
              "    </tr>\n",
              "    <tr>\n",
              "      <th>261</th>\n",
              "      <td>Cattleya Pool Suite - Seminyak by Marbella</td>\n",
              "      <td>Rp 910.301</td>\n",
              "      <td>(219 reviews)</td>\n",
              "      <td>8.2 (219 reviews)</td>\n",
              "      <td>Pay at Hotel\\nBanana boat\\nBeach volleyball\\nB...</td>\n",
              "    </tr>\n",
              "    <tr>\n",
              "      <th>262</th>\n",
              "      <td>The Akasha Luxury Villas</td>\n",
              "      <td>Rp 3.910.050</td>\n",
              "      <td>(37 reviews)</td>\n",
              "      <td>8.7 (37 reviews)</td>\n",
              "      <td>Surfing\\nHorse riding\\nMassage\\nKitchenette\\nE...</td>\n",
              "    </tr>\n",
              "    <tr>\n",
              "      <th>263</th>\n",
              "      <td>Interconnection Hostel Kuta</td>\n",
              "      <td>Rp 460.542</td>\n",
              "      <td>(70 reviews)</td>\n",
              "      <td>8.8 (70 reviews)</td>\n",
              "      <td>Car rental</td>\n",
              "    </tr>\n",
              "  </tbody>\n",
              "</table>\n",
              "<p>264 rows × 5 columns</p>\n",
              "</div>\n",
              "    <div class=\"colab-df-buttons\">\n",
              "\n",
              "  <div class=\"colab-df-container\">\n",
              "    <button class=\"colab-df-convert\" onclick=\"convertToInteractive('df-d2650cce-6c42-4f1e-ad0d-2a29f82a384e')\"\n",
              "            title=\"Convert this dataframe to an interactive table.\"\n",
              "            style=\"display:none;\">\n",
              "\n",
              "  <svg xmlns=\"http://www.w3.org/2000/svg\" height=\"24px\" viewBox=\"0 -960 960 960\">\n",
              "    <path d=\"M120-120v-720h720v720H120Zm60-500h600v-160H180v160Zm220 220h160v-160H400v160Zm0 220h160v-160H400v160ZM180-400h160v-160H180v160Zm440 0h160v-160H620v160ZM180-180h160v-160H180v160Zm440 0h160v-160H620v160Z\"/>\n",
              "  </svg>\n",
              "    </button>\n",
              "\n",
              "  <style>\n",
              "    .colab-df-container {\n",
              "      display:flex;\n",
              "      gap: 12px;\n",
              "    }\n",
              "\n",
              "    .colab-df-convert {\n",
              "      background-color: #E8F0FE;\n",
              "      border: none;\n",
              "      border-radius: 50%;\n",
              "      cursor: pointer;\n",
              "      display: none;\n",
              "      fill: #1967D2;\n",
              "      height: 32px;\n",
              "      padding: 0 0 0 0;\n",
              "      width: 32px;\n",
              "    }\n",
              "\n",
              "    .colab-df-convert:hover {\n",
              "      background-color: #E2EBFA;\n",
              "      box-shadow: 0px 1px 2px rgba(60, 64, 67, 0.3), 0px 1px 3px 1px rgba(60, 64, 67, 0.15);\n",
              "      fill: #174EA6;\n",
              "    }\n",
              "\n",
              "    .colab-df-buttons div {\n",
              "      margin-bottom: 4px;\n",
              "    }\n",
              "\n",
              "    [theme=dark] .colab-df-convert {\n",
              "      background-color: #3B4455;\n",
              "      fill: #D2E3FC;\n",
              "    }\n",
              "\n",
              "    [theme=dark] .colab-df-convert:hover {\n",
              "      background-color: #434B5C;\n",
              "      box-shadow: 0px 1px 3px 1px rgba(0, 0, 0, 0.15);\n",
              "      filter: drop-shadow(0px 1px 2px rgba(0, 0, 0, 0.3));\n",
              "      fill: #FFFFFF;\n",
              "    }\n",
              "  </style>\n",
              "\n",
              "    <script>\n",
              "      const buttonEl =\n",
              "        document.querySelector('#df-d2650cce-6c42-4f1e-ad0d-2a29f82a384e button.colab-df-convert');\n",
              "      buttonEl.style.display =\n",
              "        google.colab.kernel.accessAllowed ? 'block' : 'none';\n",
              "\n",
              "      async function convertToInteractive(key) {\n",
              "        const element = document.querySelector('#df-d2650cce-6c42-4f1e-ad0d-2a29f82a384e');\n",
              "        const dataTable =\n",
              "          await google.colab.kernel.invokeFunction('convertToInteractive',\n",
              "                                                    [key], {});\n",
              "        if (!dataTable) return;\n",
              "\n",
              "        const docLinkHtml = 'Like what you see? Visit the ' +\n",
              "          '<a target=\"_blank\" href=https://colab.research.google.com/notebooks/data_table.ipynb>data table notebook</a>'\n",
              "          + ' to learn more about interactive tables.';\n",
              "        element.innerHTML = '';\n",
              "        dataTable['output_type'] = 'display_data';\n",
              "        await google.colab.output.renderOutput(dataTable, element);\n",
              "        const docLink = document.createElement('div');\n",
              "        docLink.innerHTML = docLinkHtml;\n",
              "        element.appendChild(docLink);\n",
              "      }\n",
              "    </script>\n",
              "  </div>\n",
              "\n",
              "\n",
              "<div id=\"df-73b38d69-28a9-400c-aade-daf367e39a3b\">\n",
              "  <button class=\"colab-df-quickchart\" onclick=\"quickchart('df-73b38d69-28a9-400c-aade-daf367e39a3b')\"\n",
              "            title=\"Suggest charts\"\n",
              "            style=\"display:none;\">\n",
              "\n",
              "<svg xmlns=\"http://www.w3.org/2000/svg\" height=\"24px\"viewBox=\"0 0 24 24\"\n",
              "     width=\"24px\">\n",
              "    <g>\n",
              "        <path d=\"M19 3H5c-1.1 0-2 .9-2 2v14c0 1.1.9 2 2 2h14c1.1 0 2-.9 2-2V5c0-1.1-.9-2-2-2zM9 17H7v-7h2v7zm4 0h-2V7h2v10zm4 0h-2v-4h2v4z\"/>\n",
              "    </g>\n",
              "</svg>\n",
              "  </button>\n",
              "\n",
              "<style>\n",
              "  .colab-df-quickchart {\n",
              "      --bg-color: #E8F0FE;\n",
              "      --fill-color: #1967D2;\n",
              "      --hover-bg-color: #E2EBFA;\n",
              "      --hover-fill-color: #174EA6;\n",
              "      --disabled-fill-color: #AAA;\n",
              "      --disabled-bg-color: #DDD;\n",
              "  }\n",
              "\n",
              "  [theme=dark] .colab-df-quickchart {\n",
              "      --bg-color: #3B4455;\n",
              "      --fill-color: #D2E3FC;\n",
              "      --hover-bg-color: #434B5C;\n",
              "      --hover-fill-color: #FFFFFF;\n",
              "      --disabled-bg-color: #3B4455;\n",
              "      --disabled-fill-color: #666;\n",
              "  }\n",
              "\n",
              "  .colab-df-quickchart {\n",
              "    background-color: var(--bg-color);\n",
              "    border: none;\n",
              "    border-radius: 50%;\n",
              "    cursor: pointer;\n",
              "    display: none;\n",
              "    fill: var(--fill-color);\n",
              "    height: 32px;\n",
              "    padding: 0;\n",
              "    width: 32px;\n",
              "  }\n",
              "\n",
              "  .colab-df-quickchart:hover {\n",
              "    background-color: var(--hover-bg-color);\n",
              "    box-shadow: 0 1px 2px rgba(60, 64, 67, 0.3), 0 1px 3px 1px rgba(60, 64, 67, 0.15);\n",
              "    fill: var(--button-hover-fill-color);\n",
              "  }\n",
              "\n",
              "  .colab-df-quickchart-complete:disabled,\n",
              "  .colab-df-quickchart-complete:disabled:hover {\n",
              "    background-color: var(--disabled-bg-color);\n",
              "    fill: var(--disabled-fill-color);\n",
              "    box-shadow: none;\n",
              "  }\n",
              "\n",
              "  .colab-df-spinner {\n",
              "    border: 2px solid var(--fill-color);\n",
              "    border-color: transparent;\n",
              "    border-bottom-color: var(--fill-color);\n",
              "    animation:\n",
              "      spin 1s steps(1) infinite;\n",
              "  }\n",
              "\n",
              "  @keyframes spin {\n",
              "    0% {\n",
              "      border-color: transparent;\n",
              "      border-bottom-color: var(--fill-color);\n",
              "      border-left-color: var(--fill-color);\n",
              "    }\n",
              "    20% {\n",
              "      border-color: transparent;\n",
              "      border-left-color: var(--fill-color);\n",
              "      border-top-color: var(--fill-color);\n",
              "    }\n",
              "    30% {\n",
              "      border-color: transparent;\n",
              "      border-left-color: var(--fill-color);\n",
              "      border-top-color: var(--fill-color);\n",
              "      border-right-color: var(--fill-color);\n",
              "    }\n",
              "    40% {\n",
              "      border-color: transparent;\n",
              "      border-right-color: var(--fill-color);\n",
              "      border-top-color: var(--fill-color);\n",
              "    }\n",
              "    60% {\n",
              "      border-color: transparent;\n",
              "      border-right-color: var(--fill-color);\n",
              "    }\n",
              "    80% {\n",
              "      border-color: transparent;\n",
              "      border-right-color: var(--fill-color);\n",
              "      border-bottom-color: var(--fill-color);\n",
              "    }\n",
              "    90% {\n",
              "      border-color: transparent;\n",
              "      border-bottom-color: var(--fill-color);\n",
              "    }\n",
              "  }\n",
              "</style>\n",
              "\n",
              "  <script>\n",
              "    async function quickchart(key) {\n",
              "      const quickchartButtonEl =\n",
              "        document.querySelector('#' + key + ' button');\n",
              "      quickchartButtonEl.disabled = true;  // To prevent multiple clicks.\n",
              "      quickchartButtonEl.classList.add('colab-df-spinner');\n",
              "      try {\n",
              "        const charts = await google.colab.kernel.invokeFunction(\n",
              "            'suggestCharts', [key], {});\n",
              "      } catch (error) {\n",
              "        console.error('Error during call to suggestCharts:', error);\n",
              "      }\n",
              "      quickchartButtonEl.classList.remove('colab-df-spinner');\n",
              "      quickchartButtonEl.classList.add('colab-df-quickchart-complete');\n",
              "    }\n",
              "    (() => {\n",
              "      let quickchartButtonEl =\n",
              "        document.querySelector('#df-73b38d69-28a9-400c-aade-daf367e39a3b button');\n",
              "      quickchartButtonEl.style.display =\n",
              "        google.colab.kernel.accessAllowed ? 'block' : 'none';\n",
              "    })();\n",
              "  </script>\n",
              "</div>\n",
              "    </div>\n",
              "  </div>\n"
            ],
            "application/vnd.google.colaboratory.intrinsic+json": {
              "type": "dataframe",
              "variable_name": "df",
              "summary": "{\n  \"name\": \"df\",\n  \"rows\": 264,\n  \"fields\": [\n    {\n      \"column\": \"nama\",\n      \"properties\": {\n        \"dtype\": \"string\",\n        \"num_unique_values\": 255,\n        \"samples\": [\n          \"Fourteen Roses Beach Hotel\",\n          \"Potato Head Suites & Studios\",\n          \"Sans Sunset Point Seminyak\"\n        ],\n        \"semantic_type\": \"\",\n        \"description\": \"\"\n      }\n    },\n    {\n      \"column\": \"harga\",\n      \"properties\": {\n        \"dtype\": \"string\",\n        \"num_unique_values\": 243,\n        \"samples\": [\n          \"Rp 477.686\",\n          \"Rp 4.720.661\",\n          \"Rp 1.151.405\"\n        ],\n        \"semantic_type\": \"\",\n        \"description\": \"\"\n      }\n    },\n    {\n      \"column\": \"reviews\",\n      \"properties\": {\n        \"dtype\": \"string\",\n        \"num_unique_values\": 187,\n        \"samples\": [\n          \"(37 reviews) \",\n          \"(542 reviews) \",\n          \"(656 reviews) \"\n        ],\n        \"semantic_type\": \"\",\n        \"description\": \"\"\n      }\n    },\n    {\n      \"column\": \"rating\",\n      \"properties\": {\n        \"dtype\": \"string\",\n        \"num_unique_values\": 242,\n        \"samples\": [\n          \" 8.5 (253 reviews) \",\n          \" 9.2 (204 reviews) \",\n          \" 8.8 (110 reviews) \"\n        ],\n        \"semantic_type\": \"\",\n        \"description\": \"\"\n      }\n    },\n    {\n      \"column\": \"facilities\",\n      \"properties\": {\n        \"dtype\": \"string\",\n        \"num_unique_values\": 223,\n        \"samples\": [\n          \"Pay at Hotel\\nBicycle rental\\nCar rental\\nAirport transfer\",\n          \"Beach towel\\nMassage\\nPool sun loungers\\nSpa\",\n          \"Car rental\\nFitness center\"\n        ],\n        \"semantic_type\": \"\",\n        \"description\": \"\"\n      }\n    }\n  ]\n}"
            }
          },
          "metadata": {},
          "execution_count": 2
        }
      ],
      "source": [
        "df = pd.read_csv(\"/content/all.csv\")\n",
        "pd.set_option('display.max_columns', None)\n",
        "df"
      ]
    },
    {
      "cell_type": "markdown",
      "metadata": {
        "id": "f6_U_O20ryle"
      },
      "source": [
        "## Information of Dataset"
      ]
    },
    {
      "cell_type": "code",
      "execution_count": null,
      "metadata": {
        "colab": {
          "base_uri": "https://localhost:8080/"
        },
        "id": "rX6yGxI4qpnR",
        "outputId": "17a1095f-9845-4ba0-9ee9-896017a08064"
      },
      "outputs": [
        {
          "output_type": "stream",
          "name": "stdout",
          "text": [
            "<class 'pandas.core.frame.DataFrame'>\n",
            "RangeIndex: 264 entries, 0 to 263\n",
            "Data columns (total 5 columns):\n",
            " #   Column      Non-Null Count  Dtype \n",
            "---  ------      --------------  ----- \n",
            " 0   nama        264 non-null    object\n",
            " 1   harga       264 non-null    object\n",
            " 2   reviews     264 non-null    object\n",
            " 3   rating      264 non-null    object\n",
            " 4   facilities  264 non-null    object\n",
            "dtypes: object(5)\n",
            "memory usage: 10.4+ KB\n"
          ]
        }
      ],
      "source": [
        "df.info()"
      ]
    },
    {
      "cell_type": "markdown",
      "metadata": {
        "id": "XsKaEYYrrwCQ"
      },
      "source": [
        "## Data Dimension"
      ]
    },
    {
      "cell_type": "code",
      "execution_count": null,
      "metadata": {
        "colab": {
          "base_uri": "https://localhost:8080/"
        },
        "id": "waGOdblTq6RC",
        "outputId": "554668c5-b3f6-4280-d957-0d7ed91a2aa2"
      },
      "outputs": [
        {
          "output_type": "execute_result",
          "data": {
            "text/plain": [
              "(264, 5)"
            ]
          },
          "metadata": {},
          "execution_count": 4
        }
      ],
      "source": [
        "df.shape"
      ]
    },
    {
      "cell_type": "markdown",
      "metadata": {
        "id": "2K90vMz3sBE9"
      },
      "source": [
        "## Column"
      ]
    },
    {
      "cell_type": "code",
      "execution_count": null,
      "metadata": {
        "colab": {
          "base_uri": "https://localhost:8080/"
        },
        "id": "sN3POoSZsAJ9",
        "outputId": "b72f2695-bc1f-40d3-c275-7ad4c484e73e"
      },
      "outputs": [
        {
          "output_type": "stream",
          "name": "stdout",
          "text": [
            "There are 0 Numerical Columns in Train dfset\n",
            "There are 5 Categorical Columns in Train dfset\n"
          ]
        }
      ],
      "source": [
        "# Identify the df types of columns\n",
        "column_df_types = df.dtypes\n",
        "\n",
        "# Count the numerical and categorical columns\n",
        "numerical_count = 0\n",
        "categorical_count = 0\n",
        "\n",
        "for column_name, df_type in column_df_types.items():\n",
        "    if np.issubdtype(df_type, np.number):\n",
        "        numerical_count += 1\n",
        "    else:\n",
        "        categorical_count += 1\n",
        "\n",
        "# Print the counts\n",
        "print(f\"There are {numerical_count} Numerical Columns in Train dfset\")\n",
        "print(f\"There are {categorical_count} Categorical Columns in Train dfset\")"
      ]
    },
    {
      "cell_type": "markdown",
      "metadata": {
        "id": "u4cgbaXJsEzQ"
      },
      "source": [
        "## Descriptive Statistic"
      ]
    },
    {
      "cell_type": "code",
      "execution_count": null,
      "metadata": {
        "colab": {
          "base_uri": "https://localhost:8080/",
          "height": 175
        },
        "id": "layt6gYxsHmz",
        "outputId": "ff805aa5-7161-4007-b70a-40c4b9369352"
      },
      "outputs": [
        {
          "output_type": "execute_result",
          "data": {
            "text/plain": [
              "                        nama       harga          reviews              rating  \\\n",
              "count                    264         264              264                 264   \n",
              "unique                   255         243              187                 242   \n",
              "top     Coast Boutique Hotel  Rp 247.934  (1.5K reviews)    8.5 (54 reviews)    \n",
              "freq                       2           5                7                   2   \n",
              "\n",
              "          facilities  \n",
              "count            264  \n",
              "unique           223  \n",
              "top     Pay at Hotel  \n",
              "freq               8  "
            ],
            "text/html": [
              "\n",
              "  <div id=\"df-bd3cdadc-4f63-44b6-8d55-9d05cb6814bc\" class=\"colab-df-container\">\n",
              "    <div>\n",
              "<style scoped>\n",
              "    .dataframe tbody tr th:only-of-type {\n",
              "        vertical-align: middle;\n",
              "    }\n",
              "\n",
              "    .dataframe tbody tr th {\n",
              "        vertical-align: top;\n",
              "    }\n",
              "\n",
              "    .dataframe thead th {\n",
              "        text-align: right;\n",
              "    }\n",
              "</style>\n",
              "<table border=\"1\" class=\"dataframe\">\n",
              "  <thead>\n",
              "    <tr style=\"text-align: right;\">\n",
              "      <th></th>\n",
              "      <th>nama</th>\n",
              "      <th>harga</th>\n",
              "      <th>reviews</th>\n",
              "      <th>rating</th>\n",
              "      <th>facilities</th>\n",
              "    </tr>\n",
              "  </thead>\n",
              "  <tbody>\n",
              "    <tr>\n",
              "      <th>count</th>\n",
              "      <td>264</td>\n",
              "      <td>264</td>\n",
              "      <td>264</td>\n",
              "      <td>264</td>\n",
              "      <td>264</td>\n",
              "    </tr>\n",
              "    <tr>\n",
              "      <th>unique</th>\n",
              "      <td>255</td>\n",
              "      <td>243</td>\n",
              "      <td>187</td>\n",
              "      <td>242</td>\n",
              "      <td>223</td>\n",
              "    </tr>\n",
              "    <tr>\n",
              "      <th>top</th>\n",
              "      <td>Coast Boutique Hotel</td>\n",
              "      <td>Rp 247.934</td>\n",
              "      <td>(1.5K reviews)</td>\n",
              "      <td>8.5 (54 reviews)</td>\n",
              "      <td>Pay at Hotel</td>\n",
              "    </tr>\n",
              "    <tr>\n",
              "      <th>freq</th>\n",
              "      <td>2</td>\n",
              "      <td>5</td>\n",
              "      <td>7</td>\n",
              "      <td>2</td>\n",
              "      <td>8</td>\n",
              "    </tr>\n",
              "  </tbody>\n",
              "</table>\n",
              "</div>\n",
              "    <div class=\"colab-df-buttons\">\n",
              "\n",
              "  <div class=\"colab-df-container\">\n",
              "    <button class=\"colab-df-convert\" onclick=\"convertToInteractive('df-bd3cdadc-4f63-44b6-8d55-9d05cb6814bc')\"\n",
              "            title=\"Convert this dataframe to an interactive table.\"\n",
              "            style=\"display:none;\">\n",
              "\n",
              "  <svg xmlns=\"http://www.w3.org/2000/svg\" height=\"24px\" viewBox=\"0 -960 960 960\">\n",
              "    <path d=\"M120-120v-720h720v720H120Zm60-500h600v-160H180v160Zm220 220h160v-160H400v160Zm0 220h160v-160H400v160ZM180-400h160v-160H180v160Zm440 0h160v-160H620v160ZM180-180h160v-160H180v160Zm440 0h160v-160H620v160Z\"/>\n",
              "  </svg>\n",
              "    </button>\n",
              "\n",
              "  <style>\n",
              "    .colab-df-container {\n",
              "      display:flex;\n",
              "      gap: 12px;\n",
              "    }\n",
              "\n",
              "    .colab-df-convert {\n",
              "      background-color: #E8F0FE;\n",
              "      border: none;\n",
              "      border-radius: 50%;\n",
              "      cursor: pointer;\n",
              "      display: none;\n",
              "      fill: #1967D2;\n",
              "      height: 32px;\n",
              "      padding: 0 0 0 0;\n",
              "      width: 32px;\n",
              "    }\n",
              "\n",
              "    .colab-df-convert:hover {\n",
              "      background-color: #E2EBFA;\n",
              "      box-shadow: 0px 1px 2px rgba(60, 64, 67, 0.3), 0px 1px 3px 1px rgba(60, 64, 67, 0.15);\n",
              "      fill: #174EA6;\n",
              "    }\n",
              "\n",
              "    .colab-df-buttons div {\n",
              "      margin-bottom: 4px;\n",
              "    }\n",
              "\n",
              "    [theme=dark] .colab-df-convert {\n",
              "      background-color: #3B4455;\n",
              "      fill: #D2E3FC;\n",
              "    }\n",
              "\n",
              "    [theme=dark] .colab-df-convert:hover {\n",
              "      background-color: #434B5C;\n",
              "      box-shadow: 0px 1px 3px 1px rgba(0, 0, 0, 0.15);\n",
              "      filter: drop-shadow(0px 1px 2px rgba(0, 0, 0, 0.3));\n",
              "      fill: #FFFFFF;\n",
              "    }\n",
              "  </style>\n",
              "\n",
              "    <script>\n",
              "      const buttonEl =\n",
              "        document.querySelector('#df-bd3cdadc-4f63-44b6-8d55-9d05cb6814bc button.colab-df-convert');\n",
              "      buttonEl.style.display =\n",
              "        google.colab.kernel.accessAllowed ? 'block' : 'none';\n",
              "\n",
              "      async function convertToInteractive(key) {\n",
              "        const element = document.querySelector('#df-bd3cdadc-4f63-44b6-8d55-9d05cb6814bc');\n",
              "        const dataTable =\n",
              "          await google.colab.kernel.invokeFunction('convertToInteractive',\n",
              "                                                    [key], {});\n",
              "        if (!dataTable) return;\n",
              "\n",
              "        const docLinkHtml = 'Like what you see? Visit the ' +\n",
              "          '<a target=\"_blank\" href=https://colab.research.google.com/notebooks/data_table.ipynb>data table notebook</a>'\n",
              "          + ' to learn more about interactive tables.';\n",
              "        element.innerHTML = '';\n",
              "        dataTable['output_type'] = 'display_data';\n",
              "        await google.colab.output.renderOutput(dataTable, element);\n",
              "        const docLink = document.createElement('div');\n",
              "        docLink.innerHTML = docLinkHtml;\n",
              "        element.appendChild(docLink);\n",
              "      }\n",
              "    </script>\n",
              "  </div>\n",
              "\n",
              "\n",
              "<div id=\"df-71162940-4761-4ff6-b16a-510c8a50e5f0\">\n",
              "  <button class=\"colab-df-quickchart\" onclick=\"quickchart('df-71162940-4761-4ff6-b16a-510c8a50e5f0')\"\n",
              "            title=\"Suggest charts\"\n",
              "            style=\"display:none;\">\n",
              "\n",
              "<svg xmlns=\"http://www.w3.org/2000/svg\" height=\"24px\"viewBox=\"0 0 24 24\"\n",
              "     width=\"24px\">\n",
              "    <g>\n",
              "        <path d=\"M19 3H5c-1.1 0-2 .9-2 2v14c0 1.1.9 2 2 2h14c1.1 0 2-.9 2-2V5c0-1.1-.9-2-2-2zM9 17H7v-7h2v7zm4 0h-2V7h2v10zm4 0h-2v-4h2v4z\"/>\n",
              "    </g>\n",
              "</svg>\n",
              "  </button>\n",
              "\n",
              "<style>\n",
              "  .colab-df-quickchart {\n",
              "      --bg-color: #E8F0FE;\n",
              "      --fill-color: #1967D2;\n",
              "      --hover-bg-color: #E2EBFA;\n",
              "      --hover-fill-color: #174EA6;\n",
              "      --disabled-fill-color: #AAA;\n",
              "      --disabled-bg-color: #DDD;\n",
              "  }\n",
              "\n",
              "  [theme=dark] .colab-df-quickchart {\n",
              "      --bg-color: #3B4455;\n",
              "      --fill-color: #D2E3FC;\n",
              "      --hover-bg-color: #434B5C;\n",
              "      --hover-fill-color: #FFFFFF;\n",
              "      --disabled-bg-color: #3B4455;\n",
              "      --disabled-fill-color: #666;\n",
              "  }\n",
              "\n",
              "  .colab-df-quickchart {\n",
              "    background-color: var(--bg-color);\n",
              "    border: none;\n",
              "    border-radius: 50%;\n",
              "    cursor: pointer;\n",
              "    display: none;\n",
              "    fill: var(--fill-color);\n",
              "    height: 32px;\n",
              "    padding: 0;\n",
              "    width: 32px;\n",
              "  }\n",
              "\n",
              "  .colab-df-quickchart:hover {\n",
              "    background-color: var(--hover-bg-color);\n",
              "    box-shadow: 0 1px 2px rgba(60, 64, 67, 0.3), 0 1px 3px 1px rgba(60, 64, 67, 0.15);\n",
              "    fill: var(--button-hover-fill-color);\n",
              "  }\n",
              "\n",
              "  .colab-df-quickchart-complete:disabled,\n",
              "  .colab-df-quickchart-complete:disabled:hover {\n",
              "    background-color: var(--disabled-bg-color);\n",
              "    fill: var(--disabled-fill-color);\n",
              "    box-shadow: none;\n",
              "  }\n",
              "\n",
              "  .colab-df-spinner {\n",
              "    border: 2px solid var(--fill-color);\n",
              "    border-color: transparent;\n",
              "    border-bottom-color: var(--fill-color);\n",
              "    animation:\n",
              "      spin 1s steps(1) infinite;\n",
              "  }\n",
              "\n",
              "  @keyframes spin {\n",
              "    0% {\n",
              "      border-color: transparent;\n",
              "      border-bottom-color: var(--fill-color);\n",
              "      border-left-color: var(--fill-color);\n",
              "    }\n",
              "    20% {\n",
              "      border-color: transparent;\n",
              "      border-left-color: var(--fill-color);\n",
              "      border-top-color: var(--fill-color);\n",
              "    }\n",
              "    30% {\n",
              "      border-color: transparent;\n",
              "      border-left-color: var(--fill-color);\n",
              "      border-top-color: var(--fill-color);\n",
              "      border-right-color: var(--fill-color);\n",
              "    }\n",
              "    40% {\n",
              "      border-color: transparent;\n",
              "      border-right-color: var(--fill-color);\n",
              "      border-top-color: var(--fill-color);\n",
              "    }\n",
              "    60% {\n",
              "      border-color: transparent;\n",
              "      border-right-color: var(--fill-color);\n",
              "    }\n",
              "    80% {\n",
              "      border-color: transparent;\n",
              "      border-right-color: var(--fill-color);\n",
              "      border-bottom-color: var(--fill-color);\n",
              "    }\n",
              "    90% {\n",
              "      border-color: transparent;\n",
              "      border-bottom-color: var(--fill-color);\n",
              "    }\n",
              "  }\n",
              "</style>\n",
              "\n",
              "  <script>\n",
              "    async function quickchart(key) {\n",
              "      const quickchartButtonEl =\n",
              "        document.querySelector('#' + key + ' button');\n",
              "      quickchartButtonEl.disabled = true;  // To prevent multiple clicks.\n",
              "      quickchartButtonEl.classList.add('colab-df-spinner');\n",
              "      try {\n",
              "        const charts = await google.colab.kernel.invokeFunction(\n",
              "            'suggestCharts', [key], {});\n",
              "      } catch (error) {\n",
              "        console.error('Error during call to suggestCharts:', error);\n",
              "      }\n",
              "      quickchartButtonEl.classList.remove('colab-df-spinner');\n",
              "      quickchartButtonEl.classList.add('colab-df-quickchart-complete');\n",
              "    }\n",
              "    (() => {\n",
              "      let quickchartButtonEl =\n",
              "        document.querySelector('#df-71162940-4761-4ff6-b16a-510c8a50e5f0 button');\n",
              "      quickchartButtonEl.style.display =\n",
              "        google.colab.kernel.accessAllowed ? 'block' : 'none';\n",
              "    })();\n",
              "  </script>\n",
              "</div>\n",
              "    </div>\n",
              "  </div>\n"
            ],
            "application/vnd.google.colaboratory.intrinsic+json": {
              "type": "dataframe",
              "summary": "{\n  \"name\": \"df\",\n  \"rows\": 4,\n  \"fields\": [\n    {\n      \"column\": \"nama\",\n      \"properties\": {\n        \"dtype\": \"string\",\n        \"num_unique_values\": 4,\n        \"samples\": [\n          255,\n          \"2\",\n          \"264\"\n        ],\n        \"semantic_type\": \"\",\n        \"description\": \"\"\n      }\n    },\n    {\n      \"column\": \"harga\",\n      \"properties\": {\n        \"dtype\": \"string\",\n        \"num_unique_values\": 4,\n        \"samples\": [\n          243,\n          \"5\",\n          \"264\"\n        ],\n        \"semantic_type\": \"\",\n        \"description\": \"\"\n      }\n    },\n    {\n      \"column\": \"reviews\",\n      \"properties\": {\n        \"dtype\": \"string\",\n        \"num_unique_values\": 4,\n        \"samples\": [\n          187,\n          \"7\",\n          \"264\"\n        ],\n        \"semantic_type\": \"\",\n        \"description\": \"\"\n      }\n    },\n    {\n      \"column\": \"rating\",\n      \"properties\": {\n        \"dtype\": \"string\",\n        \"num_unique_values\": 4,\n        \"samples\": [\n          242,\n          \"2\",\n          \"264\"\n        ],\n        \"semantic_type\": \"\",\n        \"description\": \"\"\n      }\n    },\n    {\n      \"column\": \"facilities\",\n      \"properties\": {\n        \"dtype\": \"string\",\n        \"num_unique_values\": 4,\n        \"samples\": [\n          223,\n          \"8\",\n          \"264\"\n        ],\n        \"semantic_type\": \"\",\n        \"description\": \"\"\n      }\n    }\n  ]\n}"
            }
          },
          "metadata": {},
          "execution_count": 6
        }
      ],
      "source": [
        "# Desc stat of test dfset numeric cols\n",
        "df.describe()"
      ]
    },
    {
      "cell_type": "code",
      "execution_count": null,
      "metadata": {
        "colab": {
          "base_uri": "https://localhost:8080/",
          "height": 206
        },
        "id": "63O9cMvosHU4",
        "outputId": "db6e8e6e-bceb-447c-f5b4-bec18ee0a353"
      },
      "outputs": [
        {
          "output_type": "execute_result",
          "data": {
            "text/plain": [
              "           count unique                   top freq\n",
              "nama         264    255  Coast Boutique Hotel    2\n",
              "harga        264    243            Rp 247.934    5\n",
              "reviews      264    187       (1.5K reviews)     7\n",
              "rating       264    242     8.5 (54 reviews)     2\n",
              "facilities   264    223          Pay at Hotel    8"
            ],
            "text/html": [
              "\n",
              "  <div id=\"df-abcb26a6-38de-40c4-86ce-88c34171c60e\" class=\"colab-df-container\">\n",
              "    <div>\n",
              "<style scoped>\n",
              "    .dataframe tbody tr th:only-of-type {\n",
              "        vertical-align: middle;\n",
              "    }\n",
              "\n",
              "    .dataframe tbody tr th {\n",
              "        vertical-align: top;\n",
              "    }\n",
              "\n",
              "    .dataframe thead th {\n",
              "        text-align: right;\n",
              "    }\n",
              "</style>\n",
              "<table border=\"1\" class=\"dataframe\">\n",
              "  <thead>\n",
              "    <tr style=\"text-align: right;\">\n",
              "      <th></th>\n",
              "      <th>count</th>\n",
              "      <th>unique</th>\n",
              "      <th>top</th>\n",
              "      <th>freq</th>\n",
              "    </tr>\n",
              "  </thead>\n",
              "  <tbody>\n",
              "    <tr>\n",
              "      <th>nama</th>\n",
              "      <td>264</td>\n",
              "      <td>255</td>\n",
              "      <td>Coast Boutique Hotel</td>\n",
              "      <td>2</td>\n",
              "    </tr>\n",
              "    <tr>\n",
              "      <th>harga</th>\n",
              "      <td>264</td>\n",
              "      <td>243</td>\n",
              "      <td>Rp 247.934</td>\n",
              "      <td>5</td>\n",
              "    </tr>\n",
              "    <tr>\n",
              "      <th>reviews</th>\n",
              "      <td>264</td>\n",
              "      <td>187</td>\n",
              "      <td>(1.5K reviews)</td>\n",
              "      <td>7</td>\n",
              "    </tr>\n",
              "    <tr>\n",
              "      <th>rating</th>\n",
              "      <td>264</td>\n",
              "      <td>242</td>\n",
              "      <td>8.5 (54 reviews)</td>\n",
              "      <td>2</td>\n",
              "    </tr>\n",
              "    <tr>\n",
              "      <th>facilities</th>\n",
              "      <td>264</td>\n",
              "      <td>223</td>\n",
              "      <td>Pay at Hotel</td>\n",
              "      <td>8</td>\n",
              "    </tr>\n",
              "  </tbody>\n",
              "</table>\n",
              "</div>\n",
              "    <div class=\"colab-df-buttons\">\n",
              "\n",
              "  <div class=\"colab-df-container\">\n",
              "    <button class=\"colab-df-convert\" onclick=\"convertToInteractive('df-abcb26a6-38de-40c4-86ce-88c34171c60e')\"\n",
              "            title=\"Convert this dataframe to an interactive table.\"\n",
              "            style=\"display:none;\">\n",
              "\n",
              "  <svg xmlns=\"http://www.w3.org/2000/svg\" height=\"24px\" viewBox=\"0 -960 960 960\">\n",
              "    <path d=\"M120-120v-720h720v720H120Zm60-500h600v-160H180v160Zm220 220h160v-160H400v160Zm0 220h160v-160H400v160ZM180-400h160v-160H180v160Zm440 0h160v-160H620v160ZM180-180h160v-160H180v160Zm440 0h160v-160H620v160Z\"/>\n",
              "  </svg>\n",
              "    </button>\n",
              "\n",
              "  <style>\n",
              "    .colab-df-container {\n",
              "      display:flex;\n",
              "      gap: 12px;\n",
              "    }\n",
              "\n",
              "    .colab-df-convert {\n",
              "      background-color: #E8F0FE;\n",
              "      border: none;\n",
              "      border-radius: 50%;\n",
              "      cursor: pointer;\n",
              "      display: none;\n",
              "      fill: #1967D2;\n",
              "      height: 32px;\n",
              "      padding: 0 0 0 0;\n",
              "      width: 32px;\n",
              "    }\n",
              "\n",
              "    .colab-df-convert:hover {\n",
              "      background-color: #E2EBFA;\n",
              "      box-shadow: 0px 1px 2px rgba(60, 64, 67, 0.3), 0px 1px 3px 1px rgba(60, 64, 67, 0.15);\n",
              "      fill: #174EA6;\n",
              "    }\n",
              "\n",
              "    .colab-df-buttons div {\n",
              "      margin-bottom: 4px;\n",
              "    }\n",
              "\n",
              "    [theme=dark] .colab-df-convert {\n",
              "      background-color: #3B4455;\n",
              "      fill: #D2E3FC;\n",
              "    }\n",
              "\n",
              "    [theme=dark] .colab-df-convert:hover {\n",
              "      background-color: #434B5C;\n",
              "      box-shadow: 0px 1px 3px 1px rgba(0, 0, 0, 0.15);\n",
              "      filter: drop-shadow(0px 1px 2px rgba(0, 0, 0, 0.3));\n",
              "      fill: #FFFFFF;\n",
              "    }\n",
              "  </style>\n",
              "\n",
              "    <script>\n",
              "      const buttonEl =\n",
              "        document.querySelector('#df-abcb26a6-38de-40c4-86ce-88c34171c60e button.colab-df-convert');\n",
              "      buttonEl.style.display =\n",
              "        google.colab.kernel.accessAllowed ? 'block' : 'none';\n",
              "\n",
              "      async function convertToInteractive(key) {\n",
              "        const element = document.querySelector('#df-abcb26a6-38de-40c4-86ce-88c34171c60e');\n",
              "        const dataTable =\n",
              "          await google.colab.kernel.invokeFunction('convertToInteractive',\n",
              "                                                    [key], {});\n",
              "        if (!dataTable) return;\n",
              "\n",
              "        const docLinkHtml = 'Like what you see? Visit the ' +\n",
              "          '<a target=\"_blank\" href=https://colab.research.google.com/notebooks/data_table.ipynb>data table notebook</a>'\n",
              "          + ' to learn more about interactive tables.';\n",
              "        element.innerHTML = '';\n",
              "        dataTable['output_type'] = 'display_data';\n",
              "        await google.colab.output.renderOutput(dataTable, element);\n",
              "        const docLink = document.createElement('div');\n",
              "        docLink.innerHTML = docLinkHtml;\n",
              "        element.appendChild(docLink);\n",
              "      }\n",
              "    </script>\n",
              "  </div>\n",
              "\n",
              "\n",
              "<div id=\"df-83333020-a2cb-49f2-9c5f-607ad7b5667d\">\n",
              "  <button class=\"colab-df-quickchart\" onclick=\"quickchart('df-83333020-a2cb-49f2-9c5f-607ad7b5667d')\"\n",
              "            title=\"Suggest charts\"\n",
              "            style=\"display:none;\">\n",
              "\n",
              "<svg xmlns=\"http://www.w3.org/2000/svg\" height=\"24px\"viewBox=\"0 0 24 24\"\n",
              "     width=\"24px\">\n",
              "    <g>\n",
              "        <path d=\"M19 3H5c-1.1 0-2 .9-2 2v14c0 1.1.9 2 2 2h14c1.1 0 2-.9 2-2V5c0-1.1-.9-2-2-2zM9 17H7v-7h2v7zm4 0h-2V7h2v10zm4 0h-2v-4h2v4z\"/>\n",
              "    </g>\n",
              "</svg>\n",
              "  </button>\n",
              "\n",
              "<style>\n",
              "  .colab-df-quickchart {\n",
              "      --bg-color: #E8F0FE;\n",
              "      --fill-color: #1967D2;\n",
              "      --hover-bg-color: #E2EBFA;\n",
              "      --hover-fill-color: #174EA6;\n",
              "      --disabled-fill-color: #AAA;\n",
              "      --disabled-bg-color: #DDD;\n",
              "  }\n",
              "\n",
              "  [theme=dark] .colab-df-quickchart {\n",
              "      --bg-color: #3B4455;\n",
              "      --fill-color: #D2E3FC;\n",
              "      --hover-bg-color: #434B5C;\n",
              "      --hover-fill-color: #FFFFFF;\n",
              "      --disabled-bg-color: #3B4455;\n",
              "      --disabled-fill-color: #666;\n",
              "  }\n",
              "\n",
              "  .colab-df-quickchart {\n",
              "    background-color: var(--bg-color);\n",
              "    border: none;\n",
              "    border-radius: 50%;\n",
              "    cursor: pointer;\n",
              "    display: none;\n",
              "    fill: var(--fill-color);\n",
              "    height: 32px;\n",
              "    padding: 0;\n",
              "    width: 32px;\n",
              "  }\n",
              "\n",
              "  .colab-df-quickchart:hover {\n",
              "    background-color: var(--hover-bg-color);\n",
              "    box-shadow: 0 1px 2px rgba(60, 64, 67, 0.3), 0 1px 3px 1px rgba(60, 64, 67, 0.15);\n",
              "    fill: var(--button-hover-fill-color);\n",
              "  }\n",
              "\n",
              "  .colab-df-quickchart-complete:disabled,\n",
              "  .colab-df-quickchart-complete:disabled:hover {\n",
              "    background-color: var(--disabled-bg-color);\n",
              "    fill: var(--disabled-fill-color);\n",
              "    box-shadow: none;\n",
              "  }\n",
              "\n",
              "  .colab-df-spinner {\n",
              "    border: 2px solid var(--fill-color);\n",
              "    border-color: transparent;\n",
              "    border-bottom-color: var(--fill-color);\n",
              "    animation:\n",
              "      spin 1s steps(1) infinite;\n",
              "  }\n",
              "\n",
              "  @keyframes spin {\n",
              "    0% {\n",
              "      border-color: transparent;\n",
              "      border-bottom-color: var(--fill-color);\n",
              "      border-left-color: var(--fill-color);\n",
              "    }\n",
              "    20% {\n",
              "      border-color: transparent;\n",
              "      border-left-color: var(--fill-color);\n",
              "      border-top-color: var(--fill-color);\n",
              "    }\n",
              "    30% {\n",
              "      border-color: transparent;\n",
              "      border-left-color: var(--fill-color);\n",
              "      border-top-color: var(--fill-color);\n",
              "      border-right-color: var(--fill-color);\n",
              "    }\n",
              "    40% {\n",
              "      border-color: transparent;\n",
              "      border-right-color: var(--fill-color);\n",
              "      border-top-color: var(--fill-color);\n",
              "    }\n",
              "    60% {\n",
              "      border-color: transparent;\n",
              "      border-right-color: var(--fill-color);\n",
              "    }\n",
              "    80% {\n",
              "      border-color: transparent;\n",
              "      border-right-color: var(--fill-color);\n",
              "      border-bottom-color: var(--fill-color);\n",
              "    }\n",
              "    90% {\n",
              "      border-color: transparent;\n",
              "      border-bottom-color: var(--fill-color);\n",
              "    }\n",
              "  }\n",
              "</style>\n",
              "\n",
              "  <script>\n",
              "    async function quickchart(key) {\n",
              "      const quickchartButtonEl =\n",
              "        document.querySelector('#' + key + ' button');\n",
              "      quickchartButtonEl.disabled = true;  // To prevent multiple clicks.\n",
              "      quickchartButtonEl.classList.add('colab-df-spinner');\n",
              "      try {\n",
              "        const charts = await google.colab.kernel.invokeFunction(\n",
              "            'suggestCharts', [key], {});\n",
              "      } catch (error) {\n",
              "        console.error('Error during call to suggestCharts:', error);\n",
              "      }\n",
              "      quickchartButtonEl.classList.remove('colab-df-spinner');\n",
              "      quickchartButtonEl.classList.add('colab-df-quickchart-complete');\n",
              "    }\n",
              "    (() => {\n",
              "      let quickchartButtonEl =\n",
              "        document.querySelector('#df-83333020-a2cb-49f2-9c5f-607ad7b5667d button');\n",
              "      quickchartButtonEl.style.display =\n",
              "        google.colab.kernel.accessAllowed ? 'block' : 'none';\n",
              "    })();\n",
              "  </script>\n",
              "</div>\n",
              "    </div>\n",
              "  </div>\n"
            ],
            "application/vnd.google.colaboratory.intrinsic+json": {
              "type": "dataframe",
              "summary": "{\n  \"name\": \"df\",\n  \"rows\": 5,\n  \"fields\": [\n    {\n      \"column\": \"count\",\n      \"properties\": {\n        \"dtype\": \"date\",\n        \"min\": \"264\",\n        \"max\": \"264\",\n        \"num_unique_values\": 1,\n        \"samples\": [\n          \"264\"\n        ],\n        \"semantic_type\": \"\",\n        \"description\": \"\"\n      }\n    },\n    {\n      \"column\": \"unique\",\n      \"properties\": {\n        \"dtype\": \"date\",\n        \"min\": 187,\n        \"max\": 255,\n        \"num_unique_values\": 5,\n        \"samples\": [\n          243\n        ],\n        \"semantic_type\": \"\",\n        \"description\": \"\"\n      }\n    },\n    {\n      \"column\": \"top\",\n      \"properties\": {\n        \"dtype\": \"string\",\n        \"num_unique_values\": 5,\n        \"samples\": [\n          \"Rp 247.934\"\n        ],\n        \"semantic_type\": \"\",\n        \"description\": \"\"\n      }\n    },\n    {\n      \"column\": \"freq\",\n      \"properties\": {\n        \"dtype\": \"date\",\n        \"min\": \"2\",\n        \"max\": \"8\",\n        \"num_unique_values\": 4,\n        \"samples\": [\n          \"5\"\n        ],\n        \"semantic_type\": \"\",\n        \"description\": \"\"\n      }\n    }\n  ]\n}"
            }
          },
          "metadata": {},
          "execution_count": 7
        }
      ],
      "source": [
        "# Desc stat of test dfset numeric cols\n",
        "df.describe().T"
      ]
    },
    {
      "cell_type": "markdown",
      "metadata": {
        "id": "enbBv0YLPn-R"
      },
      "source": [
        "## Check Duplicate"
      ]
    },
    {
      "cell_type": "code",
      "execution_count": null,
      "metadata": {
        "colab": {
          "base_uri": "https://localhost:8080/"
        },
        "id": "UmMvjEc7-zsg",
        "outputId": "8fdad8e3-71a6-47be-d221-7ef4f32a7b85"
      },
      "outputs": [
        {
          "output_type": "stream",
          "name": "stdout",
          "text": [
            "Jumlah data duplikat: 9\n",
            "                                          nama         harga         reviews  \\\n",
            "245                       Coast Boutique Hotel    Rp 810.114  (151 reviews)    \n",
            "246           Away Bali Legian Camakila Resort  Rp 2.258.924   (54 reviews)    \n",
            "247                  The Bandha Hotel & Suites  Rp 6.832.244   (68 reviews)    \n",
            "248               Destiny Villas and Residence  Rp 2.640.000   (45 reviews)    \n",
            "249                                 Ping Hotel    Rp 458.182  (244 reviews)    \n",
            "250                              Sri Krisna II    Rp 351.240   (67 reviews)    \n",
            "251                             Kelan-Tel Bali    Rp 304.132   (34 reviews)    \n",
            "252  Sun Island Boutique Villas & Spa Seminyak  Rp 2.541.322   (11 reviews)    \n",
            "253       Amadea Resort & Villas Seminyak Bali  Rp 1.444.724   (79 reviews)    \n",
            "\n",
            "                  rating                                         facilities  \n",
            "245   8.7 (151 reviews)                      Pay at Hotel\\nAirport transfer  \n",
            "246    8.5 (54 reviews)   Kids club\\nMassage\\nFitness center\\nWheelchair...  \n",
            "247    8.9 (68 reviews)   Hot tub\\nBeach towel\\nMassage\\nFitness center\\n2+  \n",
            "248    8.6 (45 reviews)   Babysitting\\nBicycle rental\\nCar rental\\nMassa...  \n",
            "249   8.4 (244 reviews)                            Pay at Hotel\\nCar rental  \n",
            "250    8.5 (67 reviews)   Pay at Hotel\\nBraille or raised signage\\nHot t...  \n",
            "251    7.4 (34 reviews)   Bicycle rental\\nCar rental\\nPool sun loungers\\...  \n",
            "252    8.5 (11 reviews)   Pay at Hotel\\nCar rental\\nMassage\\nKitchenette...  \n",
            "253    8.7 (79 reviews)                                   Massage\\nSpa\\nBar  \n"
          ]
        }
      ],
      "source": [
        "# Mengecek data duplikat dan menampilkannya\n",
        "duplicate_rows = df[df.duplicated()]\n",
        "\n",
        "# Menampilkan jumlah data duplikat\n",
        "print(f\"Jumlah data duplikat: {duplicate_rows.shape[0]}\")\n",
        "\n",
        "# Menampilkan baris yang duplikat\n",
        "print(duplicate_rows)"
      ]
    },
    {
      "cell_type": "markdown",
      "source": [
        "Dari hasil kode diatas didapat bahwa terdapat 9 data duplikat yang terdapat pada baris ke 245-253, sehingga pada preprocessing data nantinya data duplikat ini akan dihapus.\n"
      ],
      "metadata": {
        "id": "KcL9M5vEyBWR"
      }
    },
    {
      "cell_type": "markdown",
      "metadata": {
        "id": "LK_F_GiXPqyY"
      },
      "source": [
        "## Check Missing Value"
      ]
    },
    {
      "cell_type": "code",
      "execution_count": null,
      "metadata": {
        "colab": {
          "base_uri": "https://localhost:8080/"
        },
        "id": "gO51O0pVq2aJ",
        "outputId": "1b4d5cce-7699-40f9-af85-854274786841"
      },
      "outputs": [
        {
          "output_type": "execute_result",
          "data": {
            "text/plain": [
              "nama          0\n",
              "harga         0\n",
              "reviews       0\n",
              "rating        0\n",
              "facilities    0\n",
              "dtype: int64"
            ]
          },
          "metadata": {},
          "execution_count": 9
        }
      ],
      "source": [
        "df.isna().sum()"
      ]
    },
    {
      "cell_type": "code",
      "execution_count": null,
      "metadata": {
        "colab": {
          "base_uri": "https://localhost:8080/",
          "height": 601
        },
        "id": "tCscPDia7cS3",
        "outputId": "b189ad2c-320c-4793-eede-2e3772bf2a6b"
      },
      "outputs": [
        {
          "output_type": "display_data",
          "data": {
            "text/plain": [
              "<Figure size 1000x600 with 1 Axes>"
            ],
            "image/png": "[encoded data removed]"
          },
          "metadata": {}
        }
      ],
      "source": [
        "import matplotlib.pyplot as plt\n",
        "\n",
        "# Calculate the number of missing values in each column\n",
        "missing_values = df.isna().sum()\n",
        "\n",
        "# Create a bar plot\n",
        "plt.figure(figsize=(10, 6))\n",
        "missing_values.plot(kind='bar', color='skyblue')\n",
        "plt.title('Number of Missing Values per Column')\n",
        "plt.xlabel('Columns')\n",
        "plt.ylabel('Number of Missing Values')\n",
        "plt.xticks(rotation=45)\n",
        "plt.grid(axis='y', linestyle='--', alpha=0.7)\n",
        "plt.show()"
      ]
    },
    {
      "cell_type": "markdown",
      "source": [
        "Pada visualisasi diatas, dapat dilihat bahwa tidak terdapat missing values pada tiap-tiap variabel yang terdapat pada data."
      ],
      "metadata": {
        "id": "z4AgNoQoyKgK"
      }
    },
    {
      "cell_type": "markdown",
      "metadata": {
        "id": "-wBZcyqMPia5"
      },
      "source": [
        "# Data Preparation 🔄"
      ]
    },
    {
      "cell_type": "markdown",
      "metadata": {
        "id": "pa4R5aUJ_WZX"
      },
      "source": [
        "## Handling Duplicated Data"
      ]
    },
    {
      "cell_type": "code",
      "execution_count": null,
      "metadata": {
        "colab": {
          "base_uri": "https://localhost:8080/"
        },
        "id": "-fWwe69w_Y0r",
        "outputId": "c7ab2c7c-a1ab-4f2d-f18a-792ece373f03"
      },
      "outputs": [
        {
          "output_type": "stream",
          "name": "stdout",
          "text": [
            "Jumlah baris setelah menghapus duplikat: 255\n"
          ]
        }
      ],
      "source": [
        "# Menghapus data duplikat\n",
        "df= df.drop_duplicates()\n",
        "\n",
        "# Menampilkan jumlah baris setelah menghapus duplikat\n",
        "print(f\"Jumlah baris setelah menghapus duplikat: {df.shape[0]}\")"
      ]
    },
    {
      "cell_type": "markdown",
      "metadata": {
        "id": "TvhLWe_TSHQO"
      },
      "source": [
        "## Handling Text Column"
      ]
    },
    {
      "cell_type": "code",
      "source": [
        "def clean_review(x):\n",
        "    new_review = x.replace('(', '').replace(' reviews)', '').strip()\n",
        "    if 'K' in new_review:\n",
        "        new_review = new_review.replace('K', '')\n",
        "        if '.' in new_review:\n",
        "            val1 = float(new_review)*1000\n",
        "            val = int(val1)\n",
        "        else:\n",
        "            val = int(new_review)*1000\n",
        "        return val\n",
        "    else:\n",
        "        return int(new_review)\n",
        "\n",
        "df['reviews'] = df['reviews'].apply(clean_review)"
      ],
      "metadata": {
        "colab": {
          "base_uri": "https://localhost:8080/"
        },
        "id": "4XCz7UuocjLA",
        "outputId": "d4f89453-b786-4935-c9b3-d5f382674d42"
      },
      "execution_count": null,
      "outputs": [
        {
          "output_type": "stream",
          "name": "stderr",
          "text": [
            "<ipython-input-12-4e47257fd8cb>:14: SettingWithCopyWarning: \n",
            "A value is trying to be set on a copy of a slice from a DataFrame.\n",
            "Try using .loc[row_indexer,col_indexer] = value instead\n",
            "\n",
            "See the caveats in the documentation: https://pandas.pydata.org/pandas-docs/stable/user_guide/indexing.html#returning-a-view-versus-a-copy\n",
            "  df['reviews'] = df['reviews'].apply(clean_review)\n"
          ]
        }
      ]
    },
    {
      "cell_type": "code",
      "execution_count": null,
      "metadata": {
        "colab": {
          "base_uri": "https://localhost:8080/"
        },
        "id": "xwpCa0e0uqI1",
        "outputId": "50b770fb-2c96-42d7-8f05-31f8a3fb83cf"
      },
      "outputs": [
        {
          "output_type": "stream",
          "name": "stderr",
          "text": [
            "<ipython-input-13-a8a2e7438b0b>:3: SettingWithCopyWarning: \n",
            "A value is trying to be set on a copy of a slice from a DataFrame.\n",
            "Try using .loc[row_indexer,col_indexer] = value instead\n",
            "\n",
            "See the caveats in the documentation: https://pandas.pydata.org/pandas-docs/stable/user_guide/indexing.html#returning-a-view-versus-a-copy\n",
            "  df[col] = df[col].fillna(df[col].median())\n"
          ]
        },
        {
          "output_type": "execute_result",
          "data": {
            "text/plain": [
              "nama          0\n",
              "harga         0\n",
              "reviews       0\n",
              "rating        0\n",
              "facilities    0\n",
              "dtype: int64"
            ]
          },
          "metadata": {},
          "execution_count": 13
        }
      ],
      "source": [
        "# Numerical columns\n",
        "for col in df.select_dtypes(exclude='object'):\n",
        "    df[col] = df[col].fillna(df[col].median())\n",
        "df.isnull().sum()"
      ]
    },
    {
      "cell_type": "code",
      "execution_count": null,
      "metadata": {
        "id": "wfYY-QszV_IU"
      },
      "outputs": [],
      "source": [
        "# Mapping fasilitas\n",
        "facilities_mapping = {\n",
        "    'Aerobics': 0,\n",
        "    'Airport transfer': 1,\n",
        "    'Babysitting': 2,\n",
        "    'Bar': 3,\n",
        "    'Basketball': 4,\n",
        "    'Beach Bar': 5,\n",
        "    'Beach cabanas': 6,\n",
        "    'Beach shuttle': 7,\n",
        "    'Beach sun loungers': 8,\n",
        "    'Beach towel': 9,\n",
        "    'Bicycle rental': 10,\n",
        "    'Bicycle storage': 11,\n",
        "    'Braille or raised signage': 12,\n",
        "    'Car rental': 13,\n",
        "    'Children play area': 14,\n",
        "    'Clothes dryer': 15,\n",
        "    'Excellent Breakfast': 16,\n",
        "    'Express check-out': 17,\n",
        "    'Fishing': 18,\n",
        "    'Fitness center': 19,\n",
        "    'Free Cancellation available': 20,\n",
        "    'Health club': 21,\n",
        "    'Hot tub': 22,\n",
        "    'Kids club': 23,\n",
        "    'Kitchenette': 24,\n",
        "    'Limo or town car service': 25,\n",
        "    'Located in Downtown Area': 26,\n",
        "    'Located near Airport': 27,\n",
        "    'Located near Beach Club': 28,\n",
        "    'Located near Beachside': 29,\n",
        "    'Luxurious Design': 30,\n",
        "    'Massage': 31,\n",
        "    'Natural Ambience': 32,\n",
        "    'Outdoor facilities': 33,\n",
        "    'Pay at Hotel': 34,\n",
        "    'Pool cabanas': 35,\n",
        "    'Pool or Snooker': 36,\n",
        "    'Pool sun loungers': 37,\n",
        "    'Poolside bar': 38,\n",
        "    'Recreation room': 39,\n",
        "    'Rooftop terrace': 40,\n",
        "    'Shopping center shuttle': 41,\n",
        "    'Show cooking restaurant': 42,\n",
        "    'Spa': 43,\n",
        "    'Sun loungers': 44,\n",
        "    'Surfing': 45,\n",
        "    'Table tennis': 46,\n",
        "    'Tennis': 47,\n",
        "    'Top picked by Family with children': 48,\n",
        "    'Unique Design': 49,\n",
        "    'Water sport': 50,\n",
        "    'Winery': 51,\n",
        "    'Within walking distance to Beachside': 52\n",
        "}"
      ]
    },
    {
      "cell_type": "code",
      "execution_count": null,
      "metadata": {
        "colab": {
          "base_uri": "https://localhost:8080/"
        },
        "id": "EbnfrocVOngg",
        "outputId": "703808bf-6010-44dc-b02b-3b706ce5840b"
      },
      "outputs": [
        {
          "output_type": "stream",
          "name": "stdout",
          "text": [
            "Facilities Mapping:\n",
            "Code 0: Aerobics\n",
            "Code 1: Airport transfer\n",
            "Code 2: Babysitting\n",
            "Code 3: Bar\n",
            "Code 4: Basketball\n",
            "Code 5: Beach Bar\n",
            "Code 6: Beach cabanas\n",
            "Code 7: Beach shuttle\n",
            "Code 8: Beach sun loungers\n",
            "Code 9: Beach towel\n",
            "Code 10: Bicycle rental\n",
            "Code 11: Bicycle storage\n",
            "Code 12: Braille or raised signage\n",
            "Code 13: Car rental\n",
            "Code 14: Children play area\n",
            "Code 15: Clothes dryer\n",
            "Code 16: Excellent Breakfast\n",
            "Code 17: Express check-out\n",
            "Code 18: Fishing\n",
            "Code 19: Fitness center\n",
            "Code 20: Free Cancellation available\n",
            "Code 21: Health club\n",
            "Code 22: Hot tub\n",
            "Code 23: Kids club\n",
            "Code 24: Kitchenette\n",
            "Code 25: Limo or town car service\n",
            "Code 26: Located in Downtown Area\n",
            "Code 27: Located near Airport\n",
            "Code 28: Located near Beach Club\n",
            "Code 29: Located near Beachside\n",
            "Code 30: Luxurious Design\n",
            "Code 31: Massage\n",
            "Code 32: Natural Ambience\n",
            "Code 33: Outdoor facilities\n",
            "Code 34: Pay at Hotel\n",
            "Code 35: Pool cabanas\n",
            "Code 36: Pool or Snooker\n",
            "Code 37: Pool sun loungers\n",
            "Code 38: Poolside bar\n",
            "Code 39: Recreation room\n",
            "Code 40: Rooftop terrace\n",
            "Code 41: Shopping center shuttle\n",
            "Code 42: Show cooking restaurant\n",
            "Code 43: Spa\n",
            "Code 44: Sun loungers\n",
            "Code 45: Surfing\n",
            "Code 46: Table tennis\n",
            "Code 47: Tennis\n",
            "Code 48: Top picked by Family with children\n",
            "Code 49: Unique Design\n",
            "Code 50: Water sport\n",
            "Code 51: Winery\n",
            "Code 52: Within walking distance to Beachside\n"
          ]
        }
      ],
      "source": [
        "print(\"Facilities Mapping:\")\n",
        "for facility, code in facilities_mapping.items():\n",
        "    print(f\"Code {code}: {facility}\")"
      ]
    },
    {
      "cell_type": "code",
      "execution_count": null,
      "metadata": {
        "colab": {
          "base_uri": "https://localhost:8080/"
        },
        "id": "zwbryIGAMIZo",
        "outputId": "6885681a-19d2-44dd-b401-7f2e4c9edecf"
      },
      "outputs": [
        {
          "output_type": "stream",
          "name": "stderr",
          "text": [
            "<ipython-input-16-130cc1b7d5d8>:7: SettingWithCopyWarning: \n",
            "A value is trying to be set on a copy of a slice from a DataFrame.\n",
            "Try using .loc[row_indexer,col_indexer] = value instead\n",
            "\n",
            "See the caveats in the documentation: https://pandas.pydata.org/pandas-docs/stable/user_guide/indexing.html#returning-a-view-versus-a-copy\n",
            "  df['harga'] = df['harga'].str.replace('Rp ', '').str.replace('.', '').astype(int)\n",
            "<ipython-input-16-130cc1b7d5d8>:8: SettingWithCopyWarning: \n",
            "A value is trying to be set on a copy of a slice from a DataFrame.\n",
            "Try using .loc[row_indexer,col_indexer] = value instead\n",
            "\n",
            "See the caveats in the documentation: https://pandas.pydata.org/pandas-docs/stable/user_guide/indexing.html#returning-a-view-versus-a-copy\n",
            "  df['rating'] = df['rating'].str.extract(r'(\\d+\\.\\d+)').astype(float)\n"
          ]
        }
      ],
      "source": [
        "# Fungsi untuk preprocessing kolom facilities\n",
        "def preprocess_facilities(facilities_str):\n",
        "    facilities_list = facilities_str.split('\\n')\n",
        "    facilities_codes = [facilities_mapping[facility] for facility in facilities_list if facility in facilities_mapping]\n",
        "    return facilities_codes\n",
        "\n",
        "df['harga'] = df['harga'].str.replace('Rp ', '').str.replace('.', '').astype(int)\n",
        "df['rating'] = df['rating'].str.extract(r'(\\d+\\.\\d+)').astype(float)"
      ]
    },
    {
      "cell_type": "markdown",
      "metadata": {
        "id": "heOHLHvTC5Zk"
      },
      "source": [
        "## Feature Engineering"
      ]
    },
    {
      "cell_type": "code",
      "execution_count": null,
      "metadata": {
        "colab": {
          "base_uri": "https://localhost:8080/"
        },
        "id": "WhWdzaROC5h7",
        "outputId": "860f41fc-5d8e-4922-dadc-1d809480f5ec"
      },
      "outputs": [
        {
          "output_type": "stream",
          "name": "stderr",
          "text": [
            "<ipython-input-17-a3a8246bbfeb>:11: SettingWithCopyWarning: \n",
            "A value is trying to be set on a copy of a slice from a DataFrame.\n",
            "Try using .loc[row_indexer,col_indexer] = value instead\n",
            "\n",
            "See the caveats in the documentation: https://pandas.pydata.org/pandas-docs/stable/user_guide/indexing.html#returning-a-view-versus-a-copy\n",
            "  df['total_facilities'] = df['facilities'].apply(preprocess_total_facilities)\n",
            "<ipython-input-17-a3a8246bbfeb>:12: SettingWithCopyWarning: \n",
            "A value is trying to be set on a copy of a slice from a DataFrame.\n",
            "Try using .loc[row_indexer,col_indexer] = value instead\n",
            "\n",
            "See the caveats in the documentation: https://pandas.pydata.org/pandas-docs/stable/user_guide/indexing.html#returning-a-view-versus-a-copy\n",
            "  df['facilities'] = df['facilities'].apply(preprocess_facilities)\n"
          ]
        }
      ],
      "source": [
        "def preprocess_total_facilities(facilities_str):\n",
        "    facilities_list = facilities_str.split('\\n')\n",
        "    total_facilities = 0\n",
        "    for facility in facilities_list:\n",
        "        if facility in facilities_mapping:\n",
        "            total_facilities += 1\n",
        "        elif '+' in facility:\n",
        "            total_facilities += int(facility[0])\n",
        "    return total_facilities\n",
        "\n",
        "df['total_facilities'] = df['facilities'].apply(preprocess_total_facilities)\n",
        "df['facilities'] = df['facilities'].apply(preprocess_facilities)"
      ]
    },
    {
      "cell_type": "code",
      "execution_count": null,
      "metadata": {
        "colab": {
          "base_uri": "https://localhost:8080/",
          "height": 423
        },
        "id": "FZUK6HMHDG8j",
        "outputId": "b009471b-b54c-4ed2-9447-5da41770001e"
      },
      "outputs": [
        {
          "output_type": "execute_result",
          "data": {
            "text/plain": [
              "                                           nama    harga  reviews  rating  \\\n",
              "0                  ASTON Kuta Hotel & Residence   734194     2400     8.6   \n",
              "1                            Brits Hotel Legian   422004     2100     8.6   \n",
              "2                          Harper Kuta by ASTON   650826     2900     8.6   \n",
              "3                             Atanaya Kuta Bali   670000    10000     8.6   \n",
              "4                Wyndham Garden Kuta Beach Bali  1167769     1400     8.1   \n",
              "..                                          ...      ...      ...     ...   \n",
              "259                                Hotel Karthi   289256      693     8.4   \n",
              "260                                Bali Bungalo   590909       58     8.1   \n",
              "261  Cattleya Pool Suite - Seminyak by Marbella   910301      219     8.2   \n",
              "262                    The Akasha Luxury Villas  3910050       37     8.7   \n",
              "263                 Interconnection Hostel Kuta   460542       70     8.8   \n",
              "\n",
              "                   facilities  total_facilities  \n",
              "0    [22, 23, 31, 19, 38, 43]                 6  \n",
              "1                    [48, 34]                 6  \n",
              "2          [34, 31, 1, 43, 3]                 5  \n",
              "3                 [2, 38, 37]                 3  \n",
              "4         [34, 2, 10, 13, 31]                 6  \n",
              "..                        ...               ...  \n",
              "259                      [31]                 1  \n",
              "260          [11, 15, 10, 13]                 6  \n",
              "261                      [34]                 3  \n",
              "262          [45, 31, 24, 17]                 5  \n",
              "263                      [13]                 1  \n",
              "\n",
              "[255 rows x 6 columns]"
            ],
            "text/html": [
              "\n",
              "  <div id=\"df-91da9d1d-f726-4998-aa5a-86668d8e259b\" class=\"colab-df-container\">\n",
              "    <div>\n",
              "<style scoped>\n",
              "    .dataframe tbody tr th:only-of-type {\n",
              "        vertical-align: middle;\n",
              "    }\n",
              "\n",
              "    .dataframe tbody tr th {\n",
              "        vertical-align: top;\n",
              "    }\n",
              "\n",
              "    .dataframe thead th {\n",
              "        text-align: right;\n",
              "    }\n",
              "</style>\n",
              "<table border=\"1\" class=\"dataframe\">\n",
              "  <thead>\n",
              "    <tr style=\"text-align: right;\">\n",
              "      <th></th>\n",
              "      <th>nama</th>\n",
              "      <th>harga</th>\n",
              "      <th>reviews</th>\n",
              "      <th>rating</th>\n",
              "      <th>facilities</th>\n",
              "      <th>total_facilities</th>\n",
              "    </tr>\n",
              "  </thead>\n",
              "  <tbody>\n",
              "    <tr>\n",
              "      <th>0</th>\n",
              "      <td>ASTON Kuta Hotel &amp; Residence</td>\n",
              "      <td>734194</td>\n",
              "      <td>2400</td>\n",
              "      <td>8.6</td>\n",
              "      <td>[22, 23, 31, 19, 38, 43]</td>\n",
              "      <td>6</td>\n",
              "    </tr>\n",
              "    <tr>\n",
              "      <th>1</th>\n",
              "      <td>Brits Hotel Legian</td>\n",
              "      <td>422004</td>\n",
              "      <td>2100</td>\n",
              "      <td>8.6</td>\n",
              "      <td>[48, 34]</td>\n",
              "      <td>6</td>\n",
              "    </tr>\n",
              "    <tr>\n",
              "      <th>2</th>\n",
              "      <td>Harper Kuta by ASTON</td>\n",
              "      <td>650826</td>\n",
              "      <td>2900</td>\n",
              "      <td>8.6</td>\n",
              "      <td>[34, 31, 1, 43, 3]</td>\n",
              "      <td>5</td>\n",
              "    </tr>\n",
              "    <tr>\n",
              "      <th>3</th>\n",
              "      <td>Atanaya Kuta Bali</td>\n",
              "      <td>670000</td>\n",
              "      <td>10000</td>\n",
              "      <td>8.6</td>\n",
              "      <td>[2, 38, 37]</td>\n",
              "      <td>3</td>\n",
              "    </tr>\n",
              "    <tr>\n",
              "      <th>4</th>\n",
              "      <td>Wyndham Garden Kuta Beach Bali</td>\n",
              "      <td>1167769</td>\n",
              "      <td>1400</td>\n",
              "      <td>8.1</td>\n",
              "      <td>[34, 2, 10, 13, 31]</td>\n",
              "      <td>6</td>\n",
              "    </tr>\n",
              "    <tr>\n",
              "      <th>...</th>\n",
              "      <td>...</td>\n",
              "      <td>...</td>\n",
              "      <td>...</td>\n",
              "      <td>...</td>\n",
              "      <td>...</td>\n",
              "      <td>...</td>\n",
              "    </tr>\n",
              "    <tr>\n",
              "      <th>259</th>\n",
              "      <td>Hotel Karthi</td>\n",
              "      <td>289256</td>\n",
              "      <td>693</td>\n",
              "      <td>8.4</td>\n",
              "      <td>[31]</td>\n",
              "      <td>1</td>\n",
              "    </tr>\n",
              "    <tr>\n",
              "      <th>260</th>\n",
              "      <td>Bali Bungalo</td>\n",
              "      <td>590909</td>\n",
              "      <td>58</td>\n",
              "      <td>8.1</td>\n",
              "      <td>[11, 15, 10, 13]</td>\n",
              "      <td>6</td>\n",
              "    </tr>\n",
              "    <tr>\n",
              "      <th>261</th>\n",
              "      <td>Cattleya Pool Suite - Seminyak by Marbella</td>\n",
              "      <td>910301</td>\n",
              "      <td>219</td>\n",
              "      <td>8.2</td>\n",
              "      <td>[34]</td>\n",
              "      <td>3</td>\n",
              "    </tr>\n",
              "    <tr>\n",
              "      <th>262</th>\n",
              "      <td>The Akasha Luxury Villas</td>\n",
              "      <td>3910050</td>\n",
              "      <td>37</td>\n",
              "      <td>8.7</td>\n",
              "      <td>[45, 31, 24, 17]</td>\n",
              "      <td>5</td>\n",
              "    </tr>\n",
              "    <tr>\n",
              "      <th>263</th>\n",
              "      <td>Interconnection Hostel Kuta</td>\n",
              "      <td>460542</td>\n",
              "      <td>70</td>\n",
              "      <td>8.8</td>\n",
              "      <td>[13]</td>\n",
              "      <td>1</td>\n",
              "    </tr>\n",
              "  </tbody>\n",
              "</table>\n",
              "<p>255 rows × 6 columns</p>\n",
              "</div>\n",
              "    <div class=\"colab-df-buttons\">\n",
              "\n",
              "  <div class=\"colab-df-container\">\n",
              "    <button class=\"colab-df-convert\" onclick=\"convertToInteractive('df-91da9d1d-f726-4998-aa5a-86668d8e259b')\"\n",
              "            title=\"Convert this dataframe to an interactive table.\"\n",
              "            style=\"display:none;\">\n",
              "\n",
              "  <svg xmlns=\"http://www.w3.org/2000/svg\" height=\"24px\" viewBox=\"0 -960 960 960\">\n",
              "    <path d=\"M120-120v-720h720v720H120Zm60-500h600v-160H180v160Zm220 220h160v-160H400v160Zm0 220h160v-160H400v160ZM180-400h160v-160H180v160Zm440 0h160v-160H620v160ZM180-180h160v-160H180v160Zm440 0h160v-160H620v160Z\"/>\n",
              "  </svg>\n",
              "    </button>\n",
              "\n",
              "  <style>\n",
              "    .colab-df-container {\n",
              "      display:flex;\n",
              "      gap: 12px;\n",
              "    }\n",
              "\n",
              "    .colab-df-convert {\n",
              "      background-color: #E8F0FE;\n",
              "      border: none;\n",
              "      border-radius: 50%;\n",
              "      cursor: pointer;\n",
              "      display: none;\n",
              "      fill: #1967D2;\n",
              "      height: 32px;\n",
              "      padding: 0 0 0 0;\n",
              "      width: 32px;\n",
              "    }\n",
              "\n",
              "    .colab-df-convert:hover {\n",
              "      background-color: #E2EBFA;\n",
              "      box-shadow: 0px 1px 2px rgba(60, 64, 67, 0.3), 0px 1px 3px 1px rgba(60, 64, 67, 0.15);\n",
              "      fill: #174EA6;\n",
              "    }\n",
              "\n",
              "    .colab-df-buttons div {\n",
              "      margin-bottom: 4px;\n",
              "    }\n",
              "\n",
              "    [theme=dark] .colab-df-convert {\n",
              "      background-color: #3B4455;\n",
              "      fill: #D2E3FC;\n",
              "    }\n",
              "\n",
              "    [theme=dark] .colab-df-convert:hover {\n",
              "      background-color: #434B5C;\n",
              "      box-shadow: 0px 1px 3px 1px rgba(0, 0, 0, 0.15);\n",
              "      filter: drop-shadow(0px 1px 2px rgba(0, 0, 0, 0.3));\n",
              "      fill: #FFFFFF;\n",
              "    }\n",
              "  </style>\n",
              "\n",
              "    <script>\n",
              "      const buttonEl =\n",
              "        document.querySelector('#df-91da9d1d-f726-4998-aa5a-86668d8e259b button.colab-df-convert');\n",
              "      buttonEl.style.display =\n",
              "        google.colab.kernel.accessAllowed ? 'block' : 'none';\n",
              "\n",
              "      async function convertToInteractive(key) {\n",
              "        const element = document.querySelector('#df-91da9d1d-f726-4998-aa5a-86668d8e259b');\n",
              "        const dataTable =\n",
              "          await google.colab.kernel.invokeFunction('convertToInteractive',\n",
              "                                                    [key], {});\n",
              "        if (!dataTable) return;\n",
              "\n",
              "        const docLinkHtml = 'Like what you see? Visit the ' +\n",
              "          '<a target=\"_blank\" href=https://colab.research.google.com/notebooks/data_table.ipynb>data table notebook</a>'\n",
              "          + ' to learn more about interactive tables.';\n",
              "        element.innerHTML = '';\n",
              "        dataTable['output_type'] = 'display_data';\n",
              "        await google.colab.output.renderOutput(dataTable, element);\n",
              "        const docLink = document.createElement('div');\n",
              "        docLink.innerHTML = docLinkHtml;\n",
              "        element.appendChild(docLink);\n",
              "      }\n",
              "    </script>\n",
              "  </div>\n",
              "\n",
              "\n",
              "<div id=\"df-04ed94d2-40fa-454b-b6f5-97bf60ffab2a\">\n",
              "  <button class=\"colab-df-quickchart\" onclick=\"quickchart('df-04ed94d2-40fa-454b-b6f5-97bf60ffab2a')\"\n",
              "            title=\"Suggest charts\"\n",
              "            style=\"display:none;\">\n",
              "\n",
              "<svg xmlns=\"http://www.w3.org/2000/svg\" height=\"24px\"viewBox=\"0 0 24 24\"\n",
              "     width=\"24px\">\n",
              "    <g>\n",
              "        <path d=\"M19 3H5c-1.1 0-2 .9-2 2v14c0 1.1.9 2 2 2h14c1.1 0 2-.9 2-2V5c0-1.1-.9-2-2-2zM9 17H7v-7h2v7zm4 0h-2V7h2v10zm4 0h-2v-4h2v4z\"/>\n",
              "    </g>\n",
              "</svg>\n",
              "  </button>\n",
              "\n",
              "<style>\n",
              "  .colab-df-quickchart {\n",
              "      --bg-color: #E8F0FE;\n",
              "      --fill-color: #1967D2;\n",
              "      --hover-bg-color: #E2EBFA;\n",
              "      --hover-fill-color: #174EA6;\n",
              "      --disabled-fill-color: #AAA;\n",
              "      --disabled-bg-color: #DDD;\n",
              "  }\n",
              "\n",
              "  [theme=dark] .colab-df-quickchart {\n",
              "      --bg-color: #3B4455;\n",
              "      --fill-color: #D2E3FC;\n",
              "      --hover-bg-color: #434B5C;\n",
              "      --hover-fill-color: #FFFFFF;\n",
              "      --disabled-bg-color: #3B4455;\n",
              "      --disabled-fill-color: #666;\n",
              "  }\n",
              "\n",
              "  .colab-df-quickchart {\n",
              "    background-color: var(--bg-color);\n",
              "    border: none;\n",
              "    border-radius: 50%;\n",
              "    cursor: pointer;\n",
              "    display: none;\n",
              "    fill: var(--fill-color);\n",
              "    height: 32px;\n",
              "    padding: 0;\n",
              "    width: 32px;\n",
              "  }\n",
              "\n",
              "  .colab-df-quickchart:hover {\n",
              "    background-color: var(--hover-bg-color);\n",
              "    box-shadow: 0 1px 2px rgba(60, 64, 67, 0.3), 0 1px 3px 1px rgba(60, 64, 67, 0.15);\n",
              "    fill: var(--button-hover-fill-color);\n",
              "  }\n",
              "\n",
              "  .colab-df-quickchart-complete:disabled,\n",
              "  .colab-df-quickchart-complete:disabled:hover {\n",
              "    background-color: var(--disabled-bg-color);\n",
              "    fill: var(--disabled-fill-color);\n",
              "    box-shadow: none;\n",
              "  }\n",
              "\n",
              "  .colab-df-spinner {\n",
              "    border: 2px solid var(--fill-color);\n",
              "    border-color: transparent;\n",
              "    border-bottom-color: var(--fill-color);\n",
              "    animation:\n",
              "      spin 1s steps(1) infinite;\n",
              "  }\n",
              "\n",
              "  @keyframes spin {\n",
              "    0% {\n",
              "      border-color: transparent;\n",
              "      border-bottom-color: var(--fill-color);\n",
              "      border-left-color: var(--fill-color);\n",
              "    }\n",
              "    20% {\n",
              "      border-color: transparent;\n",
              "      border-left-color: var(--fill-color);\n",
              "      border-top-color: var(--fill-color);\n",
              "    }\n",
              "    30% {\n",
              "      border-color: transparent;\n",
              "      border-left-color: var(--fill-color);\n",
              "      border-top-color: var(--fill-color);\n",
              "      border-right-color: var(--fill-color);\n",
              "    }\n",
              "    40% {\n",
              "      border-color: transparent;\n",
              "      border-right-color: var(--fill-color);\n",
              "      border-top-color: var(--fill-color);\n",
              "    }\n",
              "    60% {\n",
              "      border-color: transparent;\n",
              "      border-right-color: var(--fill-color);\n",
              "    }\n",
              "    80% {\n",
              "      border-color: transparent;\n",
              "      border-right-color: var(--fill-color);\n",
              "      border-bottom-color: var(--fill-color);\n",
              "    }\n",
              "    90% {\n",
              "      border-color: transparent;\n",
              "      border-bottom-color: var(--fill-color);\n",
              "    }\n",
              "  }\n",
              "</style>\n",
              "\n",
              "  <script>\n",
              "    async function quickchart(key) {\n",
              "      const quickchartButtonEl =\n",
              "        document.querySelector('#' + key + ' button');\n",
              "      quickchartButtonEl.disabled = true;  // To prevent multiple clicks.\n",
              "      quickchartButtonEl.classList.add('colab-df-spinner');\n",
              "      try {\n",
              "        const charts = await google.colab.kernel.invokeFunction(\n",
              "            'suggestCharts', [key], {});\n",
              "      } catch (error) {\n",
              "        console.error('Error during call to suggestCharts:', error);\n",
              "      }\n",
              "      quickchartButtonEl.classList.remove('colab-df-spinner');\n",
              "      quickchartButtonEl.classList.add('colab-df-quickchart-complete');\n",
              "    }\n",
              "    (() => {\n",
              "      let quickchartButtonEl =\n",
              "        document.querySelector('#df-04ed94d2-40fa-454b-b6f5-97bf60ffab2a button');\n",
              "      quickchartButtonEl.style.display =\n",
              "        google.colab.kernel.accessAllowed ? 'block' : 'none';\n",
              "    })();\n",
              "  </script>\n",
              "</div>\n",
              "    </div>\n",
              "  </div>\n"
            ],
            "application/vnd.google.colaboratory.intrinsic+json": {
              "type": "dataframe",
              "variable_name": "df",
              "summary": "{\n  \"name\": \"df\",\n  \"rows\": 255,\n  \"fields\": [\n    {\n      \"column\": \"nama\",\n      \"properties\": {\n        \"dtype\": \"string\",\n        \"num_unique_values\": 255,\n        \"samples\": [\n          \"Fourteen Roses Beach Hotel\",\n          \"Potato Head Suites & Studios\",\n          \"Sans Sunset Point Seminyak\"\n        ],\n        \"semantic_type\": \"\",\n        \"description\": \"\"\n      }\n    },\n    {\n      \"column\": \"harga\",\n      \"properties\": {\n        \"dtype\": \"number\",\n        \"std\": 1572185,\n        \"min\": 66116,\n        \"max\": 13708772,\n        \"num_unique_values\": 243,\n        \"samples\": [\n          477686,\n          4720661,\n          1151405\n        ],\n        \"semantic_type\": \"\",\n        \"description\": \"\"\n      }\n    },\n    {\n      \"column\": \"reviews\",\n      \"properties\": {\n        \"dtype\": \"number\",\n        \"std\": 1195,\n        \"min\": 5,\n        \"max\": 10000,\n        \"num_unique_values\": 187,\n        \"samples\": [\n          37,\n          542,\n          656\n        ],\n        \"semantic_type\": \"\",\n        \"description\": \"\"\n      }\n    },\n    {\n      \"column\": \"rating\",\n      \"properties\": {\n        \"dtype\": \"number\",\n        \"std\": 0.349802211477496,\n        \"min\": 7.1,\n        \"max\": 9.2,\n        \"num_unique_values\": 21,\n        \"samples\": [\n          8.6,\n          9.1,\n          7.8\n        ],\n        \"semantic_type\": \"\",\n        \"description\": \"\"\n      }\n    },\n    {\n      \"column\": \"facilities\",\n      \"properties\": {\n        \"dtype\": \"object\",\n        \"semantic_type\": \"\",\n        \"description\": \"\"\n      }\n    },\n    {\n      \"column\": \"total_facilities\",\n      \"properties\": {\n        \"dtype\": \"number\",\n        \"std\": 1,\n        \"min\": 1,\n        \"max\": 6,\n        \"num_unique_values\": 6,\n        \"samples\": [\n          6,\n          5,\n          4\n        ],\n        \"semantic_type\": \"\",\n        \"description\": \"\"\n      }\n    }\n  ]\n}"
            }
          },
          "metadata": {},
          "execution_count": 18
        }
      ],
      "source": [
        "df"
      ]
    },
    {
      "cell_type": "markdown",
      "source": [
        "Dari tabel diatas dilakukan feature engineering sehingga mendapatkan variabel baru yaitu ‘total_facilities’ yang memuat jumlah fasilitas pada sebuah hotel yang berguna untuk analisis clustering.\n"
      ],
      "metadata": {
        "id": "0qDs9nouyzDB"
      }
    },
    {
      "cell_type": "markdown",
      "metadata": {
        "id": "BBQX7isZRtnU"
      },
      "source": [
        "# Exploratory Data Analysis 📊"
      ]
    },
    {
      "cell_type": "code",
      "execution_count": null,
      "metadata": {
        "colab": {
          "base_uri": "https://localhost:8080/",
          "height": 206
        },
        "id": "q66mQaEWSkw0",
        "outputId": "dd8efcb5-f2a7-4568-e099-d87086e788d0"
      },
      "outputs": [
        {
          "output_type": "execute_result",
          "data": {
            "text/plain": [
              "     harga  reviews  rating  total_facilities\n",
              "0   734194     2400     8.6                 6\n",
              "1   422004     2100     8.6                 6\n",
              "2   650826     2900     8.6                 5\n",
              "3   670000    10000     8.6                 3\n",
              "4  1167769     1400     8.1                 6"
            ],
            "text/html": [
              "\n",
              "  <div id=\"df-366d1034-40c5-4220-9b77-24fc651365dc\" class=\"colab-df-container\">\n",
              "    <div>\n",
              "<style scoped>\n",
              "    .dataframe tbody tr th:only-of-type {\n",
              "        vertical-align: middle;\n",
              "    }\n",
              "\n",
              "    .dataframe tbody tr th {\n",
              "        vertical-align: top;\n",
              "    }\n",
              "\n",
              "    .dataframe thead th {\n",
              "        text-align: right;\n",
              "    }\n",
              "</style>\n",
              "<table border=\"1\" class=\"dataframe\">\n",
              "  <thead>\n",
              "    <tr style=\"text-align: right;\">\n",
              "      <th></th>\n",
              "      <th>harga</th>\n",
              "      <th>reviews</th>\n",
              "      <th>rating</th>\n",
              "      <th>total_facilities</th>\n",
              "    </tr>\n",
              "  </thead>\n",
              "  <tbody>\n",
              "    <tr>\n",
              "      <th>0</th>\n",
              "      <td>734194</td>\n",
              "      <td>2400</td>\n",
              "      <td>8.6</td>\n",
              "      <td>6</td>\n",
              "    </tr>\n",
              "    <tr>\n",
              "      <th>1</th>\n",
              "      <td>422004</td>\n",
              "      <td>2100</td>\n",
              "      <td>8.6</td>\n",
              "      <td>6</td>\n",
              "    </tr>\n",
              "    <tr>\n",
              "      <th>2</th>\n",
              "      <td>650826</td>\n",
              "      <td>2900</td>\n",
              "      <td>8.6</td>\n",
              "      <td>5</td>\n",
              "    </tr>\n",
              "    <tr>\n",
              "      <th>3</th>\n",
              "      <td>670000</td>\n",
              "      <td>10000</td>\n",
              "      <td>8.6</td>\n",
              "      <td>3</td>\n",
              "    </tr>\n",
              "    <tr>\n",
              "      <th>4</th>\n",
              "      <td>1167769</td>\n",
              "      <td>1400</td>\n",
              "      <td>8.1</td>\n",
              "      <td>6</td>\n",
              "    </tr>\n",
              "  </tbody>\n",
              "</table>\n",
              "</div>\n",
              "    <div class=\"colab-df-buttons\">\n",
              "\n",
              "  <div class=\"colab-df-container\">\n",
              "    <button class=\"colab-df-convert\" onclick=\"convertToInteractive('df-366d1034-40c5-4220-9b77-24fc651365dc')\"\n",
              "            title=\"Convert this dataframe to an interactive table.\"\n",
              "            style=\"display:none;\">\n",
              "\n",
              "  <svg xmlns=\"http://www.w3.org/2000/svg\" height=\"24px\" viewBox=\"0 -960 960 960\">\n",
              "    <path d=\"M120-120v-720h720v720H120Zm60-500h600v-160H180v160Zm220 220h160v-160H400v160Zm0 220h160v-160H400v160ZM180-400h160v-160H180v160Zm440 0h160v-160H620v160ZM180-180h160v-160H180v160Zm440 0h160v-160H620v160Z\"/>\n",
              "  </svg>\n",
              "    </button>\n",
              "\n",
              "  <style>\n",
              "    .colab-df-container {\n",
              "      display:flex;\n",
              "      gap: 12px;\n",
              "    }\n",
              "\n",
              "    .colab-df-convert {\n",
              "      background-color: #E8F0FE;\n",
              "      border: none;\n",
              "      border-radius: 50%;\n",
              "      cursor: pointer;\n",
              "      display: none;\n",
              "      fill: #1967D2;\n",
              "      height: 32px;\n",
              "      padding: 0 0 0 0;\n",
              "      width: 32px;\n",
              "    }\n",
              "\n",
              "    .colab-df-convert:hover {\n",
              "      background-color: #E2EBFA;\n",
              "      box-shadow: 0px 1px 2px rgba(60, 64, 67, 0.3), 0px 1px 3px 1px rgba(60, 64, 67, 0.15);\n",
              "      fill: #174EA6;\n",
              "    }\n",
              "\n",
              "    .colab-df-buttons div {\n",
              "      margin-bottom: 4px;\n",
              "    }\n",
              "\n",
              "    [theme=dark] .colab-df-convert {\n",
              "      background-color: #3B4455;\n",
              "      fill: #D2E3FC;\n",
              "    }\n",
              "\n",
              "    [theme=dark] .colab-df-convert:hover {\n",
              "      background-color: #434B5C;\n",
              "      box-shadow: 0px 1px 3px 1px rgba(0, 0, 0, 0.15);\n",
              "      filter: drop-shadow(0px 1px 2px rgba(0, 0, 0, 0.3));\n",
              "      fill: #FFFFFF;\n",
              "    }\n",
              "  </style>\n",
              "\n",
              "    <script>\n",
              "      const buttonEl =\n",
              "        document.querySelector('#df-366d1034-40c5-4220-9b77-24fc651365dc button.colab-df-convert');\n",
              "      buttonEl.style.display =\n",
              "        google.colab.kernel.accessAllowed ? 'block' : 'none';\n",
              "\n",
              "      async function convertToInteractive(key) {\n",
              "        const element = document.querySelector('#df-366d1034-40c5-4220-9b77-24fc651365dc');\n",
              "        const dataTable =\n",
              "          await google.colab.kernel.invokeFunction('convertToInteractive',\n",
              "                                                    [key], {});\n",
              "        if (!dataTable) return;\n",
              "\n",
              "        const docLinkHtml = 'Like what you see? Visit the ' +\n",
              "          '<a target=\"_blank\" href=https://colab.research.google.com/notebooks/data_table.ipynb>data table notebook</a>'\n",
              "          + ' to learn more about interactive tables.';\n",
              "        element.innerHTML = '';\n",
              "        dataTable['output_type'] = 'display_data';\n",
              "        await google.colab.output.renderOutput(dataTable, element);\n",
              "        const docLink = document.createElement('div');\n",
              "        docLink.innerHTML = docLinkHtml;\n",
              "        element.appendChild(docLink);\n",
              "      }\n",
              "    </script>\n",
              "  </div>\n",
              "\n",
              "\n",
              "<div id=\"df-0a5c7529-7e51-48d0-8b2f-ba51134c2d38\">\n",
              "  <button class=\"colab-df-quickchart\" onclick=\"quickchart('df-0a5c7529-7e51-48d0-8b2f-ba51134c2d38')\"\n",
              "            title=\"Suggest charts\"\n",
              "            style=\"display:none;\">\n",
              "\n",
              "<svg xmlns=\"http://www.w3.org/2000/svg\" height=\"24px\"viewBox=\"0 0 24 24\"\n",
              "     width=\"24px\">\n",
              "    <g>\n",
              "        <path d=\"M19 3H5c-1.1 0-2 .9-2 2v14c0 1.1.9 2 2 2h14c1.1 0 2-.9 2-2V5c0-1.1-.9-2-2-2zM9 17H7v-7h2v7zm4 0h-2V7h2v10zm4 0h-2v-4h2v4z\"/>\n",
              "    </g>\n",
              "</svg>\n",
              "  </button>\n",
              "\n",
              "<style>\n",
              "  .colab-df-quickchart {\n",
              "      --bg-color: #E8F0FE;\n",
              "      --fill-color: #1967D2;\n",
              "      --hover-bg-color: #E2EBFA;\n",
              "      --hover-fill-color: #174EA6;\n",
              "      --disabled-fill-color: #AAA;\n",
              "      --disabled-bg-color: #DDD;\n",
              "  }\n",
              "\n",
              "  [theme=dark] .colab-df-quickchart {\n",
              "      --bg-color: #3B4455;\n",
              "      --fill-color: #D2E3FC;\n",
              "      --hover-bg-color: #434B5C;\n",
              "      --hover-fill-color: #FFFFFF;\n",
              "      --disabled-bg-color: #3B4455;\n",
              "      --disabled-fill-color: #666;\n",
              "  }\n",
              "\n",
              "  .colab-df-quickchart {\n",
              "    background-color: var(--bg-color);\n",
              "    border: none;\n",
              "    border-radius: 50%;\n",
              "    cursor: pointer;\n",
              "    display: none;\n",
              "    fill: var(--fill-color);\n",
              "    height: 32px;\n",
              "    padding: 0;\n",
              "    width: 32px;\n",
              "  }\n",
              "\n",
              "  .colab-df-quickchart:hover {\n",
              "    background-color: var(--hover-bg-color);\n",
              "    box-shadow: 0 1px 2px rgba(60, 64, 67, 0.3), 0 1px 3px 1px rgba(60, 64, 67, 0.15);\n",
              "    fill: var(--button-hover-fill-color);\n",
              "  }\n",
              "\n",
              "  .colab-df-quickchart-complete:disabled,\n",
              "  .colab-df-quickchart-complete:disabled:hover {\n",
              "    background-color: var(--disabled-bg-color);\n",
              "    fill: var(--disabled-fill-color);\n",
              "    box-shadow: none;\n",
              "  }\n",
              "\n",
              "  .colab-df-spinner {\n",
              "    border: 2px solid var(--fill-color);\n",
              "    border-color: transparent;\n",
              "    border-bottom-color: var(--fill-color);\n",
              "    animation:\n",
              "      spin 1s steps(1) infinite;\n",
              "  }\n",
              "\n",
              "  @keyframes spin {\n",
              "    0% {\n",
              "      border-color: transparent;\n",
              "      border-bottom-color: var(--fill-color);\n",
              "      border-left-color: var(--fill-color);\n",
              "    }\n",
              "    20% {\n",
              "      border-color: transparent;\n",
              "      border-left-color: var(--fill-color);\n",
              "      border-top-color: var(--fill-color);\n",
              "    }\n",
              "    30% {\n",
              "      border-color: transparent;\n",
              "      border-left-color: var(--fill-color);\n",
              "      border-top-color: var(--fill-color);\n",
              "      border-right-color: var(--fill-color);\n",
              "    }\n",
              "    40% {\n",
              "      border-color: transparent;\n",
              "      border-right-color: var(--fill-color);\n",
              "      border-top-color: var(--fill-color);\n",
              "    }\n",
              "    60% {\n",
              "      border-color: transparent;\n",
              "      border-right-color: var(--fill-color);\n",
              "    }\n",
              "    80% {\n",
              "      border-color: transparent;\n",
              "      border-right-color: var(--fill-color);\n",
              "      border-bottom-color: var(--fill-color);\n",
              "    }\n",
              "    90% {\n",
              "      border-color: transparent;\n",
              "      border-bottom-color: var(--fill-color);\n",
              "    }\n",
              "  }\n",
              "</style>\n",
              "\n",
              "  <script>\n",
              "    async function quickchart(key) {\n",
              "      const quickchartButtonEl =\n",
              "        document.querySelector('#' + key + ' button');\n",
              "      quickchartButtonEl.disabled = true;  // To prevent multiple clicks.\n",
              "      quickchartButtonEl.classList.add('colab-df-spinner');\n",
              "      try {\n",
              "        const charts = await google.colab.kernel.invokeFunction(\n",
              "            'suggestCharts', [key], {});\n",
              "      } catch (error) {\n",
              "        console.error('Error during call to suggestCharts:', error);\n",
              "      }\n",
              "      quickchartButtonEl.classList.remove('colab-df-spinner');\n",
              "      quickchartButtonEl.classList.add('colab-df-quickchart-complete');\n",
              "    }\n",
              "    (() => {\n",
              "      let quickchartButtonEl =\n",
              "        document.querySelector('#df-0a5c7529-7e51-48d0-8b2f-ba51134c2d38 button');\n",
              "      quickchartButtonEl.style.display =\n",
              "        google.colab.kernel.accessAllowed ? 'block' : 'none';\n",
              "    })();\n",
              "  </script>\n",
              "</div>\n",
              "    </div>\n",
              "  </div>\n"
            ],
            "application/vnd.google.colaboratory.intrinsic+json": {
              "type": "dataframe",
              "variable_name": "df_new",
              "summary": "{\n  \"name\": \"df_new\",\n  \"rows\": 255,\n  \"fields\": [\n    {\n      \"column\": \"harga\",\n      \"properties\": {\n        \"dtype\": \"number\",\n        \"std\": 1572185,\n        \"min\": 66116,\n        \"max\": 13708772,\n        \"num_unique_values\": 243,\n        \"samples\": [\n          477686,\n          4720661,\n          1151405\n        ],\n        \"semantic_type\": \"\",\n        \"description\": \"\"\n      }\n    },\n    {\n      \"column\": \"reviews\",\n      \"properties\": {\n        \"dtype\": \"number\",\n        \"std\": 1195,\n        \"min\": 5,\n        \"max\": 10000,\n        \"num_unique_values\": 187,\n        \"samples\": [\n          37,\n          542,\n          656\n        ],\n        \"semantic_type\": \"\",\n        \"description\": \"\"\n      }\n    },\n    {\n      \"column\": \"rating\",\n      \"properties\": {\n        \"dtype\": \"number\",\n        \"std\": 0.349802211477496,\n        \"min\": 7.1,\n        \"max\": 9.2,\n        \"num_unique_values\": 21,\n        \"samples\": [\n          8.6,\n          9.1,\n          7.8\n        ],\n        \"semantic_type\": \"\",\n        \"description\": \"\"\n      }\n    },\n    {\n      \"column\": \"total_facilities\",\n      \"properties\": {\n        \"dtype\": \"number\",\n        \"std\": 1,\n        \"min\": 1,\n        \"max\": 6,\n        \"num_unique_values\": 6,\n        \"samples\": [\n          6,\n          5,\n          4\n        ],\n        \"semantic_type\": \"\",\n        \"description\": \"\"\n      }\n    }\n  ]\n}"
            }
          },
          "metadata": {},
          "execution_count": 19
        }
      ],
      "source": [
        "df_new = df.copy()\n",
        "df_new = df.drop(columns=['nama', 'facilities'])\n",
        "df_new.head()"
      ]
    },
    {
      "cell_type": "markdown",
      "metadata": {
        "id": "MYiAiuZXqUIv"
      },
      "source": [
        "## Heatmap Correlation"
      ]
    },
    {
      "cell_type": "code",
      "execution_count": null,
      "metadata": {
        "colab": {
          "base_uri": "https://localhost:8080/",
          "height": 545
        },
        "id": "6DDUollnqX18",
        "outputId": "0bb17442-558b-4efd-a8a0-6daea9c96c2a"
      },
      "outputs": [
        {
          "output_type": "display_data",
          "data": {
            "text/plain": [
              "<Figure size 800x600 with 2 Axes>"
            ],
            "image/png": "[encoded data removed]"
          },
          "metadata": {}
        }
      ],
      "source": [
        "# numerik_cols = df_new.select_dtypes(include='number')\n",
        "# Hitung matriks korelasi\n",
        "corr_matrix = df_new.corr(method='pearson')\n",
        "\n",
        "# Plot heatmap korelasi\n",
        "plt.figure(figsize=(8, 6))  # Mengatur ukuran figure\n",
        "sns.heatmap(corr_matrix, annot=True, cmap='GnBu', vmin=-1, vmax=1, center=0, fmt=\".2f\")\n",
        "plt.title('Heatmap Korelasi')\n",
        "plt.show()"
      ]
    },
    {
      "cell_type": "markdown",
      "metadata": {
        "id": "lV6rFHQ4ziul"
      },
      "source": [
        "Berdasarkan heatmap korelasi yang Anda lampirkan, berikut adalah interpretasi dari korelasi antara variabel `harga`, `reviews`, `rating`, dan `total_facilities`:\n",
        "\n",
        "1. **Harga**:\n",
        "   - `Harga` memiliki korelasi positif sedang dengan `rating` (0.35). Ini menunjukkan bahwa ada hubungan yang cukup kuat antara harga dan rating; semakin tinggi harga, cenderung semakin tinggi rating.\n",
        "   - `Harga` memiliki korelasi negatif dengan `reviews` (-0.21) dan korelasi positif yang sangat lemah dengan `total_facilities` (0.12). Ini menunjukkan bahwa harga tidak memiliki hubungan yang signifikan dengan jumlah review atau fasilitas total.\n",
        "\n",
        "2. **Reviews**:\n",
        "   - `Reviews` memiliki korelasi positif yang sangat lemah dengan `rating` (0.04) dan dengan `total_facilities` (0.15). Ini menunjukkan bahwa jumlah review tidak memiliki hubungan yang signifikan dengan rating atau fasilitas total.\n",
        "   - `Reviews` memiliki korelasi negatif yang sangat lemah dengan `harga` (-0.21), menunjukkan bahwa jumlah review tidak berhubungan dengan harga.\n",
        "\n",
        "3. **Rating**:\n",
        "   - `Rating` memiliki korelasi positif sedang dengan `harga` (0.35), seperti yang telah disebutkan sebelumnya.\n",
        "   - `Rating` memiliki korelasi positif yang sangat lemah dengan `total_facilities` (0.08), menunjukkan bahwa rating tidak memiliki hubungan yang signifikan dengan jumlah fasilitas.\n",
        "   - `Rating` memiliki korelasi positif yang sangat lemah dengan `reviews` (0.04).\n",
        "\n",
        "4. **Total Facilities**:\n",
        "   - `Total facilities` memiliki korelasi positif lemah dengan `reviews` (0.15), menunjukkan bahwa jumlah fasilitas tidak memiliki hubungan yang signifikan dengan jumlah review.\n",
        "   - `Total facilities` memiliki korelasi positif yang sangat lemah dengan `harga` (0.12) dan `rating` (0.08), menunjukkan bahwa jumlah fasilitas tidak memiliki hubungan yang signifikan dengan harga atau rating.\n",
        "\n",
        "Kesimpulan:\n",
        "- Tidak ada korelasi yang sangat kuat antara variabel-variabel yang dianalisis.\n",
        "- Korelasi positif sedang antara `harga` dan `rating` menunjukkan bahwa hotel dengan harga lebih tinggi cenderung memiliki rating yang lebih tinggi.\n",
        "- Sebagian besar variabel memiliki korelasi yang sangat lemah atau negatif, menunjukkan bahwa mereka tidak saling berhubungan secara signifikan.\n",
        "\n",
        "Interpretasi ini dapat membantu Anda memahami hubungan antara variabel-variabel dalam dataset Anda, dan dapat menjadi dasar untuk analisis lebih lanjut atau pengembangan model prediksi."
      ]
    },
    {
      "cell_type": "markdown",
      "metadata": {
        "id": "k-iHTW3s7jXV"
      },
      "source": [
        "## Box Plot"
      ]
    },
    {
      "cell_type": "code",
      "execution_count": null,
      "metadata": {
        "colab": {
          "base_uri": "https://localhost:8080/",
          "height": 753
        },
        "id": "MVvv8EGf7k9V",
        "outputId": "ffcc298a-855b-4191-bf6c-3640f947b2ad"
      },
      "outputs": [
        {
          "output_type": "stream",
          "name": "stderr",
          "text": [
            "/usr/local/lib/python3.10/dist-packages/seaborn/_base.py:1608: UserWarning: Vertical orientation ignored with only `x` specified.\n",
            "  warnings.warn(single_var_warning.format(\"Vertical\", \"x\"))\n",
            "/usr/local/lib/python3.10/dist-packages/seaborn/_base.py:1608: UserWarning: Vertical orientation ignored with only `x` specified.\n",
            "  warnings.warn(single_var_warning.format(\"Vertical\", \"x\"))\n",
            "/usr/local/lib/python3.10/dist-packages/seaborn/_base.py:1608: UserWarning: Vertical orientation ignored with only `x` specified.\n",
            "  warnings.warn(single_var_warning.format(\"Vertical\", \"x\"))\n",
            "/usr/local/lib/python3.10/dist-packages/seaborn/_base.py:1608: UserWarning: Vertical orientation ignored with only `x` specified.\n",
            "  warnings.warn(single_var_warning.format(\"Vertical\", \"x\"))\n"
          ]
        },
        {
          "output_type": "display_data",
          "data": {
            "text/plain": [
              "<Figure size 900x600 with 4 Axes>"
            ],
            "image/png": "[encoded data removed]"
          },
          "metadata": {}
        }
      ],
      "source": [
        "numerik = ['harga', 'reviews', 'rating', 'total_facilities']\n",
        "num_cols = len(numerik)\n",
        "num_rows = (num_cols + 2) // 3\n",
        "\n",
        "plt.figure(figsize=(9, 6))\n",
        "\n",
        "for i, col in enumerate(numerik, 1): #melakukan loop atau iterasi tiap kolom numerika pada df. dimana enumerate untuk mendapatkan indeks (dari 1) dan nilai dari tiap kolom list numerik\n",
        "    plt.subplot(num_rows, 2, i) #menentukan letak boxplot dimana tertampil 3 kolom\n",
        "    sns.boxplot(x=df[col], orient='v') #membuat boxplot untuk atribut numerik dari df\n",
        "    plt.title(col)\n",
        "    plt.tight_layout()\n",
        "\n",
        "\n",
        "\n",
        "plt.show() # code untuk menampilkan visualisasi"
      ]
    },
    {
      "cell_type": "markdown",
      "metadata": {
        "id": "z89-AvDl7oLc"
      },
      "source": [
        "Berikut adalah interpretasi dari masing-masing variabel:\n",
        "\n",
        "* Harga:\n",
        "\n",
        "Terlihat bahwa harga memiliki banyak\n",
        "outlier, yang ditandai dengan titik-titik di luar whisker (garis horizontal).\n",
        "Median harga (garis horizontal dalam box) berada di bawah rentang IQR (Interquartile Range), menunjukkan bahwa data tidak simetris dan terdapat banyak nilai ekstrem di sisi atas.\n",
        "Rentang harga cukup lebar, dengan beberapa nilai yang sangat tinggi (outlier).\n",
        "\n",
        "* Reviews:\n",
        "\n",
        "Reviews juga menunjukkan adanya beberapa outlier di sisi kanan (nilai tinggi).\n",
        "Median reviews terletak lebih dekat ke bagian bawah dari IQR, menunjukkan distribusi data yang tidak simetris.\n",
        "Sebagian besar nilai reviews berada dalam rentang IQR, namun terdapat beberapa nilai ekstrem di sisi atas.\n",
        "\n",
        "* Rating:\n",
        "\n",
        "Rating memiliki beberapa outlier di sisi kiri (nilai rendah).\n",
        "Median rating berada di bagian atas IQR, menunjukkan bahwa distribusi data sedikit miring ke kiri.\n",
        "Sebagian besar data rating terkonsentrasi di sekitar median, namun terdapat beberapa nilai rendah yang ekstrem.\n",
        "* Total Facilities:\n",
        "\n",
        "Total facilities tidak menunjukkan adanya outlier, yang ditandai dengan tidak adanya titik di luar whisker.\n",
        "Median total facilities berada di tengah-tengah IQR, menunjukkan distribusi data yang simetris.\n",
        "Data total facilities tersebar merata di sekitar median dengan tidak adanya nilai ekstrem."
      ]
    },
    {
      "cell_type": "markdown",
      "metadata": {
        "id": "Smiato0Tp9hu"
      },
      "source": [
        "## Distribution Plot"
      ]
    },
    {
      "cell_type": "code",
      "execution_count": null,
      "metadata": {
        "colab": {
          "base_uri": "https://localhost:8080/",
          "height": 1000
        },
        "id": "J9fwFEoWbjGz",
        "outputId": "3527c93d-b6c9-41fa-b40c-86fccf53bcd6"
      },
      "outputs": [
        {
          "output_type": "stream",
          "name": "stderr",
          "text": [
            "<ipython-input-22-3a2445e665d1>:7: UserWarning: \n",
            "\n",
            "`distplot` is a deprecated function and will be removed in seaborn v0.14.0.\n",
            "\n",
            "Please adapt your code to use either `displot` (a figure-level function with\n",
            "similar flexibility) or `histplot` (an axes-level function for histograms).\n",
            "\n",
            "For a guide to updating your code to use the new functions, please see\n",
            "https://gist.github.com/mwaskom/de44147ed2974457ad6372750bbe5751\n",
            "\n",
            "  sns.distplot(df_new[x] , bins = 15)\n",
            "<ipython-input-22-3a2445e665d1>:7: UserWarning: \n",
            "\n",
            "`distplot` is a deprecated function and will be removed in seaborn v0.14.0.\n",
            "\n",
            "Please adapt your code to use either `displot` (a figure-level function with\n",
            "similar flexibility) or `histplot` (an axes-level function for histograms).\n",
            "\n",
            "For a guide to updating your code to use the new functions, please see\n",
            "https://gist.github.com/mwaskom/de44147ed2974457ad6372750bbe5751\n",
            "\n",
            "  sns.distplot(df_new[x] , bins = 15)\n",
            "<ipython-input-22-3a2445e665d1>:7: UserWarning: \n",
            "\n",
            "`distplot` is a deprecated function and will be removed in seaborn v0.14.0.\n",
            "\n",
            "Please adapt your code to use either `displot` (a figure-level function with\n",
            "similar flexibility) or `histplot` (an axes-level function for histograms).\n",
            "\n",
            "For a guide to updating your code to use the new functions, please see\n",
            "https://gist.github.com/mwaskom/de44147ed2974457ad6372750bbe5751\n",
            "\n",
            "  sns.distplot(df_new[x] , bins = 15)\n",
            "<ipython-input-22-3a2445e665d1>:7: UserWarning: \n",
            "\n",
            "`distplot` is a deprecated function and will be removed in seaborn v0.14.0.\n",
            "\n",
            "Please adapt your code to use either `displot` (a figure-level function with\n",
            "similar flexibility) or `histplot` (an axes-level function for histograms).\n",
            "\n",
            "For a guide to updating your code to use the new functions, please see\n",
            "https://gist.github.com/mwaskom/de44147ed2974457ad6372750bbe5751\n",
            "\n",
            "  sns.distplot(df_new[x] , bins = 15)\n"
          ]
        },
        {
          "output_type": "display_data",
          "data": {
            "text/plain": [
              "<Figure size 1500x600 with 4 Axes>"
            ],
            "image/png": "[encoded data removed]"
          },
          "metadata": {}
        }
      ],
      "source": [
        "plt.figure(1 , figsize = (15 , 6))\n",
        "n = 0\n",
        "for x in df_new:\n",
        "    n += 1\n",
        "    plt.subplot(1 , 4 , n)\n",
        "    plt.subplots_adjust(hspace = 0.5 , wspace = 0.5)\n",
        "    sns.distplot(df_new[x] , bins = 15)\n",
        "    plt.title('Distplot of {}'.format(x))\n",
        "plt.show()"
      ]
    },
    {
      "cell_type": "markdown",
      "metadata": {
        "id": "ZdHtPVuKyZUU"
      },
      "source": [
        "Berikut adalah interpretasi dari masing-masing variabel:\n",
        "\n",
        "* Harga:\n",
        "\n",
        "Distribusi harga menunjukkan bahwa sebagian besar data terkonsentrasi di dekat nilai yang sangat rendah, dengan ekor panjang ke kanan. Ini menunjukkan distribusi yang sangat skewed ke kanan.\n",
        "Ada puncak yang tinggi di awal, menunjukkan sebagian besar harga sangat rendah, namun ada beberapa nilai yang sangat tinggi (outlier).\n",
        "\n",
        "* Reviews:\n",
        "\n",
        "Distribusi reviews juga sangat skewed ke kanan, dengan sebagian besar data terkonsentrasi di dekat nilai rendah dan ekor panjang ke kanan.\n",
        "Mirip dengan harga, ada puncak yang tajam di nilai rendah dan beberapa nilai ekstrem yang sangat tinggi (outlier).\n",
        "\n",
        "* Rating:\n",
        "\n",
        "Distribusi rating mendekati distribusi normal, namun ada sedikit skewness ke kiri.\n",
        "Sebagian besar data rating terkonsentrasi di sekitar nilai 8 hingga 9, dengan puncak di sekitar 8.5.\n",
        "Tidak ada ekor panjang yang signifikan, menunjukkan bahwa outlier di variabel ini tidak terlalu ekstrem.\n",
        "\n",
        "* Total Facilities:\n",
        "\n",
        "Distribusi total_facilities menunjukkan dua puncak (bimodal), dengan satu puncak di sekitar nilai 2 dan satu puncak lainnya di sekitar nilai 6.\n",
        "Data ini tidak menunjukkan skewness yang signifikan, namun memiliki dua grup utama yang dapat diidentifikasi."
      ]
    },
    {
      "cell_type": "markdown",
      "metadata": {
        "id": "F4ZimE80ShfC"
      },
      "source": [
        "# Data Clustering 🎯"
      ]
    },
    {
      "cell_type": "markdown",
      "metadata": {
        "id": "h-Xl4UVtSZ9j"
      },
      "source": [
        "## Feature Scaling"
      ]
    },
    {
      "cell_type": "code",
      "execution_count": null,
      "metadata": {
        "colab": {
          "base_uri": "https://localhost:8080/",
          "height": 206
        },
        "id": "2NHuiIzn7iFK",
        "outputId": "34e1915b-54d0-4572-dfb8-670de382acbb"
      },
      "outputs": [
        {
          "output_type": "execute_result",
          "data": {
            "text/plain": [
              "      harga   reviews    rating  total_facilities\n",
              "0  0.065847  1.837263  0.345972               1.0\n",
              "1 -0.224777  1.559871  0.345972               1.0\n",
              "2 -0.011762  2.299584  0.345972               0.8\n",
              "3  0.006087  8.864540  0.345972               0.4\n",
              "4  0.469471  0.912621 -1.086218               1.0"
            ],
            "text/html": [
              "\n",
              "  <div id=\"df-843eba09-3bda-49fa-a9ad-5d81462d7f68\" class=\"colab-df-container\">\n",
              "    <div>\n",
              "<style scoped>\n",
              "    .dataframe tbody tr th:only-of-type {\n",
              "        vertical-align: middle;\n",
              "    }\n",
              "\n",
              "    .dataframe tbody tr th {\n",
              "        vertical-align: top;\n",
              "    }\n",
              "\n",
              "    .dataframe thead th {\n",
              "        text-align: right;\n",
              "    }\n",
              "</style>\n",
              "<table border=\"1\" class=\"dataframe\">\n",
              "  <thead>\n",
              "    <tr style=\"text-align: right;\">\n",
              "      <th></th>\n",
              "      <th>harga</th>\n",
              "      <th>reviews</th>\n",
              "      <th>rating</th>\n",
              "      <th>total_facilities</th>\n",
              "    </tr>\n",
              "  </thead>\n",
              "  <tbody>\n",
              "    <tr>\n",
              "      <th>0</th>\n",
              "      <td>0.065847</td>\n",
              "      <td>1.837263</td>\n",
              "      <td>0.345972</td>\n",
              "      <td>1.0</td>\n",
              "    </tr>\n",
              "    <tr>\n",
              "      <th>1</th>\n",
              "      <td>-0.224777</td>\n",
              "      <td>1.559871</td>\n",
              "      <td>0.345972</td>\n",
              "      <td>1.0</td>\n",
              "    </tr>\n",
              "    <tr>\n",
              "      <th>2</th>\n",
              "      <td>-0.011762</td>\n",
              "      <td>2.299584</td>\n",
              "      <td>0.345972</td>\n",
              "      <td>0.8</td>\n",
              "    </tr>\n",
              "    <tr>\n",
              "      <th>3</th>\n",
              "      <td>0.006087</td>\n",
              "      <td>8.864540</td>\n",
              "      <td>0.345972</td>\n",
              "      <td>0.4</td>\n",
              "    </tr>\n",
              "    <tr>\n",
              "      <th>4</th>\n",
              "      <td>0.469471</td>\n",
              "      <td>0.912621</td>\n",
              "      <td>-1.086218</td>\n",
              "      <td>1.0</td>\n",
              "    </tr>\n",
              "  </tbody>\n",
              "</table>\n",
              "</div>\n",
              "    <div class=\"colab-df-buttons\">\n",
              "\n",
              "  <div class=\"colab-df-container\">\n",
              "    <button class=\"colab-df-convert\" onclick=\"convertToInteractive('df-843eba09-3bda-49fa-a9ad-5d81462d7f68')\"\n",
              "            title=\"Convert this dataframe to an interactive table.\"\n",
              "            style=\"display:none;\">\n",
              "\n",
              "  <svg xmlns=\"http://www.w3.org/2000/svg\" height=\"24px\" viewBox=\"0 -960 960 960\">\n",
              "    <path d=\"M120-120v-720h720v720H120Zm60-500h600v-160H180v160Zm220 220h160v-160H400v160Zm0 220h160v-160H400v160ZM180-400h160v-160H180v160Zm440 0h160v-160H620v160ZM180-180h160v-160H180v160Zm440 0h160v-160H620v160Z\"/>\n",
              "  </svg>\n",
              "    </button>\n",
              "\n",
              "  <style>\n",
              "    .colab-df-container {\n",
              "      display:flex;\n",
              "      gap: 12px;\n",
              "    }\n",
              "\n",
              "    .colab-df-convert {\n",
              "      background-color: #E8F0FE;\n",
              "      border: none;\n",
              "      border-radius: 50%;\n",
              "      cursor: pointer;\n",
              "      display: none;\n",
              "      fill: #1967D2;\n",
              "      height: 32px;\n",
              "      padding: 0 0 0 0;\n",
              "      width: 32px;\n",
              "    }\n",
              "\n",
              "    .colab-df-convert:hover {\n",
              "      background-color: #E2EBFA;\n",
              "      box-shadow: 0px 1px 2px rgba(60, 64, 67, 0.3), 0px 1px 3px 1px rgba(60, 64, 67, 0.15);\n",
              "      fill: #174EA6;\n",
              "    }\n",
              "\n",
              "    .colab-df-buttons div {\n",
              "      margin-bottom: 4px;\n",
              "    }\n",
              "\n",
              "    [theme=dark] .colab-df-convert {\n",
              "      background-color: #3B4455;\n",
              "      fill: #D2E3FC;\n",
              "    }\n",
              "\n",
              "    [theme=dark] .colab-df-convert:hover {\n",
              "      background-color: #434B5C;\n",
              "      box-shadow: 0px 1px 3px 1px rgba(0, 0, 0, 0.15);\n",
              "      filter: drop-shadow(0px 1px 2px rgba(0, 0, 0, 0.3));\n",
              "      fill: #FFFFFF;\n",
              "    }\n",
              "  </style>\n",
              "\n",
              "    <script>\n",
              "      const buttonEl =\n",
              "        document.querySelector('#df-843eba09-3bda-49fa-a9ad-5d81462d7f68 button.colab-df-convert');\n",
              "      buttonEl.style.display =\n",
              "        google.colab.kernel.accessAllowed ? 'block' : 'none';\n",
              "\n",
              "      async function convertToInteractive(key) {\n",
              "        const element = document.querySelector('#df-843eba09-3bda-49fa-a9ad-5d81462d7f68');\n",
              "        const dataTable =\n",
              "          await google.colab.kernel.invokeFunction('convertToInteractive',\n",
              "                                                    [key], {});\n",
              "        if (!dataTable) return;\n",
              "\n",
              "        const docLinkHtml = 'Like what you see? Visit the ' +\n",
              "          '<a target=\"_blank\" href=https://colab.research.google.com/notebooks/data_table.ipynb>data table notebook</a>'\n",
              "          + ' to learn more about interactive tables.';\n",
              "        element.innerHTML = '';\n",
              "        dataTable['output_type'] = 'display_data';\n",
              "        await google.colab.output.renderOutput(dataTable, element);\n",
              "        const docLink = document.createElement('div');\n",
              "        docLink.innerHTML = docLinkHtml;\n",
              "        element.appendChild(docLink);\n",
              "      }\n",
              "    </script>\n",
              "  </div>\n",
              "\n",
              "\n",
              "<div id=\"df-5a1d14e6-1353-4007-9c95-1216f1736021\">\n",
              "  <button class=\"colab-df-quickchart\" onclick=\"quickchart('df-5a1d14e6-1353-4007-9c95-1216f1736021')\"\n",
              "            title=\"Suggest charts\"\n",
              "            style=\"display:none;\">\n",
              "\n",
              "<svg xmlns=\"http://www.w3.org/2000/svg\" height=\"24px\"viewBox=\"0 0 24 24\"\n",
              "     width=\"24px\">\n",
              "    <g>\n",
              "        <path d=\"M19 3H5c-1.1 0-2 .9-2 2v14c0 1.1.9 2 2 2h14c1.1 0 2-.9 2-2V5c0-1.1-.9-2-2-2zM9 17H7v-7h2v7zm4 0h-2V7h2v10zm4 0h-2v-4h2v4z\"/>\n",
              "    </g>\n",
              "</svg>\n",
              "  </button>\n",
              "\n",
              "<style>\n",
              "  .colab-df-quickchart {\n",
              "      --bg-color: #E8F0FE;\n",
              "      --fill-color: #1967D2;\n",
              "      --hover-bg-color: #E2EBFA;\n",
              "      --hover-fill-color: #174EA6;\n",
              "      --disabled-fill-color: #AAA;\n",
              "      --disabled-bg-color: #DDD;\n",
              "  }\n",
              "\n",
              "  [theme=dark] .colab-df-quickchart {\n",
              "      --bg-color: #3B4455;\n",
              "      --fill-color: #D2E3FC;\n",
              "      --hover-bg-color: #434B5C;\n",
              "      --hover-fill-color: #FFFFFF;\n",
              "      --disabled-bg-color: #3B4455;\n",
              "      --disabled-fill-color: #666;\n",
              "  }\n",
              "\n",
              "  .colab-df-quickchart {\n",
              "    background-color: var(--bg-color);\n",
              "    border: none;\n",
              "    border-radius: 50%;\n",
              "    cursor: pointer;\n",
              "    display: none;\n",
              "    fill: var(--fill-color);\n",
              "    height: 32px;\n",
              "    padding: 0;\n",
              "    width: 32px;\n",
              "  }\n",
              "\n",
              "  .colab-df-quickchart:hover {\n",
              "    background-color: var(--hover-bg-color);\n",
              "    box-shadow: 0 1px 2px rgba(60, 64, 67, 0.3), 0 1px 3px 1px rgba(60, 64, 67, 0.15);\n",
              "    fill: var(--button-hover-fill-color);\n",
              "  }\n",
              "\n",
              "  .colab-df-quickchart-complete:disabled,\n",
              "  .colab-df-quickchart-complete:disabled:hover {\n",
              "    background-color: var(--disabled-bg-color);\n",
              "    fill: var(--disabled-fill-color);\n",
              "    box-shadow: none;\n",
              "  }\n",
              "\n",
              "  .colab-df-spinner {\n",
              "    border: 2px solid var(--fill-color);\n",
              "    border-color: transparent;\n",
              "    border-bottom-color: var(--fill-color);\n",
              "    animation:\n",
              "      spin 1s steps(1) infinite;\n",
              "  }\n",
              "\n",
              "  @keyframes spin {\n",
              "    0% {\n",
              "      border-color: transparent;\n",
              "      border-bottom-color: var(--fill-color);\n",
              "      border-left-color: var(--fill-color);\n",
              "    }\n",
              "    20% {\n",
              "      border-color: transparent;\n",
              "      border-left-color: var(--fill-color);\n",
              "      border-top-color: var(--fill-color);\n",
              "    }\n",
              "    30% {\n",
              "      border-color: transparent;\n",
              "      border-left-color: var(--fill-color);\n",
              "      border-top-color: var(--fill-color);\n",
              "      border-right-color: var(--fill-color);\n",
              "    }\n",
              "    40% {\n",
              "      border-color: transparent;\n",
              "      border-right-color: var(--fill-color);\n",
              "      border-top-color: var(--fill-color);\n",
              "    }\n",
              "    60% {\n",
              "      border-color: transparent;\n",
              "      border-right-color: var(--fill-color);\n",
              "    }\n",
              "    80% {\n",
              "      border-color: transparent;\n",
              "      border-right-color: var(--fill-color);\n",
              "      border-bottom-color: var(--fill-color);\n",
              "    }\n",
              "    90% {\n",
              "      border-color: transparent;\n",
              "      border-bottom-color: var(--fill-color);\n",
              "    }\n",
              "  }\n",
              "</style>\n",
              "\n",
              "  <script>\n",
              "    async function quickchart(key) {\n",
              "      const quickchartButtonEl =\n",
              "        document.querySelector('#' + key + ' button');\n",
              "      quickchartButtonEl.disabled = true;  // To prevent multiple clicks.\n",
              "      quickchartButtonEl.classList.add('colab-df-spinner');\n",
              "      try {\n",
              "        const charts = await google.colab.kernel.invokeFunction(\n",
              "            'suggestCharts', [key], {});\n",
              "      } catch (error) {\n",
              "        console.error('Error during call to suggestCharts:', error);\n",
              "      }\n",
              "      quickchartButtonEl.classList.remove('colab-df-spinner');\n",
              "      quickchartButtonEl.classList.add('colab-df-quickchart-complete');\n",
              "    }\n",
              "    (() => {\n",
              "      let quickchartButtonEl =\n",
              "        document.querySelector('#df-5a1d14e6-1353-4007-9c95-1216f1736021 button');\n",
              "      quickchartButtonEl.style.display =\n",
              "        google.colab.kernel.accessAllowed ? 'block' : 'none';\n",
              "    })();\n",
              "  </script>\n",
              "</div>\n",
              "    </div>\n",
              "  </div>\n"
            ],
            "application/vnd.google.colaboratory.intrinsic+json": {
              "type": "dataframe",
              "variable_name": "df_new",
              "summary": "{\n  \"name\": \"df_new\",\n  \"rows\": 255,\n  \"fields\": [\n    {\n      \"column\": \"harga\",\n      \"properties\": {\n        \"dtype\": \"number\",\n        \"std\": 1.463580401806015,\n        \"min\": -0.5560810087460029,\n        \"max\": 12.144154048808188,\n        \"num_unique_values\": 243,\n        \"samples\": [\n          -0.1729418500193166,\n          3.776932708375031,\n          0.4542373196922375\n        ],\n        \"semantic_type\": \"\",\n        \"description\": \"\"\n      }\n    },\n    {\n      \"column\": \"reviews\",\n      \"properties\": {\n        \"dtype\": \"number\",\n        \"std\": 1.1056786225771915,\n        \"min\": -0.37725381414701803,\n        \"max\": 8.864539990753583,\n        \"num_unique_values\": 187,\n        \"samples\": [\n          -0.34766527970411465,\n          0.11927877947295423,\n          0.22468793342579751\n        ],\n        \"semantic_type\": \"\",\n        \"description\": \"\"\n      }\n    },\n    {\n      \"column\": \"rating\",\n      \"properties\": {\n        \"dtype\": \"number\",\n        \"std\": 1.001966570237758,\n        \"min\": -3.9505982679686116,\n        \"max\": 2.064600402765513,\n        \"num_unique_values\": 21,\n        \"samples\": [\n          0.34597221112719234,\n          1.7781623708257936,\n          -1.9455320443905693\n        ],\n        \"semantic_type\": \"\",\n        \"description\": \"\"\n      }\n    },\n    {\n      \"column\": \"total_facilities\",\n      \"properties\": {\n        \"dtype\": \"number\",\n        \"std\": 0.3524334776712029,\n        \"min\": 0.0,\n        \"max\": 1.0000000000000002,\n        \"num_unique_values\": 6,\n        \"samples\": [\n          1.0000000000000002,\n          0.8,\n          0.6000000000000001\n        ],\n        \"semantic_type\": \"\",\n        \"description\": \"\"\n      }\n    }\n  ]\n}"
            }
          },
          "metadata": {},
          "execution_count": 23
        }
      ],
      "source": [
        "robust_scaler = RobustScaler()\n",
        "standard_scaler = StandardScaler()\n",
        "minmax_scaler = MinMaxScaler()\n",
        "outlier_cols = ['harga', 'reviews']\n",
        "no_outlier_cols = ['rating', 'total_facilities']\n",
        "df_new[['total_facilities']] = minmax_scaler.fit_transform(df_new[['total_facilities']])\n",
        "df_new[['rating']] = standard_scaler.fit_transform(df_new[['rating']])\n",
        "df_new[outlier_cols] = robust_scaler.fit_transform(df_new[outlier_cols])\n",
        "#df_new[no_outlier_cols] = standard_scaler.fit_transform(df_new[no_outlier_cols])\n",
        "df_new.head()"
      ]
    },
    {
      "cell_type": "markdown",
      "source": [
        "Dari tabel diatas dilakukan robust scaling pada variabel ‘harga’ dan ‘reviews’ dikarenakan terdapat outlier. Kemudian menggunakan standard scaling pada variabel ‘rating’ dikarenakan distribusi data mendekati distribusi normal. Dan terakhir menggunakan min-max scaling pada variabel ‘total_facilities’ agar didapatkan nilai pada rentang 0-1.\n"
      ],
      "metadata": {
        "id": "olFS-xE5zWoR"
      }
    },
    {
      "cell_type": "markdown",
      "source": [
        "## Principal Component Analysis (PCA)"
      ],
      "metadata": {
        "id": "I0Z3GuvWL81G"
      }
    },
    {
      "cell_type": "code",
      "source": [
        "df_pca = df_new.copy()\n",
        "# Lakukan PCA\n",
        "pca_fit = PCA().fit(df_pca)\n",
        "\n",
        "# Hitung explained variance ratio\n",
        "explained_variance_ratio = pca_fit.explained_variance_ratio_\n",
        "\n",
        "# Plot explained variance ratio\n",
        "plt.figure(figsize=(10, 6))\n",
        "plt.plot(np.cumsum(explained_variance_ratio), marker='o')\n",
        "plt.xlabel('Number of Components')\n",
        "plt.ylabel('Cumulative Explained Variance')\n",
        "plt.title('Explained Variance by Principal Components')\n",
        "plt.grid(True)\n",
        "plt.show()\n",
        "\n",
        "# Tentukan jumlah komponen optimal\n",
        "cumulative_variance = np.cumsum(explained_variance_ratio)\n",
        "optimal_components = np.where(cumulative_variance >= 0.95)[0][0]\n",
        "print(f\"Jumlah komponen optimal yang menjelaskan setidaknya 95% variansi: {optimal_components}\")"
      ],
      "metadata": {
        "colab": {
          "base_uri": "https://localhost:8080/",
          "height": 582
        },
        "id": "079N3UxBMAW1",
        "outputId": "abc8bee7-3a02-4629-ad5a-66d821804b98"
      },
      "execution_count": null,
      "outputs": [
        {
          "output_type": "display_data",
          "data": {
            "text/plain": [
              "<Figure size 1000x600 with 1 Axes>"
            ],
            "image/png": "[encoded data removed]"
          },
          "metadata": {}
        },
        {
          "output_type": "stream",
          "name": "stdout",
          "text": [
            "Jumlah komponen optimal yang menjelaskan setidaknya 95% variansi: 2\n"
          ]
        }
      ]
    },
    {
      "cell_type": "code",
      "source": [
        "# PCA\n",
        "df_pca = df_new.copy()\n",
        "pca = PCA(n_components=2)\n",
        "pca_result = pca.fit_transform(df_pca)\n",
        "\n",
        "pca_df = pd.DataFrame(data=pca_result, columns=['PC1','PC2'])"
      ],
      "metadata": {
        "id": "lOvET_22IAss"
      },
      "execution_count": null,
      "outputs": []
    },
    {
      "cell_type": "code",
      "source": [
        "# Feature loadings\n",
        "eigenvalues = pca.explained_variance_\n",
        "eigenvectors = pca.components_.T\n",
        "\n",
        "loadings = eigenvectors * np.sqrt(eigenvalues)\n",
        "\n",
        "hasil_loadings = pd.DataFrame(loadings, columns=['PC1', 'PC2'], index=df_pca.columns)\n",
        "print(hasil_loadings)\n",
        "\n",
        "# Visualisasi kontribusi variabel untuk setiap komponen utama\n",
        "plt.figure(figsize=(10, 8))\n",
        "plt.bar(hasil_loadings.index, hasil_loadings['PC1'], alpha=0.5, align='center', label='PC1')\n",
        "plt.bar(hasil_loadings.index, hasil_loadings['PC2'], alpha=0.5, align='center', label='PC2')\n",
        "plt.xticks(rotation=90)\n",
        "plt.ylabel('Loading Score')\n",
        "plt.xlabel('Feature')\n",
        "plt.title('Feature Contribution to Principal Components')\n",
        "plt.legend()\n",
        "plt.show()"
      ],
      "metadata": {
        "colab": {
          "base_uri": "https://localhost:8080/",
          "height": 892
        },
        "id": "wilZfcSEIKpb",
        "outputId": "429dfc61-ddab-4619-dea4-cae193bc771f"
      },
      "execution_count": null,
      "outputs": [
        {
          "output_type": "stream",
          "name": "stdout",
          "text": [
            "                       PC1       PC2\n",
            "harga             1.419780  0.098510\n",
            "reviews          -0.374905  0.996036\n",
            "rating            0.508536  0.454244\n",
            "total_facilities  0.035955  0.071112\n"
          ]
        },
        {
          "output_type": "display_data",
          "data": {
            "text/plain": [
              "<Figure size 1000x800 with 1 Axes>"
            ],
            "image/png": "[encoded data removed]"
          },
          "metadata": {}
        }
      ]
    },
    {
      "cell_type": "markdown",
      "source": [
        "Berdasarkan visualisasi diatas PC1 merepresentasikan banyak kontribusi dari variabel ‘harga’, dengan sedikit kontribusi dari variabel ‘reviews’ dan ‘rating’. Sedangkan PC2 merepresentasikan banyak kontribusi dari variabel ‘reviews’, dengan sedikit kontribusi dari variabel ‘rating’, ‘harga’ dan ‘total_facilities’.\n"
      ],
      "metadata": {
        "id": "m4SqaKmozR-X"
      }
    },
    {
      "cell_type": "markdown",
      "metadata": {
        "id": "xnTCpj_JSn51"
      },
      "source": [
        "## Elbow Method"
      ]
    },
    {
      "cell_type": "code",
      "execution_count": null,
      "metadata": {
        "colab": {
          "base_uri": "https://localhost:8080/",
          "height": 854
        },
        "id": "hF1P-Ou0tTTY",
        "outputId": "e64e37d0-07f6-4f48-d450-d7b9c4bb9037"
      },
      "outputs": [
        {
          "output_type": "stream",
          "name": "stderr",
          "text": [
            "/usr/local/lib/python3.10/dist-packages/sklearn/cluster/_kmeans.py:870: FutureWarning: The default value of `n_init` will change from 10 to 'auto' in 1.4. Set the value of `n_init` explicitly to suppress the warning\n",
            "  warnings.warn(\n",
            "/usr/local/lib/python3.10/dist-packages/sklearn/cluster/_kmeans.py:870: FutureWarning: The default value of `n_init` will change from 10 to 'auto' in 1.4. Set the value of `n_init` explicitly to suppress the warning\n",
            "  warnings.warn(\n",
            "/usr/local/lib/python3.10/dist-packages/sklearn/cluster/_kmeans.py:870: FutureWarning: The default value of `n_init` will change from 10 to 'auto' in 1.4. Set the value of `n_init` explicitly to suppress the warning\n",
            "  warnings.warn(\n",
            "/usr/local/lib/python3.10/dist-packages/sklearn/cluster/_kmeans.py:870: FutureWarning: The default value of `n_init` will change from 10 to 'auto' in 1.4. Set the value of `n_init` explicitly to suppress the warning\n",
            "  warnings.warn(\n",
            "/usr/local/lib/python3.10/dist-packages/sklearn/cluster/_kmeans.py:870: FutureWarning: The default value of `n_init` will change from 10 to 'auto' in 1.4. Set the value of `n_init` explicitly to suppress the warning\n",
            "  warnings.warn(\n",
            "/usr/local/lib/python3.10/dist-packages/sklearn/cluster/_kmeans.py:870: FutureWarning: The default value of `n_init` will change from 10 to 'auto' in 1.4. Set the value of `n_init` explicitly to suppress the warning\n",
            "  warnings.warn(\n",
            "/usr/local/lib/python3.10/dist-packages/sklearn/cluster/_kmeans.py:870: FutureWarning: The default value of `n_init` will change from 10 to 'auto' in 1.4. Set the value of `n_init` explicitly to suppress the warning\n",
            "  warnings.warn(\n",
            "/usr/local/lib/python3.10/dist-packages/sklearn/cluster/_kmeans.py:870: FutureWarning: The default value of `n_init` will change from 10 to 'auto' in 1.4. Set the value of `n_init` explicitly to suppress the warning\n",
            "  warnings.warn(\n"
          ]
        },
        {
          "output_type": "display_data",
          "data": {
            "text/plain": [
              "<Figure size 800x550 with 2 Axes>"
            ],
            "image/png": "[encoded data removed]"
          },
          "metadata": {}
        },
        {
          "output_type": "execute_result",
          "data": {
            "text/plain": [
              "<Axes: title={'center': 'Distortion Score Elbow for KMeans Clustering'}, xlabel='k', ylabel='distortion score'>"
            ]
          },
          "metadata": {},
          "execution_count": 27
        }
      ],
      "source": [
        "from sklearn.cluster import KMeans\n",
        "from yellowbrick.cluster import KElbowVisualizer\n",
        "import matplotlib.pyplot as plt\n",
        "df_pca = pca_df.copy()\n",
        "# Define the K-Means model and K Elbow visualiser\n",
        "model = KMeans(init='k-means++', random_state=42)  # Adjust random state if desired\n",
        "visualizer = KElbowVisualizer(model, k=(2, 10))  # Adjust k range as needed\n",
        "\n",
        "# Fit the df and visualize the elbow\n",
        "visualizer.fit(df_pca)\n",
        "visualizer.show()"
      ]
    },
    {
      "cell_type": "markdown",
      "metadata": {
        "id": "yGzci0RdZOb2"
      },
      "source": [
        "Plot \"Distortion Score Elbow for KMeans Clustering\" menunjukkan bahwa jumlah klaster optimal adalah 4. Interpretasi ini didasarkan pada metode elbow, yang mencari titik di mana penurunan skor distorsi mulai melambat secara signifikan, menciptakan bentuk siku (elbow) pada grafik.\n",
        "\n",
        "Berikut adalah rincian interpretasinya:\n",
        "\n",
        "1. **Skor Distorsi vs. Jumlah Klaster (k):**\n",
        "   - Skor distorsi mengukur seberapa baik klasterisasi meminimalkan jarak antara titik data dan pusat klasternya. Skor yang lebih rendah menunjukkan klaster yang lebih baik.\n",
        "   - Pada k = 4, skor distorsi adalah 261.944. Ini adalah titik di mana penurunan skor distorsi mulai melambat, menunjukkan bahwa menambah klaster lebih lanjut tidak akan memberikan peningkatan signifikan dalam kualitas klasterisasi.\n",
        "\n",
        "2. **Visualisasi Elbow:**\n",
        "   - Garis hitam putus-putus menandai \"elbow\" pada k = 4, menunjukkan jumlah klaster optimal berdasarkan metode elbow.\n",
        "   - Setelah k = 4, penurunan skor distorsi menjadi lebih landai, menunjukkan bahwa menambah lebih banyak klaster memberikan pengurangan distorsi yang tidak signifikan.\n",
        "\n",
        "3. **Waktu Eksekusi:**\n",
        "   - Garis orange menunjukkan waktu eksekusi untuk setiap nilai k. Meskipun waktu eksekusi meningkat sedikit dengan bertambahnya k, ini tidak menjadi faktor utama dalam penentuan jumlah klaster optimal.\n",
        "\n",
        "Secara keseluruhan, berdasarkan plot elbow ini, jumlah klaster optimal untuk dataset Anda adalah 4, di mana keseimbangan terbaik antara skor distorsi dan jumlah klaster tercapai."
      ]
    },
    {
      "cell_type": "markdown",
      "metadata": {
        "id": "YbbOoydRSsMd"
      },
      "source": [
        "## Silhouette Score"
      ]
    },
    {
      "cell_type": "code",
      "execution_count": null,
      "metadata": {
        "colab": {
          "base_uri": "https://localhost:8080/",
          "height": 273
        },
        "id": "eLerLMm7tVLC",
        "outputId": "203aaea9-f70e-43b3-934d-ca3301d5d78f"
      },
      "outputs": [
        {
          "output_type": "stream",
          "name": "stderr",
          "text": [
            "/usr/local/lib/python3.10/dist-packages/sklearn/cluster/_kmeans.py:870: FutureWarning: The default value of `n_init` will change from 10 to 'auto' in 1.4. Set the value of `n_init` explicitly to suppress the warning\n",
            "  warnings.warn(\n",
            "/usr/local/lib/python3.10/dist-packages/sklearn/cluster/_kmeans.py:870: FutureWarning: The default value of `n_init` will change from 10 to 'auto' in 1.4. Set the value of `n_init` explicitly to suppress the warning\n",
            "  warnings.warn(\n",
            "/usr/local/lib/python3.10/dist-packages/sklearn/cluster/_kmeans.py:870: FutureWarning: The default value of `n_init` will change from 10 to 'auto' in 1.4. Set the value of `n_init` explicitly to suppress the warning\n",
            "  warnings.warn(\n"
          ]
        },
        {
          "output_type": "execute_result",
          "data": {
            "text/plain": [
              "   Number of Clusters  Silhouette Score\n",
              "0                   2          0.541069\n",
              "1                   3          0.511433\n",
              "2                   4          0.440630"
            ],
            "text/html": [
              "\n",
              "  <div id=\"df-67ce6fc2-2813-4954-9d35-51338e7253ea\" class=\"colab-df-container\">\n",
              "    <div>\n",
              "<style scoped>\n",
              "    .dataframe tbody tr th:only-of-type {\n",
              "        vertical-align: middle;\n",
              "    }\n",
              "\n",
              "    .dataframe tbody tr th {\n",
              "        vertical-align: top;\n",
              "    }\n",
              "\n",
              "    .dataframe thead th {\n",
              "        text-align: right;\n",
              "    }\n",
              "</style>\n",
              "<table border=\"1\" class=\"dataframe\">\n",
              "  <thead>\n",
              "    <tr style=\"text-align: right;\">\n",
              "      <th></th>\n",
              "      <th>Number of Clusters</th>\n",
              "      <th>Silhouette Score</th>\n",
              "    </tr>\n",
              "  </thead>\n",
              "  <tbody>\n",
              "    <tr>\n",
              "      <th>0</th>\n",
              "      <td>2</td>\n",
              "      <td>0.541069</td>\n",
              "    </tr>\n",
              "    <tr>\n",
              "      <th>1</th>\n",
              "      <td>3</td>\n",
              "      <td>0.511433</td>\n",
              "    </tr>\n",
              "    <tr>\n",
              "      <th>2</th>\n",
              "      <td>4</td>\n",
              "      <td>0.440630</td>\n",
              "    </tr>\n",
              "  </tbody>\n",
              "</table>\n",
              "</div>\n",
              "    <div class=\"colab-df-buttons\">\n",
              "\n",
              "  <div class=\"colab-df-container\">\n",
              "    <button class=\"colab-df-convert\" onclick=\"convertToInteractive('df-67ce6fc2-2813-4954-9d35-51338e7253ea')\"\n",
              "            title=\"Convert this dataframe to an interactive table.\"\n",
              "            style=\"display:none;\">\n",
              "\n",
              "  <svg xmlns=\"http://www.w3.org/2000/svg\" height=\"24px\" viewBox=\"0 -960 960 960\">\n",
              "    <path d=\"M120-120v-720h720v720H120Zm60-500h600v-160H180v160Zm220 220h160v-160H400v160Zm0 220h160v-160H400v160ZM180-400h160v-160H180v160Zm440 0h160v-160H620v160ZM180-180h160v-160H180v160Zm440 0h160v-160H620v160Z\"/>\n",
              "  </svg>\n",
              "    </button>\n",
              "\n",
              "  <style>\n",
              "    .colab-df-container {\n",
              "      display:flex;\n",
              "      gap: 12px;\n",
              "    }\n",
              "\n",
              "    .colab-df-convert {\n",
              "      background-color: #E8F0FE;\n",
              "      border: none;\n",
              "      border-radius: 50%;\n",
              "      cursor: pointer;\n",
              "      display: none;\n",
              "      fill: #1967D2;\n",
              "      height: 32px;\n",
              "      padding: 0 0 0 0;\n",
              "      width: 32px;\n",
              "    }\n",
              "\n",
              "    .colab-df-convert:hover {\n",
              "      background-color: #E2EBFA;\n",
              "      box-shadow: 0px 1px 2px rgba(60, 64, 67, 0.3), 0px 1px 3px 1px rgba(60, 64, 67, 0.15);\n",
              "      fill: #174EA6;\n",
              "    }\n",
              "\n",
              "    .colab-df-buttons div {\n",
              "      margin-bottom: 4px;\n",
              "    }\n",
              "\n",
              "    [theme=dark] .colab-df-convert {\n",
              "      background-color: #3B4455;\n",
              "      fill: #D2E3FC;\n",
              "    }\n",
              "\n",
              "    [theme=dark] .colab-df-convert:hover {\n",
              "      background-color: #434B5C;\n",
              "      box-shadow: 0px 1px 3px 1px rgba(0, 0, 0, 0.15);\n",
              "      filter: drop-shadow(0px 1px 2px rgba(0, 0, 0, 0.3));\n",
              "      fill: #FFFFFF;\n",
              "    }\n",
              "  </style>\n",
              "\n",
              "    <script>\n",
              "      const buttonEl =\n",
              "        document.querySelector('#df-67ce6fc2-2813-4954-9d35-51338e7253ea button.colab-df-convert');\n",
              "      buttonEl.style.display =\n",
              "        google.colab.kernel.accessAllowed ? 'block' : 'none';\n",
              "\n",
              "      async function convertToInteractive(key) {\n",
              "        const element = document.querySelector('#df-67ce6fc2-2813-4954-9d35-51338e7253ea');\n",
              "        const dataTable =\n",
              "          await google.colab.kernel.invokeFunction('convertToInteractive',\n",
              "                                                    [key], {});\n",
              "        if (!dataTable) return;\n",
              "\n",
              "        const docLinkHtml = 'Like what you see? Visit the ' +\n",
              "          '<a target=\"_blank\" href=https://colab.research.google.com/notebooks/data_table.ipynb>data table notebook</a>'\n",
              "          + ' to learn more about interactive tables.';\n",
              "        element.innerHTML = '';\n",
              "        dataTable['output_type'] = 'display_data';\n",
              "        await google.colab.output.renderOutput(dataTable, element);\n",
              "        const docLink = document.createElement('div');\n",
              "        docLink.innerHTML = docLinkHtml;\n",
              "        element.appendChild(docLink);\n",
              "      }\n",
              "    </script>\n",
              "  </div>\n",
              "\n",
              "\n",
              "<div id=\"df-8250136d-17b4-4e6a-862a-f88cc7cad1b9\">\n",
              "  <button class=\"colab-df-quickchart\" onclick=\"quickchart('df-8250136d-17b4-4e6a-862a-f88cc7cad1b9')\"\n",
              "            title=\"Suggest charts\"\n",
              "            style=\"display:none;\">\n",
              "\n",
              "<svg xmlns=\"http://www.w3.org/2000/svg\" height=\"24px\"viewBox=\"0 0 24 24\"\n",
              "     width=\"24px\">\n",
              "    <g>\n",
              "        <path d=\"M19 3H5c-1.1 0-2 .9-2 2v14c0 1.1.9 2 2 2h14c1.1 0 2-.9 2-2V5c0-1.1-.9-2-2-2zM9 17H7v-7h2v7zm4 0h-2V7h2v10zm4 0h-2v-4h2v4z\"/>\n",
              "    </g>\n",
              "</svg>\n",
              "  </button>\n",
              "\n",
              "<style>\n",
              "  .colab-df-quickchart {\n",
              "      --bg-color: #E8F0FE;\n",
              "      --fill-color: #1967D2;\n",
              "      --hover-bg-color: #E2EBFA;\n",
              "      --hover-fill-color: #174EA6;\n",
              "      --disabled-fill-color: #AAA;\n",
              "      --disabled-bg-color: #DDD;\n",
              "  }\n",
              "\n",
              "  [theme=dark] .colab-df-quickchart {\n",
              "      --bg-color: #3B4455;\n",
              "      --fill-color: #D2E3FC;\n",
              "      --hover-bg-color: #434B5C;\n",
              "      --hover-fill-color: #FFFFFF;\n",
              "      --disabled-bg-color: #3B4455;\n",
              "      --disabled-fill-color: #666;\n",
              "  }\n",
              "\n",
              "  .colab-df-quickchart {\n",
              "    background-color: var(--bg-color);\n",
              "    border: none;\n",
              "    border-radius: 50%;\n",
              "    cursor: pointer;\n",
              "    display: none;\n",
              "    fill: var(--fill-color);\n",
              "    height: 32px;\n",
              "    padding: 0;\n",
              "    width: 32px;\n",
              "  }\n",
              "\n",
              "  .colab-df-quickchart:hover {\n",
              "    background-color: var(--hover-bg-color);\n",
              "    box-shadow: 0 1px 2px rgba(60, 64, 67, 0.3), 0 1px 3px 1px rgba(60, 64, 67, 0.15);\n",
              "    fill: var(--button-hover-fill-color);\n",
              "  }\n",
              "\n",
              "  .colab-df-quickchart-complete:disabled,\n",
              "  .colab-df-quickchart-complete:disabled:hover {\n",
              "    background-color: var(--disabled-bg-color);\n",
              "    fill: var(--disabled-fill-color);\n",
              "    box-shadow: none;\n",
              "  }\n",
              "\n",
              "  .colab-df-spinner {\n",
              "    border: 2px solid var(--fill-color);\n",
              "    border-color: transparent;\n",
              "    border-bottom-color: var(--fill-color);\n",
              "    animation:\n",
              "      spin 1s steps(1) infinite;\n",
              "  }\n",
              "\n",
              "  @keyframes spin {\n",
              "    0% {\n",
              "      border-color: transparent;\n",
              "      border-bottom-color: var(--fill-color);\n",
              "      border-left-color: var(--fill-color);\n",
              "    }\n",
              "    20% {\n",
              "      border-color: transparent;\n",
              "      border-left-color: var(--fill-color);\n",
              "      border-top-color: var(--fill-color);\n",
              "    }\n",
              "    30% {\n",
              "      border-color: transparent;\n",
              "      border-left-color: var(--fill-color);\n",
              "      border-top-color: var(--fill-color);\n",
              "      border-right-color: var(--fill-color);\n",
              "    }\n",
              "    40% {\n",
              "      border-color: transparent;\n",
              "      border-right-color: var(--fill-color);\n",
              "      border-top-color: var(--fill-color);\n",
              "    }\n",
              "    60% {\n",
              "      border-color: transparent;\n",
              "      border-right-color: var(--fill-color);\n",
              "    }\n",
              "    80% {\n",
              "      border-color: transparent;\n",
              "      border-right-color: var(--fill-color);\n",
              "      border-bottom-color: var(--fill-color);\n",
              "    }\n",
              "    90% {\n",
              "      border-color: transparent;\n",
              "      border-bottom-color: var(--fill-color);\n",
              "    }\n",
              "  }\n",
              "</style>\n",
              "\n",
              "  <script>\n",
              "    async function quickchart(key) {\n",
              "      const quickchartButtonEl =\n",
              "        document.querySelector('#' + key + ' button');\n",
              "      quickchartButtonEl.disabled = true;  // To prevent multiple clicks.\n",
              "      quickchartButtonEl.classList.add('colab-df-spinner');\n",
              "      try {\n",
              "        const charts = await google.colab.kernel.invokeFunction(\n",
              "            'suggestCharts', [key], {});\n",
              "      } catch (error) {\n",
              "        console.error('Error during call to suggestCharts:', error);\n",
              "      }\n",
              "      quickchartButtonEl.classList.remove('colab-df-spinner');\n",
              "      quickchartButtonEl.classList.add('colab-df-quickchart-complete');\n",
              "    }\n",
              "    (() => {\n",
              "      let quickchartButtonEl =\n",
              "        document.querySelector('#df-8250136d-17b4-4e6a-862a-f88cc7cad1b9 button');\n",
              "      quickchartButtonEl.style.display =\n",
              "        google.colab.kernel.accessAllowed ? 'block' : 'none';\n",
              "    })();\n",
              "  </script>\n",
              "</div>\n",
              "    </div>\n",
              "  </div>\n"
            ],
            "application/vnd.google.colaboratory.intrinsic+json": {
              "type": "dataframe",
              "variable_name": "results_df",
              "summary": "{\n  \"name\": \"results_df\",\n  \"rows\": 3,\n  \"fields\": [\n    {\n      \"column\": \"Number of Clusters\",\n      \"properties\": {\n        \"dtype\": \"number\",\n        \"std\": 1,\n        \"min\": 2,\n        \"max\": 4,\n        \"num_unique_values\": 3,\n        \"samples\": [\n          2,\n          3,\n          4\n        ],\n        \"semantic_type\": \"\",\n        \"description\": \"\"\n      }\n    },\n    {\n      \"column\": \"Silhouette Score\",\n      \"properties\": {\n        \"dtype\": \"number\",\n        \"std\": 0.051606564112832216,\n        \"min\": 0.44062973870485006,\n        \"max\": 0.5410688639397282,\n        \"num_unique_values\": 3,\n        \"samples\": [\n          0.5410688639397282,\n          0.5114332506550808,\n          0.44062973870485006\n        ],\n        \"semantic_type\": \"\",\n        \"description\": \"\"\n      }\n    }\n  ]\n}"
            }
          },
          "metadata": {},
          "execution_count": 28
        }
      ],
      "source": [
        "range_n_clusters = [2, 3, 4]\n",
        "\n",
        "results = []\n",
        "\n",
        "for n_clusters in range_n_clusters:\n",
        "    kmeans = KMeans(n_clusters=n_clusters, random_state=42)\n",
        "    cluster_labels = kmeans.fit_predict(df_pca)\n",
        "    silhouette_avg = silhouette_score(df_pca, cluster_labels)\n",
        "    results.append((n_clusters, silhouette_avg))\n",
        "\n",
        "results_df = pd.DataFrame(results, columns=['Number of Clusters', 'Silhouette Score'])\n",
        "results_df.head()"
      ]
    },
    {
      "cell_type": "markdown",
      "metadata": {
        "id": "jhvJK1QBwuM0"
      },
      "source": [
        "Interpretasi Skor Silhouette dan Plot:\n",
        "\n",
        "1. **Skor Silhouette untuk n_clusters = 2**:\n",
        "   - **Skor Silhouette Rata-rata**: 0.541\n",
        "   - **Interpretasi**: Skor ini menunjukkan hasil clustering yang cukup baik. Sebagian besar titik memiliki nilai silhouette yang tinggi, yang berarti cluster terdefinisi dengan baik dan titik-titik tersebut cocok dengan cluster mereka sendiri.\n",
        "\n",
        "2. **Skor Silhouette untuk n_clusters = 3**:\n",
        "   - **Skor Silhouette Rata-rata**: 0.511\n",
        "   - **Interpretasi**: Skor ini lebih rendah dibandingkan dengan yang sebelumnya, yang menunjukkan bahwa hasil clustering kurang terdefinisi dengan baik. Ada kemungkinan lebih banyak tumpang tindih antar cluster, dan beberapa titik mungkin salah diklasifikasikan.\n",
        "\n",
        "3. **Skor Silhouette untuk n_clusters = 4**:\n",
        "   - **Skor Silhouette Rata-rata**: 0.44\n",
        "   - **Interpretasi**: Skor silhouette ini lebih rendah dibandingkan dengan 3 cluster. Hal ini menunjukkan beberapa peningkatan dalam clustering dibandingkan dengan 3 cluster, tetapi cluster masih tidak terpisah dengan baik seperti pada 2 cluster.\n",
        "\n",
        "Ringkasan:\n",
        "- Skor silhouette tertinggi adalah untuk 2 cluster, yang menunjukkan bahwa data paling baik diwakili oleh 2 cluster.\n",
        "- Meningkatkan jumlah cluster lebih dari 2 menghasilkan penurunan skor silhouette rata-rata, yang menunjukkan clustering yang kurang terdefinisi dengan baik.\n",
        "- Plot silhouette mendukung interpretasi ini, menunjukkan pemisahan yang lebih baik dan cluster yang lebih kompak untuk 2 cluster dibandingkan dengan jumlah cluster yang lebih tinggi.\n",
        "\n",
        "Berdasarkan hasil ini, tampaknya paling tepat menggunakan 2 cluster untuk dataset ini untuk mencapai kualitas clustering terbaik."
      ]
    },
    {
      "cell_type": "markdown",
      "metadata": {
        "id": "IDnrGGAmTa5i"
      },
      "source": [
        "## K-Means Clustering"
      ]
    },
    {
      "cell_type": "code",
      "execution_count": null,
      "metadata": {
        "colab": {
          "base_uri": "https://localhost:8080/"
        },
        "id": "wqntE2jDZzfS",
        "outputId": "97005899-8a94-4ac5-bcd7-87382fdaed5a"
      },
      "outputs": [
        {
          "output_type": "stream",
          "name": "stdout",
          "text": [
            "Collecting plotly.express\n",
            "  Downloading plotly_express-0.4.1-py2.py3-none-any.whl (2.9 kB)\n",
            "Requirement already satisfied: pandas>=0.20.0 in /usr/local/lib/python3.10/dist-packages (from plotly.express) (2.0.3)\n",
            "Requirement already satisfied: plotly>=4.1.0 in /usr/local/lib/python3.10/dist-packages (from plotly.express) (5.15.0)\n",
            "Requirement already satisfied: statsmodels>=0.9.0 in /usr/local/lib/python3.10/dist-packages (from plotly.express) (0.14.2)\n",
            "Requirement already satisfied: scipy>=0.18 in /usr/local/lib/python3.10/dist-packages (from plotly.express) (1.11.4)\n",
            "Requirement already satisfied: patsy>=0.5 in /usr/local/lib/python3.10/dist-packages (from plotly.express) (0.5.6)\n",
            "Requirement already satisfied: numpy>=1.11 in /usr/local/lib/python3.10/dist-packages (from plotly.express) (1.25.2)\n",
            "Requirement already satisfied: python-dateutil>=2.8.2 in /usr/local/lib/python3.10/dist-packages (from pandas>=0.20.0->plotly.express) (2.8.2)\n",
            "Requirement already satisfied: pytz>=2020.1 in /usr/local/lib/python3.10/dist-packages (from pandas>=0.20.0->plotly.express) (2023.4)\n",
            "Requirement already satisfied: tzdata>=2022.1 in /usr/local/lib/python3.10/dist-packages (from pandas>=0.20.0->plotly.express) (2024.1)\n",
            "Requirement already satisfied: six in /usr/local/lib/python3.10/dist-packages (from patsy>=0.5->plotly.express) (1.16.0)\n",
            "Requirement already satisfied: tenacity>=6.2.0 in /usr/local/lib/python3.10/dist-packages (from plotly>=4.1.0->plotly.express) (8.3.0)\n",
            "Requirement already satisfied: packaging in /usr/local/lib/python3.10/dist-packages (from plotly>=4.1.0->plotly.express) (24.0)\n",
            "Installing collected packages: plotly.express\n",
            "Successfully installed plotly.express-0.4.1\n"
          ]
        }
      ],
      "source": [
        "pip install plotly.express"
      ]
    },
    {
      "cell_type": "markdown",
      "source": [
        "### K-Means Visualisasi 2D"
      ],
      "metadata": {
        "id": "oSnkIRfMsskE"
      }
    },
    {
      "cell_type": "code",
      "execution_count": null,
      "metadata": {
        "colab": {
          "base_uri": "https://localhost:8080/",
          "height": 882
        },
        "id": "Q7Fkwxyuz-3I",
        "outputId": "2613029e-72be-4f47-c852-320de0ced3ef"
      },
      "outputs": [
        {
          "output_type": "stream",
          "name": "stderr",
          "text": [
            "/usr/local/lib/python3.10/dist-packages/sklearn/cluster/_kmeans.py:870: FutureWarning: The default value of `n_init` will change from 10 to 'auto' in 1.4. Set the value of `n_init` explicitly to suppress the warning\n",
            "  warnings.warn(\n",
            "<ipython-input-30-14a35a1f985c>:16: SettingWithCopyWarning: \n",
            "A value is trying to be set on a copy of a slice from a DataFrame.\n",
            "Try using .loc[row_indexer,col_indexer] = value instead\n",
            "\n",
            "See the caveats in the documentation: https://pandas.pydata.org/pandas-docs/stable/user_guide/indexing.html#returning-a-view-versus-a-copy\n",
            "  df['KMeans_Cluster_2D'] = cluster_labels_2d\n"
          ]
        },
        {
          "output_type": "display_data",
          "data": {
            "text/plain": [
              "<Figure size 1000x800 with 1 Axes>"
            ],
            "image/png": "[encoded data removed]"
          },
          "metadata": {}
        }
      ],
      "source": [
        "import matplotlib.pyplot as plt\n",
        "from sklearn.cluster import KMeans\n",
        "\n",
        "# DataFrame untuk 2D\n",
        "df_2d = df_pca.copy()\n",
        "\n",
        "# Tentukan jumlah klaster\n",
        "n_clusters = 4\n",
        "kmeans_2d = KMeans(n_clusters=n_clusters, random_state=42)\n",
        "\n",
        "# Melakukan clustering\n",
        "cluster_labels_2d = kmeans_2d.fit_predict(df_2d)\n",
        "\n",
        "# Menambahkan label klaster ke DataFrame asli\n",
        "df_pca['KMeans_Cluster_2D'] = cluster_labels_2d\n",
        "df['KMeans_Cluster_2D'] = cluster_labels_2d\n",
        "\n",
        "# Visualisasi hasil clustering dalam 2D\n",
        "plt.figure(figsize=(10, 8))\n",
        "\n",
        "# Plot setiap klaster dengan warna yang berbeda\n",
        "for cluster in range(n_clusters):\n",
        "    cluster_df = df_2d[cluster_labels_2d == cluster]\n",
        "    plt.scatter(cluster_df['PC1'], cluster_df['PC2'], label=f'Cluster {cluster+1}')\n",
        "\n",
        "# Plot centroids\n",
        "plt.scatter(kmeans_2d.cluster_centers_[:, 0], kmeans_2d.cluster_centers_[:, 1], s=300, c='black', marker='*', label='Centroids')\n",
        "\n",
        "# Menambahkan label dan judul\n",
        "plt.xlabel('PC1')\n",
        "plt.ylabel('PC2')\n",
        "plt.title('KMeans Clustering in 2D')\n",
        "plt.legend()\n",
        "plt.show()\n"
      ]
    },
    {
      "cell_type": "markdown",
      "source": [
        "Berdasarkan visualisasi K-Means Clustering 2D di atas antara PC1 dan PC2, didapatkan 4 klaster serta beberapa titik pusat (centroids). Klaster 1 (berwarna biru) memiliki nilai PC1 yang bervariasi dan terpusat di sekitar nilai negatif hingga positif kecil pada PC2. Hal ini mengindikasikan bahwa hotel-hotel dalam klaster ini cenderung memiliki harga yang menengah, rating yang cukup baik, jumlah reviewer yang moderat, dan fasilitas yang memadai.\n",
        "\n",
        "Klaster 2 (berwarna oranye) terpusat pada nilai PC1 yang lebih tinggi dan nilai PC2 yang negatif hingga sedikit positif, menunjukkan bahwa hotel-hotel dalam klaster ini memiliki harga yang lebih tinggi, rating yang sangat baik, dan fasilitas yang lebih lengkap dibandingkan dengan klaster lainnya.\n",
        "\n",
        "Klaster 3 (berwarna hijau) memiliki nilai PC1 yang lebih tinggi dengan nilai PC2 yang bervariasi dari negatif hingga positif tinggi, mengindikasikan bahwa hotel-hotel dalam klaster ini memiliki harga yang lebih terjangkau, rating yang lebih rendah, jumlah reviewer yang lebih sedikit, dan fasilitas yang lebih dasar.\n",
        "\n",
        "Klaster 4 (berwarna merah) memiliki nilai PC1 negatif hingga sedikit positif dengan rentang nilai PC2 yang rendah hingga tinggi, mengindikasikan bahwa hotel-hotel dalam klaster ini memiliki kombinasi harga, rating, jumlah reviewer, dan fasilitas yang bervariasi namun tetap memiliki kesamaan tertentu yang membedakan mereka dari klaster lainnya.\n",
        "\n",
        "Selain itu, titik-titik pusat (centroids) yang ditandai dengan bintang hitam menunjukkan pusat dari masing-masing klaster yang membantu dalam memahami karakteristik utama dari tiap klaster. Dengan demikian, analisis clustering ini memberikan wawasan yang jelas mengenai segmentasi hotel-hotel di Pulau Bali berdasarkan harga, rating, jumlah reviewer, dan fasilitas.\n"
      ],
      "metadata": {
        "id": "m8GeEDaezyjs"
      }
    },
    {
      "cell_type": "code",
      "source": [
        "import plotly.express as px\n",
        "import plotly.graph_objs as go\n",
        "\n",
        "# Nilai centroids\n",
        "centroids = kmeans_2d.cluster_centers_\n",
        "\n",
        "# Visualisasi hasil clustering dalam 3D\n",
        "fig = px.scatter(df_pca, x='PC1', y='PC2',\n",
        "                    color='KMeans_Cluster_2D', title='KMeans Clustering in 2D')\n",
        "\n",
        "# Menambahkan centroids ke dalam plot\n",
        "centroids_trace = go.Scatter(\n",
        "    x=centroids[:, 0],\n",
        "    y=centroids[:, 1],\n",
        "    # z=centroids[:, 2],\n",
        "    mode='markers',\n",
        "    marker=dict(size=10, color='red', symbol='x'),\n",
        "    name='Centroids'\n",
        ")\n",
        "\n",
        "fig.add_trace(centroids_trace)\n",
        "\n",
        "fig.show()"
      ],
      "metadata": {
        "colab": {
          "base_uri": "https://localhost:8080/",
          "height": 542
        },
        "id": "7EWEihJlzq71",
        "outputId": "55c35737-2dbd-40f9-a07a-90b6da72e999"
      },
      "execution_count": null,
      "outputs": [
        {
          "output_type": "display_data",
          "data": {
            "text/html": [
              "<html>\n",
              "<head><meta charset=\"utf-8\" /></head>\n",
              "<body>\n",
              "    <div>            <script src=\"https://cdnjs.cloudflare.com/ajax/libs/mathjax/2.7.5/MathJax.js?config=TeX-AMS-MML_SVG\"></script><script type=\"text/javascript\">if (window.MathJax && window.MathJax.Hub && window.MathJax.Hub.Config) {window.MathJax.Hub.Config({SVG: {font: \"STIX-Web\"}});}</script>                <script type=\"text/javascript\">window.PlotlyConfig = {MathJaxConfig: 'local'};</script>\n",
              "        <script charset=\"utf-8\" src=\"https://cdn.plot.ly/plotly-2.24.1.min.js\"></script>                <div id=\"571a2fff-7117-46d2-97da-0ebd7de61e3d\" class=\"plotly-graph-div\" style=\"height:525px; width:100%;\"></div>            <script type=\"text/javascript\">                                    window.PLOTLYENV=window.PLOTLYENV || {};                                    if (document.getElementById(\"571a2fff-7117-46d2-97da-0ebd7de61e3d\")) {                    Plotly.newPlot(                        \"571a2fff-7117-46d2-97da-0ebd7de61e3d\",                        [{\"hovertemplate\":\"PC1=%{x}\\u003cbr\\u003ePC2=%{y}\\u003cbr\\u003eKMeans_Cluster_2D=%{marker.color}\\u003cextra\\u003e\\u003c\\u002fextra\\u003e\",\"legendgroup\":\"\",\"marker\":{\"color\":[2,2,2,2,3,0,1,2,3,2,3,2,2,3,2,2,3,2,2,3,2,2,2,2,2,3,3,3,3,2,2,1,2,2,3,0,0,0,3,2,2,0,2,0,3,0,3,3,3,0,3,0,2,2,0,3,1,3,0,3,1,3,3,3,3,2,2,0,2,0,3,2,3,3,2,2,2,3,3,3,3,2,3,3,2,3,0,0,3,0,0,3,2,3,1,3,3,0,0,0,3,3,3,3,3,3,0,3,3,0,3,2,3,0,3,3,3,3,3,3,0,2,3,1,3,0,0,0,2,3,0,3,3,3,3,3,3,3,3,1,3,3,3,3,1,0,3,3,1,0,0,3,0,3,3,3,3,3,3,3,3,0,3,0,3,0,3,3,0,3,3,1,3,0,3,0,0,1,0,0,3,0,0,3,3,0,0,3,3,3,1,0,1,3,3,3,3,3,3,3,3,0,0,0,3,0,3,0,0,3,3,3,1,3,3,3,3,3,3,3,3,3,0,3,1,3,3,3,0,3,0,3,3,3,0,3,3,0,1,0,3,3,3,0,0,0,3,3,3,1,3,3,3,1,3],\"coloraxis\":\"coloraxis\",\"symbol\":\"circle\"},\"mode\":\"markers\",\"name\":\"\",\"orientation\":\"v\",\"showlegend\":false,\"x\":[-0.650316671624066,-0.8488640553782599,-0.8373347209638556,-2.4136587513044137,-0.5271910999509657,0.2707675052201677,3.79130556048134,-1.0389278498964936,-1.052852450902845,-0.8086653119875824,-0.7706993005847865,-0.47400528321766044,-0.6981223160000544,-0.7362538011253237,-0.9512223013526453,-1.0829954798179022,-1.1709879897792737,-0.354072369276454,-0.8472224532126221,-0.7433638904188806,-1.333972447071362,-0.628383415308806,-1.4304556143560323,-0.9391744481742915,-0.8015184717491237,-0.8845028541023441,-0.21942053630586617,-0.11791584551982756,-0.40677664409040826,-0.9005968467130369,-0.5580296088268071,2.7699894429049627,-1.4124921712701433,-0.9608671575884106,-0.0796624131555429,0.4410308737098743,0.029534135780198114,0.7905104264188565,-0.5316537327801377,-0.4004322159630494,-0.14658616740618413,2.109521332421568,-2.0070694076116546,0.005049079506767269,0.024763475952934287,2.319177800047832,-0.6938360564990478,-0.022929437054131755,-0.5454619317635343,1.5608945473986187,-0.17678378705855477,0.39716903336150083,-1.8310221612132636,-0.5238890318046084,0.12091898838040187,-0.36566952674262865,4.131629573674702,-0.2561036318268974,1.8476842135647815,-0.5736618720762767,7.040480873461538,-0.978412667688212,-0.9546597241437054,-0.0520271554813852,-0.16778787254584895,-0.6955744538742136,-1.0577908996350731,0.479135527535129,-1.1958920714607457,0.4780516326576583,-1.2605764929783145,-0.7949322450032276,-0.35711678194459634,-0.4239286123662829,-0.5348930654684086,-0.4951496442864503,-1.8066751194137836,-0.675912306243464,-0.022419180419417206,-1.411060317113634,-1.2908408158659128,-0.9550432694970887,-0.019943414836519475,-1.0176244094460916,-0.9971529507203936,-0.7101254662057837,0.18207959778318825,0.6864885404084438,-1.0752775685264067,0.49080029614753556,0.7439101635512011,-1.4713420506540955,-0.8736276684318126,-0.9619834670271582,4.7605420811719315,-0.9565658881501854,-1.1709393963816175,0.2722935076269071,0.44883168926078987,0.24685988202837425,-0.7225880658381384,-0.5797251539396897,-0.5952704400506876,-1.686511226985881,-0.34407003194076946,-0.8157551408617468,1.5261759005216937,-1.4175156109606082,-1.2318290690319713,0.9926999350661588,-0.7843771945266801,-1.1616137162360525,-0.6713852696055967,0.3086717655199231,-0.16953820303964898,-1.582400977448061,-0.9615091082837034,-0.9376823987574858,-0.6301545190019892,-1.5443751502612777,1.383729102558655,-0.9497550105590301,-0.3261548776609117,3.240950200119006,0.052385084697834976,1.6078659189552318,1.4063983999510614,0.1843676171580082,-0.47040494328120347,-1.0463993824981284,0.36557553711945684,-0.8085233570969693,-1.331730776253271,-1.1490055150630751,-0.598557149614145,-0.8106519508622806,-0.8530365703313887,-1.1343664237445967,-0.5121437851907553,4.707670410132613,-1.3475900364505689,-0.793252129438173,-0.27724987033442916,-0.3010321942901074,3.1822305939465805,0.1221835321657958,-0.5986978879134618,-1.0453431658841656,3.464045549757081,0.34958371478723577,1.841082557926202,-0.7142499049842936,2.0669192832765066,-0.19145714299230773,-1.2948135209037746,-0.5786662172533511,-0.34732339309023086,-0.7625231582810716,-0.4316400348303428,-0.05600106158869779,-0.7116336609948586,1.225812109880099,-0.8294907003589672,1.8715825940752102,-0.12193785829455528,0.9729373822787661,-1.4338858875734672,-1.405280340014941,1.9773092892749118,-1.2211322698565583,-0.5033667039448717,2.6480047832969213,-0.5124934075471267,0.24762378344804398,-1.5385001892665462,1.7731691859533916,0.8102486113910006,3.0980493479941105,-0.02696958921304083,0.25131365558385277,-1.1731254873169406,1.2384259750275748,0.6355696724007115,0.1816293376567545,-0.15891248202126884,2.1922597203690093,0.6845715254513426,-0.8748076388685342,-0.24421746186920693,-1.7707695434185944,2.9910231443037603,1.3689410497830294,3.1027807105412206,-0.1281342593708615,-0.5300308264458643,-1.8487540431055587,-0.3125755046609822,-0.8554858303083172,-0.766688428882492,-1.9319758351104732,-0.6792733307540982,0.5697175633359454,0.689165415172321,0.29699648764566916,-0.5436119321526405,0.6811803386089833,-0.543070682508551,1.4986072567798834,1.0607310808538246,-0.4513477656366129,-0.7884755411056208,-0.3360808470807211,3.047146622362581,-0.03221506818159806,-0.8388951481351828,-0.44450224424607815,-0.3659103700323963,-0.9534562663433607,-1.199976577408768,-0.5950213976365907,-0.5836695549733323,-0.677559553874404,1.6560132415982995,-1.8415822411383713,4.681417095498964,-0.4657105177575797,-0.5100299424813681,-0.008512085646596595,1.3598915805451846,-0.8979543157012544,2.130948674777131,-0.4062107863181006,-0.9595301426412058,-0.11494861227225163,0.7069903644964137,-0.17573724808522026,-0.009007499608239078,1.0709858895397275,5.335954433972237,1.4953519583118868,-0.6101185287808792,-0.5493626420969608,-1.6221152369035428,1.325320383909907,0.5512749718433396,0.8385191941183271,-0.6096795855998989,-0.6569823852433715,-0.10411581803651475,11.185978018218757,-0.85851174510237,-0.7184064707779941,-0.40290593109934697,2.666124133340985,-0.19909626015466936],\"xaxis\":\"x\",\"y\":[1.3950506291902223,1.118212800101062,1.7932726616827053,7.705716999436591,0.004354063017547549,0.47699705864794073,0.5995436588315871,3.1819272862176713,-0.4663494555320235,1.46357951209188,0.13577146990643096,2.109399875127446,0.9489161842651155,-0.041891135694360114,1.3427797341723384,1.6228866999534548,-0.1569437333226828,1.583196570671841,1.695810914855131,0.4923380471599551,1.7107937294223703,2.426783824056423,2.8651510936899522,1.2346589667588608,1.1228488052636518,-0.04309276520544786,0.3218589831570004,-0.5412488661570871,0.5840639331855177,1.7244335245075602,1.6383294300769684,0.4502425342044747,2.8647978890485293,1.0484778406152233,-0.15823528673524231,0.5688216969261892,0.5804784301991114,0.011865517214199678,0.353930208334421,0.7562827570977777,1.3155565887829017,0.14783621139747385,3.3145526383058064,0.5763162311979155,-1.0424838157624468,0.4383273809817638,-0.370252285387082,-0.3298988947855189,-0.4161790607168702,0.1992004633559813,0.2904202994893451,0.2792157379144358,2.132719952498321,1.5648037291219699,-0.10944606073784192,0.32034543043768465,0.3591667737381317,-0.3569464950766643,0.5135002062219236,0.14084098193100472,0.9785980028647316,0.44616825565967155,0.5342929003114294,0.10788450084191797,-0.42555213840632367,0.8758262958244655,1.4679811887694199,0.14479006532264918,2.6984206988730026,-0.9161421060648677,-0.5042481327501097,2.6283815808492355,-0.24037458527258274,0.3858680066379911,1.1471916853814923,0.7740391773797747,3.0607898067798267,0.6061311178092748,-0.7206438391887884,-1.2092072064159014,-0.6611903151237603,1.2957497259222346,-0.3072988218092799,-0.02051421158677659,0.8231420187104855,0.05589248107431551,-0.5088292487804043,0.8146393000530076,0.22947220211378258,-0.43784975803452797,-0.23376913814550654,-1.851725458810951,1.423369553808055,-0.029290021326915654,0.33151815287632536,0.2767098705097714,-0.0981711834439512,-0.46650840959467854,0.13586825615653317,-0.04564633984451577,0.5299859904270458,-0.40457506534544047,-0.08302047404649174,-1.6517581150842142,0.5044052723875692,-0.7545199803038631,-0.3828961239606178,-0.10597929880298139,0.02115581390654544,0.01155394661208669,-0.6622282453949647,4.417405560335438,0.26902070145418583,-0.6637269748720034,-0.11212455488060506,-1.5476442112123,-0.9069050581427298,-0.6476833691537461,-0.4378408470030284,-0.6560006365303004,0.3860538304471543,1.5248682623361756,-0.017215871402856433,-0.13076197191030475,-1.1388466706643843,-0.5713162286928362,-0.41300400684822375,-0.11189903005351377,1.2731540011309534,-0.8749778273474945,-0.14518711995809558,-1.329076895612319,0.4243788202270774,-1.049698367947651,-0.47208522932019853,-0.42034885629745217,-0.7654590347494992,-0.31561489705171886,-0.5773372574828369,0.06466621079857994,-0.958451518569474,-0.3345737650426328,-0.04935512058690918,-0.3901414921338433,-0.052061722607667976,0.02668472128654637,-0.5972563894955579,-1.1759794854145043,0.5023032792957213,-0.37453021390269725,-0.5485172169197021,-0.1179223106145648,-0.6619542439155789,0.15893377832270844,-1.4419264529796894,-0.6155850934122645,-0.13307381267184368,-0.39935736930589427,-1.376654797328397,-0.4712705484772087,-0.5358821846840791,0.09048787241101496,-1.0103141607951185,-0.15852673090887023,-0.3250166129452764,-0.22209808927371155,-1.7090380589996814,-0.01863495055115978,0.6677494098603672,-1.5659723652753603,-0.292047710468343,0.7454232002185569,-0.671738675281813,-0.5169713547206068,-1.0835613503376507,-0.25351441943169656,-0.3323468165544394,0.2939355406342201,0.29898931077360874,-0.1134503616935697,-1.480632240225382,0.10117508510767519,-0.32379734567943974,-0.7653745357244263,-0.23639902471736365,0.18256115572506182,-0.2301301272621055,-0.6427836660207167,0.5154280839516786,-1.6780263037331808,-0.9175151417958278,-0.6015752799977212,-0.3738676411913203,-0.32471668198040193,-0.7651517615306999,-1.3965461938318051,-0.48608656979495046,-0.8545908759650338,-0.6841466501823782,-2.1790363622106885,-0.4748294135511957,-0.19504509816213841,-0.010081347969427971,-1.0221948140677783,-0.4804213971652915,0.10067519773982955,-0.7780787233390836,-0.29122841891456813,-0.10539498813398923,-0.19818243357380771,-0.9642194168095998,-0.592652307937338,-0.1421718410155589,-0.40413328476526655,-1.2711823950033516,-0.6452871901635641,-0.7937082068243572,-1.4809339852060648,-0.5390987985899193,-0.26228109776183123,-0.8394649027501215,-0.88554045545053,-0.08830080500387419,-2.427968961573926,0.34610375028150303,-0.8210506356565812,-0.4780025792217104,-0.4700152592144444,-0.23050229565664057,-1.037150639636799,0.4858552181336879,-0.5596042847652559,-1.1195781693941733,-0.6846898964020987,-0.590404725977506,-0.28530748038977644,-0.4126529677655497,-0.5706542304434926,0.30724795539627575,-0.4154104622580456,-0.7185788719257266,-0.7057029470445867,-2.0624604037957446,-0.5701842550147114,-0.40710669729129245,-0.29354311214034506,-0.4139616633114006,-1.30778473465967,-1.1962495972076987,0.8079648917397754,-0.37012398416221615,-1.1657892576457145,-0.9251851722382967,-0.2111406382004316,-0.40426962785070425],\"yaxis\":\"y\",\"type\":\"scatter\"},{\"marker\":{\"color\":\"red\",\"size\":10,\"symbol\":\"x\"},\"mode\":\"markers\",\"name\":\"Centroids\",\"x\":[0.9382041213943684,4.213629031954405,-0.9453436355629812,-0.702243592651675],\"y\":[-0.1130170769376299,0.2199552774532651,1.925416928028521,-0.5266891495917932],\"type\":\"scatter\"}],                        {\"template\":{\"data\":{\"histogram2dcontour\":[{\"type\":\"histogram2dcontour\",\"colorbar\":{\"outlinewidth\":0,\"ticks\":\"\"},\"colorscale\":[[0.0,\"#0d0887\"],[0.1111111111111111,\"#46039f\"],[0.2222222222222222,\"#7201a8\"],[0.3333333333333333,\"#9c179e\"],[0.4444444444444444,\"#bd3786\"],[0.5555555555555556,\"#d8576b\"],[0.6666666666666666,\"#ed7953\"],[0.7777777777777778,\"#fb9f3a\"],[0.8888888888888888,\"#fdca26\"],[1.0,\"#f0f921\"]]}],\"choropleth\":[{\"type\":\"choropleth\",\"colorbar\":{\"outlinewidth\":0,\"ticks\":\"\"}}],\"histogram2d\":[{\"type\":\"histogram2d\",\"colorbar\":{\"outlinewidth\":0,\"ticks\":\"\"},\"colorscale\":[[0.0,\"#0d0887\"],[0.1111111111111111,\"#46039f\"],[0.2222222222222222,\"#7201a8\"],[0.3333333333333333,\"#9c179e\"],[0.4444444444444444,\"#bd3786\"],[0.5555555555555556,\"#d8576b\"],[0.6666666666666666,\"#ed7953\"],[0.7777777777777778,\"#fb9f3a\"],[0.8888888888888888,\"#fdca26\"],[1.0,\"#f0f921\"]]}],\"heatmap\":[{\"type\":\"heatmap\",\"colorbar\":{\"outlinewidth\":0,\"ticks\":\"\"},\"colorscale\":[[0.0,\"#0d0887\"],[0.1111111111111111,\"#46039f\"],[0.2222222222222222,\"#7201a8\"],[0.3333333333333333,\"#9c179e\"],[0.4444444444444444,\"#bd3786\"],[0.5555555555555556,\"#d8576b\"],[0.6666666666666666,\"#ed7953\"],[0.7777777777777778,\"#fb9f3a\"],[0.8888888888888888,\"#fdca26\"],[1.0,\"#f0f921\"]]}],\"heatmapgl\":[{\"type\":\"heatmapgl\",\"colorbar\":{\"outlinewidth\":0,\"ticks\":\"\"},\"colorscale\":[[0.0,\"#0d0887\"],[0.1111111111111111,\"#46039f\"],[0.2222222222222222,\"#7201a8\"],[0.3333333333333333,\"#9c179e\"],[0.4444444444444444,\"#bd3786\"],[0.5555555555555556,\"#d8576b\"],[0.6666666666666666,\"#ed7953\"],[0.7777777777777778,\"#fb9f3a\"],[0.8888888888888888,\"#fdca26\"],[1.0,\"#f0f921\"]]}],\"contourcarpet\":[{\"type\":\"contourcarpet\",\"colorbar\":{\"outlinewidth\":0,\"ticks\":\"\"}}],\"contour\":[{\"type\":\"contour\",\"colorbar\":{\"outlinewidth\":0,\"ticks\":\"\"},\"colorscale\":[[0.0,\"#0d0887\"],[0.1111111111111111,\"#46039f\"],[0.2222222222222222,\"#7201a8\"],[0.3333333333333333,\"#9c179e\"],[0.4444444444444444,\"#bd3786\"],[0.5555555555555556,\"#d8576b\"],[0.6666666666666666,\"#ed7953\"],[0.7777777777777778,\"#fb9f3a\"],[0.8888888888888888,\"#fdca26\"],[1.0,\"#f0f921\"]]}],\"surface\":[{\"type\":\"surface\",\"colorbar\":{\"outlinewidth\":0,\"ticks\":\"\"},\"colorscale\":[[0.0,\"#0d0887\"],[0.1111111111111111,\"#46039f\"],[0.2222222222222222,\"#7201a8\"],[0.3333333333333333,\"#9c179e\"],[0.4444444444444444,\"#bd3786\"],[0.5555555555555556,\"#d8576b\"],[0.6666666666666666,\"#ed7953\"],[0.7777777777777778,\"#fb9f3a\"],[0.8888888888888888,\"#fdca26\"],[1.0,\"#f0f921\"]]}],\"mesh3d\":[{\"type\":\"mesh3d\",\"colorbar\":{\"outlinewidth\":0,\"ticks\":\"\"}}],\"scatter\":[{\"fillpattern\":{\"fillmode\":\"overlay\",\"size\":10,\"solidity\":0.2},\"type\":\"scatter\"}],\"parcoords\":[{\"type\":\"parcoords\",\"line\":{\"colorbar\":{\"outlinewidth\":0,\"ticks\":\"\"}}}],\"scatterpolargl\":[{\"type\":\"scatterpolargl\",\"marker\":{\"colorbar\":{\"outlinewidth\":0,\"ticks\":\"\"}}}],\"bar\":[{\"error_x\":{\"color\":\"#2a3f5f\"},\"error_y\":{\"color\":\"#2a3f5f\"},\"marker\":{\"line\":{\"color\":\"#E5ECF6\",\"width\":0.5},\"pattern\":{\"fillmode\":\"overlay\",\"size\":10,\"solidity\":0.2}},\"type\":\"bar\"}],\"scattergeo\":[{\"type\":\"scattergeo\",\"marker\":{\"colorbar\":{\"outlinewidth\":0,\"ticks\":\"\"}}}],\"scatterpolar\":[{\"type\":\"scatterpolar\",\"marker\":{\"colorbar\":{\"outlinewidth\":0,\"ticks\":\"\"}}}],\"histogram\":[{\"marker\":{\"pattern\":{\"fillmode\":\"overlay\",\"size\":10,\"solidity\":0.2}},\"type\":\"histogram\"}],\"scattergl\":[{\"type\":\"scattergl\",\"marker\":{\"colorbar\":{\"outlinewidth\":0,\"ticks\":\"\"}}}],\"scatter3d\":[{\"type\":\"scatter3d\",\"line\":{\"colorbar\":{\"outlinewidth\":0,\"ticks\":\"\"}},\"marker\":{\"colorbar\":{\"outlinewidth\":0,\"ticks\":\"\"}}}],\"scattermapbox\":[{\"type\":\"scattermapbox\",\"marker\":{\"colorbar\":{\"outlinewidth\":0,\"ticks\":\"\"}}}],\"scatterternary\":[{\"type\":\"scatterternary\",\"marker\":{\"colorbar\":{\"outlinewidth\":0,\"ticks\":\"\"}}}],\"scattercarpet\":[{\"type\":\"scattercarpet\",\"marker\":{\"colorbar\":{\"outlinewidth\":0,\"ticks\":\"\"}}}],\"carpet\":[{\"aaxis\":{\"endlinecolor\":\"#2a3f5f\",\"gridcolor\":\"white\",\"linecolor\":\"white\",\"minorgridcolor\":\"white\",\"startlinecolor\":\"#2a3f5f\"},\"baxis\":{\"endlinecolor\":\"#2a3f5f\",\"gridcolor\":\"white\",\"linecolor\":\"white\",\"minorgridcolor\":\"white\",\"startlinecolor\":\"#2a3f5f\"},\"type\":\"carpet\"}],\"table\":[{\"cells\":{\"fill\":{\"color\":\"#EBF0F8\"},\"line\":{\"color\":\"white\"}},\"header\":{\"fill\":{\"color\":\"#C8D4E3\"},\"line\":{\"color\":\"white\"}},\"type\":\"table\"}],\"barpolar\":[{\"marker\":{\"line\":{\"color\":\"#E5ECF6\",\"width\":0.5},\"pattern\":{\"fillmode\":\"overlay\",\"size\":10,\"solidity\":0.2}},\"type\":\"barpolar\"}],\"pie\":[{\"automargin\":true,\"type\":\"pie\"}]},\"layout\":{\"autotypenumbers\":\"strict\",\"colorway\":[\"#636efa\",\"#EF553B\",\"#00cc96\",\"#ab63fa\",\"#FFA15A\",\"#19d3f3\",\"#FF6692\",\"#B6E880\",\"#FF97FF\",\"#FECB52\"],\"font\":{\"color\":\"#2a3f5f\"},\"hovermode\":\"closest\",\"hoverlabel\":{\"align\":\"left\"},\"paper_bgcolor\":\"white\",\"plot_bgcolor\":\"#E5ECF6\",\"polar\":{\"bgcolor\":\"#E5ECF6\",\"angularaxis\":{\"gridcolor\":\"white\",\"linecolor\":\"white\",\"ticks\":\"\"},\"radialaxis\":{\"gridcolor\":\"white\",\"linecolor\":\"white\",\"ticks\":\"\"}},\"ternary\":{\"bgcolor\":\"#E5ECF6\",\"aaxis\":{\"gridcolor\":\"white\",\"linecolor\":\"white\",\"ticks\":\"\"},\"baxis\":{\"gridcolor\":\"white\",\"linecolor\":\"white\",\"ticks\":\"\"},\"caxis\":{\"gridcolor\":\"white\",\"linecolor\":\"white\",\"ticks\":\"\"}},\"coloraxis\":{\"colorbar\":{\"outlinewidth\":0,\"ticks\":\"\"}},\"colorscale\":{\"sequential\":[[0.0,\"#0d0887\"],[0.1111111111111111,\"#46039f\"],[0.2222222222222222,\"#7201a8\"],[0.3333333333333333,\"#9c179e\"],[0.4444444444444444,\"#bd3786\"],[0.5555555555555556,\"#d8576b\"],[0.6666666666666666,\"#ed7953\"],[0.7777777777777778,\"#fb9f3a\"],[0.8888888888888888,\"#fdca26\"],[1.0,\"#f0f921\"]],\"sequentialminus\":[[0.0,\"#0d0887\"],[0.1111111111111111,\"#46039f\"],[0.2222222222222222,\"#7201a8\"],[0.3333333333333333,\"#9c179e\"],[0.4444444444444444,\"#bd3786\"],[0.5555555555555556,\"#d8576b\"],[0.6666666666666666,\"#ed7953\"],[0.7777777777777778,\"#fb9f3a\"],[0.8888888888888888,\"#fdca26\"],[1.0,\"#f0f921\"]],\"diverging\":[[0,\"#8e0152\"],[0.1,\"#c51b7d\"],[0.2,\"#de77ae\"],[0.3,\"#f1b6da\"],[0.4,\"#fde0ef\"],[0.5,\"#f7f7f7\"],[0.6,\"#e6f5d0\"],[0.7,\"#b8e186\"],[0.8,\"#7fbc41\"],[0.9,\"#4d9221\"],[1,\"#276419\"]]},\"xaxis\":{\"gridcolor\":\"white\",\"linecolor\":\"white\",\"ticks\":\"\",\"title\":{\"standoff\":15},\"zerolinecolor\":\"white\",\"automargin\":true,\"zerolinewidth\":2},\"yaxis\":{\"gridcolor\":\"white\",\"linecolor\":\"white\",\"ticks\":\"\",\"title\":{\"standoff\":15},\"zerolinecolor\":\"white\",\"automargin\":true,\"zerolinewidth\":2},\"scene\":{\"xaxis\":{\"backgroundcolor\":\"#E5ECF6\",\"gridcolor\":\"white\",\"linecolor\":\"white\",\"showbackground\":true,\"ticks\":\"\",\"zerolinecolor\":\"white\",\"gridwidth\":2},\"yaxis\":{\"backgroundcolor\":\"#E5ECF6\",\"gridcolor\":\"white\",\"linecolor\":\"white\",\"showbackground\":true,\"ticks\":\"\",\"zerolinecolor\":\"white\",\"gridwidth\":2},\"zaxis\":{\"backgroundcolor\":\"#E5ECF6\",\"gridcolor\":\"white\",\"linecolor\":\"white\",\"showbackground\":true,\"ticks\":\"\",\"zerolinecolor\":\"white\",\"gridwidth\":2}},\"shapedefaults\":{\"line\":{\"color\":\"#2a3f5f\"}},\"annotationdefaults\":{\"arrowcolor\":\"#2a3f5f\",\"arrowhead\":0,\"arrowwidth\":1},\"geo\":{\"bgcolor\":\"white\",\"landcolor\":\"#E5ECF6\",\"subunitcolor\":\"white\",\"showland\":true,\"showlakes\":true,\"lakecolor\":\"white\"},\"title\":{\"x\":0.05},\"mapbox\":{\"style\":\"light\"}}},\"xaxis\":{\"anchor\":\"y\",\"domain\":[0.0,1.0],\"title\":{\"text\":\"PC1\"}},\"yaxis\":{\"anchor\":\"x\",\"domain\":[0.0,1.0],\"title\":{\"text\":\"PC2\"}},\"coloraxis\":{\"colorbar\":{\"title\":{\"text\":\"KMeans_Cluster_2D\"}},\"colorscale\":[[0.0,\"#0d0887\"],[0.1111111111111111,\"#46039f\"],[0.2222222222222222,\"#7201a8\"],[0.3333333333333333,\"#9c179e\"],[0.4444444444444444,\"#bd3786\"],[0.5555555555555556,\"#d8576b\"],[0.6666666666666666,\"#ed7953\"],[0.7777777777777778,\"#fb9f3a\"],[0.8888888888888888,\"#fdca26\"],[1.0,\"#f0f921\"]]},\"legend\":{\"tracegroupgap\":0},\"title\":{\"text\":\"KMeans Clustering in 2D\"}},                        {\"responsive\": true}                    ).then(function(){\n",
              "                            \n",
              "var gd = document.getElementById('571a2fff-7117-46d2-97da-0ebd7de61e3d');\n",
              "var x = new MutationObserver(function (mutations, observer) {{\n",
              "        var display = window.getComputedStyle(gd).display;\n",
              "        if (!display || display === 'none') {{\n",
              "            console.log([gd, 'removed!']);\n",
              "            Plotly.purge(gd);\n",
              "            observer.disconnect();\n",
              "        }}\n",
              "}});\n",
              "\n",
              "// Listen for the removal of the full notebook cells\n",
              "var notebookContainer = gd.closest('#notebook-container');\n",
              "if (notebookContainer) {{\n",
              "    x.observe(notebookContainer, {childList: true});\n",
              "}}\n",
              "\n",
              "// Listen for the clearing of the current output cell\n",
              "var outputEl = gd.closest('.output');\n",
              "if (outputEl) {{\n",
              "    x.observe(outputEl, {childList: true});\n",
              "}}\n",
              "\n",
              "                        })                };                            </script>        </div>\n",
              "</body>\n",
              "</html>"
            ]
          },
          "metadata": {}
        }
      ]
    },
    {
      "cell_type": "markdown",
      "metadata": {
        "id": "u-gS6pQkT3yc"
      },
      "source": [
        "### Interpretasi K-Means Clustering"
      ]
    },
    {
      "cell_type": "code",
      "source": [
        "df['KMeans_Cluster_2D'].value_counts()"
      ],
      "metadata": {
        "colab": {
          "base_uri": "https://localhost:8080/"
        },
        "id": "MERXr6ZSOiNJ",
        "outputId": "f94944ab-7651-40cb-b3bf-fc869d6e79a4"
      },
      "execution_count": null,
      "outputs": [
        {
          "output_type": "execute_result",
          "data": {
            "text/plain": [
              "KMeans_Cluster_2D\n",
              "3    137\n",
              "0     61\n",
              "2     39\n",
              "1     18\n",
              "Name: count, dtype: int64"
            ]
          },
          "metadata": {},
          "execution_count": 32
        }
      ]
    },
    {
      "cell_type": "code",
      "execution_count": null,
      "metadata": {
        "colab": {
          "base_uri": "https://localhost:8080/"
        },
        "id": "j_hx4QQTS6zj",
        "outputId": "c358e73b-fe2f-4fc7-d8f3-1b5bb405d429"
      },
      "outputs": [
        {
          "output_type": "stream",
          "name": "stdout",
          "text": [
            "Cluster 1:\n",
            "            harga  reviews  rating  total_facilities  KMeans_Cluster_2D\n",
            "count       61.00    61.00   61.00             61.00               61.0\n",
            "mean   1976745.26   369.03    8.69              4.16                0.0\n",
            "std     744758.79   397.62    0.22              1.57                0.0\n",
            "min     567273.00     8.00    8.10              1.00                0.0\n",
            "25%    1444724.00    58.00    8.50              3.00                0.0\n",
            "50%    1826446.00   246.00    8.70              5.00                0.0\n",
            "75%    2541322.00   496.00    8.90              5.00                0.0\n",
            "max    4132231.00  1600.00    9.10              6.00                0.0\n",
            "Cluster 2:\n",
            "             harga  reviews  rating  total_facilities  KMeans_Cluster_2D\n",
            "count        18.00    18.00   18.00             18.00               18.0\n",
            "mean    5708495.44   271.33    8.78              4.50                1.0\n",
            "std     2410261.36   326.86    0.33              1.54                0.0\n",
            "min     3751148.00     5.00    7.90              1.00                1.0\n",
            "25%     4295353.00    43.00    8.70              4.00                1.0\n",
            "50%     4963016.50   145.00    8.85              5.00                1.0\n",
            "75%     6136596.00   285.00    8.98              6.00                1.0\n",
            "max    13708772.00   968.00    9.20              6.00                1.0\n",
            "Cluster 3:\n",
            "            harga   reviews  rating  total_facilities  KMeans_Cluster_2D\n",
            "count       39.00     39.00   39.00             39.00               39.0\n",
            "mean    614669.00   3110.26    8.57              4.67                2.0\n",
            "std     222078.13   1518.97    0.19              1.63                0.0\n",
            "min     251317.00   1500.00    8.00              1.00                2.0\n",
            "25%     463161.00   2200.00    8.45              3.50                2.0\n",
            "50%     639669.00   2700.00    8.60              5.00                2.0\n",
            "75%     720403.00   3600.00    8.70              6.00                2.0\n",
            "max    1140496.00  10000.00    9.00              6.00                2.0\n",
            "Cluster 4:\n",
            "            harga  reviews  rating  total_facilities  KMeans_Cluster_2D\n",
            "count      137.00   137.00  137.00            137.00              137.0\n",
            "mean    513285.24   558.69    8.32              3.54                3.0\n",
            "std     318508.54   496.28    0.35              1.82                0.0\n",
            "min      66116.00     7.00    7.10              1.00                3.0\n",
            "25%     289256.00   121.00    8.10              2.00                3.0\n",
            "50%     436240.00   403.00    8.40              3.00                3.0\n",
            "75%     663461.00   915.00    8.60              5.00                3.0\n",
            "max    1510331.00  1800.00    8.90              6.00                3.0\n"
          ]
        }
      ],
      "source": [
        "df_kmeans = df.copy()\n",
        "df_kmeans = df_kmeans[['harga', 'reviews', 'rating', 'total_facilities', 'KMeans_Cluster_2D']]\n",
        "\n",
        "for cluster in range(n_clusters):\n",
        "    cluster_data = df_kmeans[df_kmeans['KMeans_Cluster_2D'] == cluster]\n",
        "    print(f\"Cluster {cluster + 1}:\")\n",
        "    print(cluster_data.describe().round(2))"
      ]
    },
    {
      "cell_type": "markdown",
      "source": [
        "Berikut ini merupakan nilai rata-rata dari masing-masing variabel (harga, rating, dan total fasilitas) berdasarkan hasil clustering dua dimensi yang telah dilakukan. Dari statistika deskriptif nilai rata-rata diatas, dapat dikatakan bahwa semakin tinggi harga hotel maka rating yang didapatkan akan sepadan atau tinggi. Walaupun jumlah fasilitas yang banyak tidak menjadi penentu harga dari sebuah hotel maupun alasan utama pelanggan dalam memilih hotel berdasarkan ratingnya. Berdasarkan jumlah anggota setiap klasternya, didapatkan juga bahwa hotel yang paling banyak diminati oleh pelanggan adalah pada klaster 4. Klaster ini mewakili hotel-hotel dengan harga yang cukup murah atau terjangkau dengan rating dan fasilitas yang cukup baik."
      ],
      "metadata": {
        "id": "4ByKyYbEw34P"
      }
    },
    {
      "cell_type": "code",
      "source": [
        "sns.set(style=\"whitegrid\")\n",
        "\n",
        "# Plot untuk melihat distribusi harga berdasarkan cluster\n",
        "plt.figure(figsize=(12, 6))\n",
        "sns.boxplot(x='KMeans_Cluster_2D', y='harga', data=df_kmeans)\n",
        "plt.title('Distribusi Harga berdasarkan Cluster')\n",
        "plt.xlabel('Cluster')\n",
        "plt.ylabel('Harga')\n",
        "plt.show()"
      ],
      "metadata": {
        "colab": {
          "base_uri": "https://localhost:8080/",
          "height": 577
        },
        "id": "AGkBBiABZkCN",
        "outputId": "40e5fa8e-6b06-4055-aa89-b230cd43be93"
      },
      "execution_count": null,
      "outputs": [
        {
          "output_type": "display_data",
          "data": {
            "text/plain": [
              "<Figure size 1200x600 with 1 Axes>"
            ],
            "image/png": "[encoded data removed]"
          },
          "metadata": {}
        }
      ]
    },
    {
      "cell_type": "markdown",
      "metadata": {
        "id": "bgW6Kn5UDOmF"
      },
      "source": [
        "## DBSCAN Clustering"
      ]
    },
    {
      "cell_type": "code",
      "execution_count": null,
      "metadata": {
        "colab": {
          "base_uri": "https://localhost:8080/"
        },
        "id": "0-RXoVsEhQAw",
        "outputId": "ba6b3b37-bb5a-40ee-cf74-5c4632b2146b"
      },
      "outputs": [
        {
          "output_type": "stream",
          "name": "stdout",
          "text": [
            "Collecting kneed\n",
            "  Downloading kneed-0.8.5-py3-none-any.whl (10 kB)\n",
            "Requirement already satisfied: numpy>=1.14.2 in /usr/local/lib/python3.10/dist-packages (from kneed) (1.25.2)\n",
            "Requirement already satisfied: scipy>=1.0.0 in /usr/local/lib/python3.10/dist-packages (from kneed) (1.11.4)\n",
            "Installing collected packages: kneed\n",
            "Successfully installed kneed-0.8.5\n"
          ]
        }
      ],
      "source": [
        "pip install kneed"
      ]
    },
    {
      "cell_type": "markdown",
      "source": [
        "### DBSCAN Visualisasi 2D"
      ],
      "metadata": {
        "id": "-LRE0K0WtHdb"
      }
    },
    {
      "cell_type": "code",
      "source": [
        "from sklearn.metrics import silhouette_score\n",
        "import numpy as np\n",
        "import pandas as pd\n",
        "from sklearn.cluster import DBSCAN\n",
        "import matplotlib.pyplot as plt\n",
        "from sklearn.neighbors import NearestNeighbors\n",
        "from scipy.spatial import ConvexHull, QhullError\n",
        "from kneed import KneeLocator\n",
        "\n",
        "df_2d = df_pca.copy()  # Salin data PCA\n",
        "\n",
        "# Coba beberapa nilai min_samples dan evaluasi hasilnya\n",
        "min_samples_values = [3, 5]\n",
        "best_silhouette_score = -1\n",
        "best_min_samples = min_samples_values[0]\n",
        "\n",
        "for min_samples in min_samples_values:\n",
        "    neighbors = NearestNeighbors(n_neighbors=min_samples)\n",
        "    neighbors_fit = neighbors.fit(df_2d.to_numpy())\n",
        "    distances, indices = neighbors_fit.kneighbors(df_2d)\n",
        "\n",
        "    # Sort the distances (of the k-th nearest neighbor)\n",
        "    distances = np.sort(distances[:, min_samples - 1])\n",
        "\n",
        "    # Menggunakan Kneedle untuk menemukan eps optimal\n",
        "    kneedle = KneeLocator(range(len(distances)), distances, S=1.0, curve='convex', direction='increasing')\n",
        "    optimal_eps = distances[kneedle.elbow]\n",
        "\n",
        "    # Terapkan DBSCAN dengan nilai eps optimal\n",
        "    db = DBSCAN(eps=optimal_eps, min_samples=min_samples).fit(df_2d)\n",
        "    labels_dbscan_2d = db.labels_\n",
        "\n",
        "    # Hitung silhouette score untuk cluster yang dihasilkan\n",
        "    if len(set(labels_dbscan_2d)) > 1:\n",
        "        silhouette_avg = silhouette_score(df_2d, labels_dbscan_2d)\n",
        "        print(f\"min_samples: {min_samples}, Silhouette Score: {silhouette_avg:.4f}\")\n",
        "        if silhouette_avg > best_silhouette_score:\n",
        "            best_silhouette_score = silhouette_avg\n",
        "            best_min_samples = min_samples\n",
        "\n",
        "print(f\"Best min_samples: {best_min_samples} with Silhouette Score: {best_silhouette_score:.4f}\")\n"
      ],
      "metadata": {
        "colab": {
          "base_uri": "https://localhost:8080/"
        },
        "id": "YglxBJc8fMOi",
        "outputId": "594f47fe-40af-49d0-b226-466ebf6de23d"
      },
      "execution_count": null,
      "outputs": [
        {
          "output_type": "stream",
          "name": "stdout",
          "text": [
            "min_samples: 3, Silhouette Score: 0.5654\n",
            "min_samples: 5, Silhouette Score: 0.6034\n",
            "Best min_samples: 5 with Silhouette Score: 0.6034\n"
          ]
        },
        {
          "output_type": "stream",
          "name": "stderr",
          "text": [
            "/usr/local/lib/python3.10/dist-packages/sklearn/base.py:432: UserWarning:\n",
            "\n",
            "X has feature names, but NearestNeighbors was fitted without feature names\n",
            "\n",
            "/usr/local/lib/python3.10/dist-packages/sklearn/base.py:432: UserWarning:\n",
            "\n",
            "X has feature names, but NearestNeighbors was fitted without feature names\n",
            "\n"
          ]
        }
      ]
    },
    {
      "cell_type": "code",
      "execution_count": null,
      "metadata": {
        "colab": {
          "base_uri": "https://localhost:8080/",
          "height": 846
        },
        "id": "K8psA0q7gC_P",
        "outputId": "f29aae99-c7ed-4568-b0fb-d25799795931"
      },
      "outputs": [
        {
          "output_type": "stream",
          "name": "stderr",
          "text": [
            "/usr/local/lib/python3.10/dist-packages/sklearn/base.py:432: UserWarning:\n",
            "\n",
            "X has feature names, but NearestNeighbors was fitted without feature names\n",
            "\n",
            "<ipython-input-38-27875caa6fe7>:31: SettingWithCopyWarning:\n",
            "\n",
            "\n",
            "A value is trying to be set on a copy of a slice from a DataFrame.\n",
            "Try using .loc[row_indexer,col_indexer] = value instead\n",
            "\n",
            "See the caveats in the documentation: https://pandas.pydata.org/pandas-docs/stable/user_guide/indexing.html#returning-a-view-versus-a-copy\n",
            "\n"
          ]
        },
        {
          "output_type": "stream",
          "name": "stdout",
          "text": [
            "Estimated number of clusters: 4\n",
            "Estimated number of noise points: 4\n",
            "Estimated number of epsilon:  0.71\n"
          ]
        },
        {
          "output_type": "display_data",
          "data": {
            "text/plain": [
              "<Figure size 2000x800 with 1 Axes>"
            ],
            "image/png": "[encoded data removed]"
          },
          "metadata": {}
        }
      ],
      "source": [
        "import numpy as np\n",
        "import pandas as pd\n",
        "from sklearn.cluster import DBSCAN\n",
        "import matplotlib.pyplot as plt\n",
        "from sklearn.neighbors import NearestNeighbors\n",
        "from scipy.spatial import ConvexHull, QhullError\n",
        "from kneed import KneeLocator\n",
        "\n",
        "# Asumsikan df_pca sudah ada dan merupakan DataFrame yang sudah di PCA\n",
        "# df_2d adalah hasil dari PCA dengan dua komponen utama\n",
        "\n",
        "# Menentukan eps menggunakan k-distance graph\n",
        "min_samples = 5\n",
        "\n",
        "neighbors = NearestNeighbors(n_neighbors=min_samples)\n",
        "neighbors_fit = neighbors.fit(df_2d.to_numpy())\n",
        "distances, indices = neighbors_fit.kneighbors(df_2d)\n",
        "\n",
        "# Sort the distances (of the k-th nearest neighbor)\n",
        "distances = np.sort(distances[:, min_samples - 1])\n",
        "\n",
        "# Menggunakan algoritma Kneedle untuk menemukan eps optimal\n",
        "kneedle = KneeLocator(range(len(distances)), distances, S=1.0, curve='convex', direction='increasing')\n",
        "optimal_eps = distances[kneedle.elbow]\n",
        "\n",
        "# Menerapkan DBSCAN dengan nilai eps optimal\n",
        "db = DBSCAN(eps=optimal_eps, min_samples=min_samples).fit(df_2d)\n",
        "labels_dbscan_2d = db.labels_\n",
        "\n",
        "df_pca['DBSCAN_Cluster_2D'] = labels_dbscan_2d\n",
        "df['DBSCAN_Cluster_2D'] = labels_dbscan_2d\n",
        "\n",
        "# Jumlah cluster dan noise\n",
        "n_clusters = len(set(labels_dbscan_2d)) - (1 if -1 in labels_dbscan_2d else 0)\n",
        "n_noise = list(labels_dbscan_2d).count(-1)\n",
        "\n",
        "print('Estimated number of clusters: %d' % n_clusters)\n",
        "print('Estimated number of noise points: %d' % n_noise)\n",
        "print('Estimated number of epsilon: ', optimal_eps.round(2))\n",
        "\n",
        "# Visualisasikan cluster dengan convex hulls\n",
        "plt.figure(figsize=(20, 8))\n",
        "\n",
        "unique_labels = set(labels_dbscan_2d)\n",
        "colors = [plt.cm.Spectral(each) for each in np.linspace(0, 1, len(unique_labels))]\n",
        "\n",
        "for k, col in zip(unique_labels, colors):\n",
        "    if k == -1:\n",
        "        # Black used for noise.\n",
        "        col = [0, 0, 0, 1]\n",
        "\n",
        "    class_member_mask = (labels_dbscan_2d == k)\n",
        "    xy = df_2d[class_member_mask].to_numpy()\n",
        "\n",
        "    plt.scatter(xy[:, 0], xy[:, 1], s=50, color=tuple(col), label=f'Cluster {k}' if k != -1 else 'Noise')\n",
        "\n",
        "    if k != -1 and len(xy) > 2:  # Pastikan ada cukup titik untuk membuat convex hull\n",
        "        try:\n",
        "            # Draw convex hull for each cluster\n",
        "            hull = ConvexHull(xy)\n",
        "            for simplex in hull.simplices:\n",
        "                plt.plot(xy[simplex, 0], xy[simplex, 1], color=tuple(col))\n",
        "        except QhullError as e:\n",
        "            pass\n",
        "\n",
        "plt.title('DBSCAN Clustering in 2D')\n",
        "plt.xlabel('PC1')\n",
        "plt.ylabel('PC2')\n",
        "plt.legend()\n",
        "plt.show()\n"
      ]
    },
    {
      "cell_type": "markdown",
      "source": [
        "Berdasarkan visualisasi DBSCAN Clustering 2D di atas antara PC1 dan PC2, didapatkan 4 klaster serta beberapa titik noise. Klaster 0 memiliki nilai PC1 dan PC2 yang bervariasi dengan konsentrasi utama pada nilai PC1 negatif dan nilai PC2 berkisar antara negatif hingga positif sedang. Hal ini mengindikasikan bahwa hotel-hotel dalam klaster ini cenderung memiliki harga yang terjangkau, rating yang beragam, jumlah reviewer yang sedang, dan fasilitas yang memadai.\n",
        "\n",
        "Klaster 1 terpusat pada nilai PC1 rendah hingga positif dan nilai PC2 negatif hingga sedikit positif, menunjukkan bahwa hotel-hotel dalam klaster ini memiliki harga yang lebih tinggi, rating yang baik, dan fasilitas yang lebih lengkap dibandingkan dengan klaster lain.\n",
        "\n",
        "Klaster 2 memiliki nilai PC1 positif dan nilai PC2 yang sangat rendah hingga sedikit positif, mengindikasikan bahwa hotel-hotel dalam klaster ini memiliki harga yang lebih terjangkau, rating yang lebih rendah, jumlah reviewer yang lebih sedikit, dan fasilitas yang lebih dasar.\n",
        "\n",
        "Klaster 3 memiliki nilai PC1 yang positif dengan rentang nilai PC2 yang rendah, mengindikasikan bahwa hotel-hotel dalam klaster ini cenderung memiliki kombinasi harga, rating, jumlah reviewer, dan fasilitas yang beragam namun tetap memiliki kesamaan tertentu yang membedakan mereka dari klaster lainnya.\n",
        "\n",
        "Selain itu, terdapat beberapa titik noise yang tidak termasuk dalam klaster manapun, yang kemungkinan merupakan hotel-hotel dengan karakteristik yang sangat berbeda atau data yang tidak konsisten. Dengan demikian, analisis clustering ini memberikan wawasan yang jelas mengenai segmentasi hotel-hotel di Pulau Bali berdasarkan harga, rating, jumlah reviewer, dan fasilitas.\n"
      ],
      "metadata": {
        "id": "BreOe7KW0EFQ"
      }
    },
    {
      "cell_type": "markdown",
      "source": [
        "### Interpretasi DSBSCAN Clustering"
      ],
      "metadata": {
        "id": "t3Ajpkk_tOSP"
      }
    },
    {
      "cell_type": "code",
      "source": [
        "df['DBSCAN_Cluster_2D'].value_counts()"
      ],
      "metadata": {
        "id": "9xsbF64xL4v8",
        "colab": {
          "base_uri": "https://localhost:8080/"
        },
        "outputId": "24392d56-58f4-411b-88ce-83f7e54bccfa"
      },
      "execution_count": null,
      "outputs": [
        {
          "output_type": "execute_result",
          "data": {
            "text/plain": [
              "DBSCAN_Cluster_2D\n",
              " 1    137\n",
              " 2     61\n",
              " 0     37\n",
              " 3     16\n",
              "-1      4\n",
              "Name: count, dtype: int64"
            ]
          },
          "metadata": {},
          "execution_count": 39
        }
      ]
    },
    {
      "cell_type": "code",
      "source": [
        "df_dbscan = df.copy()\n",
        "df_dbscan = df_dbscan[['harga', 'reviews', 'rating', 'total_facilities', 'DBSCAN_Cluster_2D']]\n",
        "\n",
        "n_cluster = 4\n",
        "for cluster in range(n_cluster):\n",
        "    cluster_data_dbscan = df_dbscan[df_dbscan['DBSCAN_Cluster_2D'] == cluster]\n",
        "    print(f\"Cluster {cluster + 1}:\")\n",
        "    print(cluster_data_dbscan.describe().round(2))"
      ],
      "metadata": {
        "id": "IOVhwwXPK83Y",
        "colab": {
          "base_uri": "https://localhost:8080/"
        },
        "outputId": "24ff30d5-8419-489e-d569-adae4dc03508"
      },
      "execution_count": null,
      "outputs": [
        {
          "output_type": "stream",
          "name": "stdout",
          "text": [
            "Cluster 1:\n",
            "            harga  reviews  rating  total_facilities  DBSCAN_Cluster_2D\n",
            "count       37.00    37.00   37.00             37.00               37.0\n",
            "mean    612447.62  2856.76    8.56              4.68                0.0\n",
            "std     227922.07   937.35    0.19              1.63                0.0\n",
            "min     251317.00  1500.00    8.00              1.00                0.0\n",
            "25%     448636.00  2100.00    8.40              4.00                0.0\n",
            "50%     604215.00  2700.00    8.60              5.00                0.0\n",
            "75%     734194.00  3100.00    8.70              6.00                0.0\n",
            "max    1140496.00  5300.00    9.00              6.00                0.0\n",
            "Cluster 2:\n",
            "            harga  reviews  rating  total_facilities  DBSCAN_Cluster_2D\n",
            "count      137.00   137.00  137.00            137.00              137.0\n",
            "mean    513285.24   558.69    8.32              3.54                1.0\n",
            "std     318508.54   496.28    0.35              1.82                0.0\n",
            "min      66116.00     7.00    7.10              1.00                1.0\n",
            "25%     289256.00   121.00    8.10              2.00                1.0\n",
            "50%     436240.00   403.00    8.40              3.00                1.0\n",
            "75%     663461.00   915.00    8.60              5.00                1.0\n",
            "max    1510331.00  1800.00    8.90              6.00                1.0\n",
            "Cluster 3:\n",
            "            harga  reviews  rating  total_facilities  DBSCAN_Cluster_2D\n",
            "count       61.00    61.00   61.00             61.00               61.0\n",
            "mean   1976745.26   369.03    8.69              4.16                2.0\n",
            "std     744758.79   397.62    0.22              1.57                0.0\n",
            "min     567273.00     8.00    8.10              1.00                2.0\n",
            "25%    1444724.00    58.00    8.50              3.00                2.0\n",
            "50%    1826446.00   246.00    8.70              5.00                2.0\n",
            "75%    2541322.00   496.00    8.90              5.00                2.0\n",
            "max    4132231.00  1600.00    9.10              6.00                2.0\n",
            "Cluster 4:\n",
            "            harga  reviews  rating  total_facilities  DBSCAN_Cluster_2D\n",
            "count       16.00    16.00   16.00             16.00               16.0\n",
            "mean   4983063.62   243.94    8.78              4.69                3.0\n",
            "std     942580.60   288.92    0.35              1.49                0.0\n",
            "min    3751148.00     5.00    7.90              1.00                3.0\n",
            "25%    4253809.50    55.00    8.70              4.00                3.0\n",
            "50%    4688859.00   145.00    8.85              5.00                3.0\n",
            "75%    5602317.00   265.00    9.00              6.00                3.0\n",
            "max    6832244.00   827.00    9.20              6.00                3.0\n"
          ]
        }
      ]
    },
    {
      "cell_type": "code",
      "source": [
        "sns.set(style=\"whitegrid\")\n",
        "\n",
        "# Plot untuk melihat distribusi harga berdasarkan cluster\n",
        "plt.figure(figsize=(12, 6))\n",
        "sns.boxplot(x='DBSCAN_Cluster_2D', y='harga', data=df_dbscan)\n",
        "plt.title('Distribusi Harga berdasarkan Cluster')\n",
        "plt.xlabel('Cluster')\n",
        "plt.ylabel('Harga')\n",
        "plt.show()"
      ],
      "metadata": {
        "id": "8qPhVfivDRZS",
        "colab": {
          "base_uri": "https://localhost:8080/",
          "height": 577
        },
        "outputId": "3fc4f344-1382-487a-f8c7-14da0236a9cd"
      },
      "execution_count": null,
      "outputs": [
        {
          "output_type": "display_data",
          "data": {
            "text/plain": [
              "<Figure size 1200x600 with 1 Axes>"
            ],
            "image/png": "[encoded data removed]"
          },
          "metadata": {}
        }
      ]
    }
  ],
  "metadata": {
    "colab": {
      "provenance": []
    },
    "kernelspec": {
      "display_name": "Python 3",
      "name": "python3"
    },
    "language_info": {
      "name": "python"
    }
  },
  "nbformat": 4,
  "nbformat_minor": 0
}